{
 "cells": [
  {
   "cell_type": "code",
   "execution_count": 1,
   "id": "5fc2c94b",
   "metadata": {},
   "outputs": [],
   "source": [
    "import pandas as pd\n",
    "import numpy as np\n",
    "import matplotlib.pyplot as plt\n",
    "import seaborn as sns\n",
    "%matplotlib inline"
   ]
  },
  {
   "cell_type": "markdown",
   "id": "e83e6a02",
   "metadata": {},
   "source": [
    "A very, very quick attempt at K Nearest Neighbors, just to see how that treats us."
   ]
  },
  {
   "cell_type": "code",
   "execution_count": null,
   "id": "aa1f0e47",
   "metadata": {},
   "outputs": [],
   "source": []
  },
  {
   "cell_type": "code",
   "execution_count": 2,
   "id": "cc438b7b",
   "metadata": {},
   "outputs": [],
   "source": [
    "df = pd.read_csv('cleaned_datasets/creatures_transformed.csv', index_col=0)"
   ]
  },
  {
   "cell_type": "code",
   "execution_count": 3,
   "id": "7b5672a1",
   "metadata": {},
   "outputs": [
    {
     "data": {
      "text/html": [
       "<div>\n",
       "<style scoped>\n",
       "    .dataframe tbody tr th:only-of-type {\n",
       "        vertical-align: middle;\n",
       "    }\n",
       "\n",
       "    .dataframe tbody tr th {\n",
       "        vertical-align: top;\n",
       "    }\n",
       "\n",
       "    .dataframe thead th {\n",
       "        text-align: right;\n",
       "    }\n",
       "</style>\n",
       "<table border=\"1\" class=\"dataframe\">\n",
       "  <thead>\n",
       "    <tr style=\"text-align: right;\">\n",
       "      <th></th>\n",
       "      <th>name</th>\n",
       "      <th>colors</th>\n",
       "      <th>manaValue</th>\n",
       "      <th>power</th>\n",
       "      <th>toughness</th>\n",
       "      <th>Adamant</th>\n",
       "      <th>Adapt</th>\n",
       "      <th>Afflict</th>\n",
       "      <th>Afterlife</th>\n",
       "      <th>Alliance</th>\n",
       "      <th>...</th>\n",
       "      <th>Weird</th>\n",
       "      <th>Werewolf</th>\n",
       "      <th>Whale</th>\n",
       "      <th>Wizard</th>\n",
       "      <th>Wolf</th>\n",
       "      <th>Wolverine</th>\n",
       "      <th>Worm</th>\n",
       "      <th>Wurm</th>\n",
       "      <th>Yeti</th>\n",
       "      <th>Zombie</th>\n",
       "    </tr>\n",
       "  </thead>\n",
       "  <tbody>\n",
       "    <tr>\n",
       "      <th>0</th>\n",
       "      <td>Aeronaut Admiral</td>\n",
       "      <td>W</td>\n",
       "      <td>4.0</td>\n",
       "      <td>3.0</td>\n",
       "      <td>1.0</td>\n",
       "      <td>0</td>\n",
       "      <td>0</td>\n",
       "      <td>0</td>\n",
       "      <td>0</td>\n",
       "      <td>0</td>\n",
       "      <td>...</td>\n",
       "      <td>0</td>\n",
       "      <td>0</td>\n",
       "      <td>0</td>\n",
       "      <td>0</td>\n",
       "      <td>0</td>\n",
       "      <td>0</td>\n",
       "      <td>0</td>\n",
       "      <td>0</td>\n",
       "      <td>0</td>\n",
       "      <td>0</td>\n",
       "    </tr>\n",
       "    <tr>\n",
       "      <th>1</th>\n",
       "      <td>Aether Inspector</td>\n",
       "      <td>W</td>\n",
       "      <td>4.0</td>\n",
       "      <td>2.0</td>\n",
       "      <td>3.0</td>\n",
       "      <td>0</td>\n",
       "      <td>0</td>\n",
       "      <td>0</td>\n",
       "      <td>0</td>\n",
       "      <td>0</td>\n",
       "      <td>...</td>\n",
       "      <td>0</td>\n",
       "      <td>0</td>\n",
       "      <td>0</td>\n",
       "      <td>0</td>\n",
       "      <td>0</td>\n",
       "      <td>0</td>\n",
       "      <td>0</td>\n",
       "      <td>0</td>\n",
       "      <td>0</td>\n",
       "      <td>0</td>\n",
       "    </tr>\n",
       "    <tr>\n",
       "      <th>2</th>\n",
       "      <td>Aethergeode Miner</td>\n",
       "      <td>W</td>\n",
       "      <td>2.0</td>\n",
       "      <td>3.0</td>\n",
       "      <td>1.0</td>\n",
       "      <td>0</td>\n",
       "      <td>0</td>\n",
       "      <td>0</td>\n",
       "      <td>0</td>\n",
       "      <td>0</td>\n",
       "      <td>...</td>\n",
       "      <td>0</td>\n",
       "      <td>0</td>\n",
       "      <td>0</td>\n",
       "      <td>0</td>\n",
       "      <td>0</td>\n",
       "      <td>0</td>\n",
       "      <td>0</td>\n",
       "      <td>0</td>\n",
       "      <td>0</td>\n",
       "      <td>0</td>\n",
       "    </tr>\n",
       "    <tr>\n",
       "      <th>3</th>\n",
       "      <td>Airdrop Aeronauts</td>\n",
       "      <td>W</td>\n",
       "      <td>5.0</td>\n",
       "      <td>4.0</td>\n",
       "      <td>3.0</td>\n",
       "      <td>0</td>\n",
       "      <td>0</td>\n",
       "      <td>0</td>\n",
       "      <td>0</td>\n",
       "      <td>0</td>\n",
       "      <td>...</td>\n",
       "      <td>0</td>\n",
       "      <td>0</td>\n",
       "      <td>0</td>\n",
       "      <td>0</td>\n",
       "      <td>0</td>\n",
       "      <td>0</td>\n",
       "      <td>0</td>\n",
       "      <td>0</td>\n",
       "      <td>0</td>\n",
       "      <td>0</td>\n",
       "    </tr>\n",
       "    <tr>\n",
       "      <th>4</th>\n",
       "      <td>Audacious Infiltrator</td>\n",
       "      <td>W</td>\n",
       "      <td>2.0</td>\n",
       "      <td>3.0</td>\n",
       "      <td>1.0</td>\n",
       "      <td>0</td>\n",
       "      <td>0</td>\n",
       "      <td>0</td>\n",
       "      <td>0</td>\n",
       "      <td>0</td>\n",
       "      <td>...</td>\n",
       "      <td>0</td>\n",
       "      <td>0</td>\n",
       "      <td>0</td>\n",
       "      <td>0</td>\n",
       "      <td>0</td>\n",
       "      <td>0</td>\n",
       "      <td>0</td>\n",
       "      <td>0</td>\n",
       "      <td>0</td>\n",
       "      <td>0</td>\n",
       "    </tr>\n",
       "  </tbody>\n",
       "</table>\n",
       "<p>5 rows × 285 columns</p>\n",
       "</div>"
      ],
      "text/plain": [
       "                    name colors  manaValue  power  toughness  Adamant  Adapt  \\\n",
       "0       Aeronaut Admiral      W        4.0    3.0        1.0        0      0   \n",
       "1       Aether Inspector      W        4.0    2.0        3.0        0      0   \n",
       "2      Aethergeode Miner      W        2.0    3.0        1.0        0      0   \n",
       "3      Airdrop Aeronauts      W        5.0    4.0        3.0        0      0   \n",
       "4  Audacious Infiltrator      W        2.0    3.0        1.0        0      0   \n",
       "\n",
       "   Afflict  Afterlife  Alliance  ...  Weird  Werewolf  Whale  Wizard  Wolf  \\\n",
       "0        0          0         0  ...      0         0      0       0     0   \n",
       "1        0          0         0  ...      0         0      0       0     0   \n",
       "2        0          0         0  ...      0         0      0       0     0   \n",
       "3        0          0         0  ...      0         0      0       0     0   \n",
       "4        0          0         0  ...      0         0      0       0     0   \n",
       "\n",
       "   Wolverine  Worm  Wurm  Yeti  Zombie  \n",
       "0          0     0     0     0       0  \n",
       "1          0     0     0     0       0  \n",
       "2          0     0     0     0       0  \n",
       "3          0     0     0     0       0  \n",
       "4          0     0     0     0       0  \n",
       "\n",
       "[5 rows x 285 columns]"
      ]
     },
     "execution_count": 3,
     "metadata": {},
     "output_type": "execute_result"
    }
   ],
   "source": [
    "df.head()"
   ]
  },
  {
   "cell_type": "code",
   "execution_count": 4,
   "id": "eff646e0",
   "metadata": {},
   "outputs": [
    {
     "data": {
      "text/plain": [
       "(3811, 285)"
      ]
     },
     "execution_count": 4,
     "metadata": {},
     "output_type": "execute_result"
    }
   ],
   "source": [
    "df.shape"
   ]
  },
  {
   "cell_type": "code",
   "execution_count": 5,
   "id": "b73c5348",
   "metadata": {},
   "outputs": [
    {
     "data": {
      "text/plain": [
       "array(['W', 'U', 'B', 'R', 'G', 'R, U', 'G, R', 'G, W', 'R, W', 'G, U',\n",
       "       'U, W', 'B, R', 'B, G', 'C', 'B, W', 'B, U', 'G, R, W',\n",
       "       'B, G, R, U, W', 'B, G, R', 'R, U, W', 'B, G, U', 'W, G',\n",
       "       'G, R, U', 'B, G, W', 'B, R, W', 'G, U, W', 'B, U, W', 'B, R, U',\n",
       "       'G, R, U, W'], dtype=object)"
      ]
     },
     "execution_count": 5,
     "metadata": {},
     "output_type": "execute_result"
    }
   ],
   "source": [
    "df.colors.unique()"
   ]
  },
  {
   "cell_type": "code",
   "execution_count": 6,
   "id": "ee3992d9",
   "metadata": {},
   "outputs": [],
   "source": [
    "df['numColors'] = df.colors.str.split(', ').str.len()"
   ]
  },
  {
   "cell_type": "code",
   "execution_count": 7,
   "id": "0885a8da",
   "metadata": {},
   "outputs": [],
   "source": [
    "df = df.query('numColors == 1')"
   ]
  },
  {
   "cell_type": "code",
   "execution_count": 8,
   "id": "0b50bccd",
   "metadata": {},
   "outputs": [
    {
     "data": {
      "text/plain": [
       "array(['W', 'U', 'B', 'R', 'G', 'C'], dtype=object)"
      ]
     },
     "execution_count": 8,
     "metadata": {},
     "output_type": "execute_result"
    }
   ],
   "source": [
    "df.colors.unique()"
   ]
  },
  {
   "cell_type": "code",
   "execution_count": 9,
   "id": "f7cff2f9",
   "metadata": {},
   "outputs": [],
   "source": [
    "df.drop(columns=['numColors', 'Creature'], inplace=True)"
   ]
  },
  {
   "cell_type": "code",
   "execution_count": 10,
   "id": "67fd4f32",
   "metadata": {},
   "outputs": [
    {
     "data": {
      "text/plain": [
       "(3257, 284)"
      ]
     },
     "execution_count": 10,
     "metadata": {},
     "output_type": "execute_result"
    }
   ],
   "source": [
    "df.shape"
   ]
  },
  {
   "cell_type": "markdown",
   "id": "b71d8afa",
   "metadata": {},
   "source": [
    "#### Standardize the variables"
   ]
  },
  {
   "cell_type": "code",
   "execution_count": 11,
   "id": "43bda13b",
   "metadata": {},
   "outputs": [],
   "source": [
    "from sklearn.preprocessing import StandardScaler"
   ]
  },
  {
   "cell_type": "code",
   "execution_count": 12,
   "id": "9aa027a9",
   "metadata": {},
   "outputs": [],
   "source": [
    "scaler = StandardScaler()"
   ]
  },
  {
   "cell_type": "code",
   "execution_count": null,
   "id": "35aa9c50",
   "metadata": {},
   "outputs": [],
   "source": []
  },
  {
   "cell_type": "code",
   "execution_count": 13,
   "id": "01ba73e5",
   "metadata": {},
   "outputs": [
    {
     "data": {
      "text/html": [
       "<style>#sk-container-id-1 {color: black;background-color: white;}#sk-container-id-1 pre{padding: 0;}#sk-container-id-1 div.sk-toggleable {background-color: white;}#sk-container-id-1 label.sk-toggleable__label {cursor: pointer;display: block;width: 100%;margin-bottom: 0;padding: 0.3em;box-sizing: border-box;text-align: center;}#sk-container-id-1 label.sk-toggleable__label-arrow:before {content: \"▸\";float: left;margin-right: 0.25em;color: #696969;}#sk-container-id-1 label.sk-toggleable__label-arrow:hover:before {color: black;}#sk-container-id-1 div.sk-estimator:hover label.sk-toggleable__label-arrow:before {color: black;}#sk-container-id-1 div.sk-toggleable__content {max-height: 0;max-width: 0;overflow: hidden;text-align: left;background-color: #f0f8ff;}#sk-container-id-1 div.sk-toggleable__content pre {margin: 0.2em;color: black;border-radius: 0.25em;background-color: #f0f8ff;}#sk-container-id-1 input.sk-toggleable__control:checked~div.sk-toggleable__content {max-height: 200px;max-width: 100%;overflow: auto;}#sk-container-id-1 input.sk-toggleable__control:checked~label.sk-toggleable__label-arrow:before {content: \"▾\";}#sk-container-id-1 div.sk-estimator input.sk-toggleable__control:checked~label.sk-toggleable__label {background-color: #d4ebff;}#sk-container-id-1 div.sk-label input.sk-toggleable__control:checked~label.sk-toggleable__label {background-color: #d4ebff;}#sk-container-id-1 input.sk-hidden--visually {border: 0;clip: rect(1px 1px 1px 1px);clip: rect(1px, 1px, 1px, 1px);height: 1px;margin: -1px;overflow: hidden;padding: 0;position: absolute;width: 1px;}#sk-container-id-1 div.sk-estimator {font-family: monospace;background-color: #f0f8ff;border: 1px dotted black;border-radius: 0.25em;box-sizing: border-box;margin-bottom: 0.5em;}#sk-container-id-1 div.sk-estimator:hover {background-color: #d4ebff;}#sk-container-id-1 div.sk-parallel-item::after {content: \"\";width: 100%;border-bottom: 1px solid gray;flex-grow: 1;}#sk-container-id-1 div.sk-label:hover label.sk-toggleable__label {background-color: #d4ebff;}#sk-container-id-1 div.sk-serial::before {content: \"\";position: absolute;border-left: 1px solid gray;box-sizing: border-box;top: 0;bottom: 0;left: 50%;z-index: 0;}#sk-container-id-1 div.sk-serial {display: flex;flex-direction: column;align-items: center;background-color: white;padding-right: 0.2em;padding-left: 0.2em;position: relative;}#sk-container-id-1 div.sk-item {position: relative;z-index: 1;}#sk-container-id-1 div.sk-parallel {display: flex;align-items: stretch;justify-content: center;background-color: white;position: relative;}#sk-container-id-1 div.sk-item::before, #sk-container-id-1 div.sk-parallel-item::before {content: \"\";position: absolute;border-left: 1px solid gray;box-sizing: border-box;top: 0;bottom: 0;left: 50%;z-index: -1;}#sk-container-id-1 div.sk-parallel-item {display: flex;flex-direction: column;z-index: 1;position: relative;background-color: white;}#sk-container-id-1 div.sk-parallel-item:first-child::after {align-self: flex-end;width: 50%;}#sk-container-id-1 div.sk-parallel-item:last-child::after {align-self: flex-start;width: 50%;}#sk-container-id-1 div.sk-parallel-item:only-child::after {width: 0;}#sk-container-id-1 div.sk-dashed-wrapped {border: 1px dashed gray;margin: 0 0.4em 0.5em 0.4em;box-sizing: border-box;padding-bottom: 0.4em;background-color: white;}#sk-container-id-1 div.sk-label label {font-family: monospace;font-weight: bold;display: inline-block;line-height: 1.2em;}#sk-container-id-1 div.sk-label-container {text-align: center;}#sk-container-id-1 div.sk-container {/* jupyter's `normalize.less` sets `[hidden] { display: none; }` but bootstrap.min.css set `[hidden] { display: none !important; }` so we also need the `!important` here to be able to override the default hidden behavior on the sphinx rendered scikit-learn.org. See: https://github.com/scikit-learn/scikit-learn/issues/21755 */display: inline-block !important;position: relative;}#sk-container-id-1 div.sk-text-repr-fallback {display: none;}</style><div id=\"sk-container-id-1\" class=\"sk-top-container\"><div class=\"sk-text-repr-fallback\"><pre>StandardScaler()</pre><b>In a Jupyter environment, please rerun this cell to show the HTML representation or trust the notebook. <br />On GitHub, the HTML representation is unable to render, please try loading this page with nbviewer.org.</b></div><div class=\"sk-container\" hidden><div class=\"sk-item\"><div class=\"sk-estimator sk-toggleable\"><input class=\"sk-toggleable__control sk-hidden--visually\" id=\"sk-estimator-id-1\" type=\"checkbox\" checked><label for=\"sk-estimator-id-1\" class=\"sk-toggleable__label sk-toggleable__label-arrow\">StandardScaler</label><div class=\"sk-toggleable__content\"><pre>StandardScaler()</pre></div></div></div></div></div>"
      ],
      "text/plain": [
       "StandardScaler()"
      ]
     },
     "execution_count": 13,
     "metadata": {},
     "output_type": "execute_result"
    }
   ],
   "source": [
    "scaler.fit(df.drop(columns=['name', 'colors']))"
   ]
  },
  {
   "cell_type": "code",
   "execution_count": 14,
   "id": "c21fed44",
   "metadata": {},
   "outputs": [],
   "source": [
    "scaled_features = scaler.transform(df.drop(columns=['name', 'colors']))"
   ]
  },
  {
   "cell_type": "code",
   "execution_count": 15,
   "id": "a4ea0597",
   "metadata": {},
   "outputs": [],
   "source": [
    "df_feat = pd.DataFrame(scaled_features, columns=df.columns[2:])"
   ]
  },
  {
   "cell_type": "code",
   "execution_count": 16,
   "id": "4eb94838",
   "metadata": {},
   "outputs": [
    {
     "data": {
      "text/html": [
       "<div>\n",
       "<style scoped>\n",
       "    .dataframe tbody tr th:only-of-type {\n",
       "        vertical-align: middle;\n",
       "    }\n",
       "\n",
       "    .dataframe tbody tr th {\n",
       "        vertical-align: top;\n",
       "    }\n",
       "\n",
       "    .dataframe thead th {\n",
       "        text-align: right;\n",
       "    }\n",
       "</style>\n",
       "<table border=\"1\" class=\"dataframe\">\n",
       "  <thead>\n",
       "    <tr style=\"text-align: right;\">\n",
       "      <th></th>\n",
       "      <th>manaValue</th>\n",
       "      <th>power</th>\n",
       "      <th>toughness</th>\n",
       "      <th>Adamant</th>\n",
       "      <th>Adapt</th>\n",
       "      <th>Afflict</th>\n",
       "      <th>Afterlife</th>\n",
       "      <th>Alliance</th>\n",
       "      <th>Amass</th>\n",
       "      <th>Ascend</th>\n",
       "      <th>...</th>\n",
       "      <th>Weird</th>\n",
       "      <th>Werewolf</th>\n",
       "      <th>Whale</th>\n",
       "      <th>Wizard</th>\n",
       "      <th>Wolf</th>\n",
       "      <th>Wolverine</th>\n",
       "      <th>Worm</th>\n",
       "      <th>Wurm</th>\n",
       "      <th>Yeti</th>\n",
       "      <th>Zombie</th>\n",
       "    </tr>\n",
       "  </thead>\n",
       "  <tbody>\n",
       "    <tr>\n",
       "      <th>0</th>\n",
       "      <td>0.361172</td>\n",
       "      <td>0.220293</td>\n",
       "      <td>-1.145997</td>\n",
       "      <td>-0.04641</td>\n",
       "      <td>-0.049622</td>\n",
       "      <td>-0.05264</td>\n",
       "      <td>-0.04641</td>\n",
       "      <td>-0.055496</td>\n",
       "      <td>-0.049622</td>\n",
       "      <td>-0.060811</td>\n",
       "      <td>...</td>\n",
       "      <td>-0.024788</td>\n",
       "      <td>-0.175203</td>\n",
       "      <td>-0.039211</td>\n",
       "      <td>-0.246804</td>\n",
       "      <td>-0.10865</td>\n",
       "      <td>-0.024788</td>\n",
       "      <td>-0.017525</td>\n",
       "      <td>-0.072436</td>\n",
       "      <td>-0.017525</td>\n",
       "      <td>-0.220489</td>\n",
       "    </tr>\n",
       "    <tr>\n",
       "      <th>1</th>\n",
       "      <td>0.361172</td>\n",
       "      <td>-0.398771</td>\n",
       "      <td>0.081803</td>\n",
       "      <td>-0.04641</td>\n",
       "      <td>-0.049622</td>\n",
       "      <td>-0.05264</td>\n",
       "      <td>-0.04641</td>\n",
       "      <td>-0.055496</td>\n",
       "      <td>-0.049622</td>\n",
       "      <td>-0.060811</td>\n",
       "      <td>...</td>\n",
       "      <td>-0.024788</td>\n",
       "      <td>-0.175203</td>\n",
       "      <td>-0.039211</td>\n",
       "      <td>-0.246804</td>\n",
       "      <td>-0.10865</td>\n",
       "      <td>-0.024788</td>\n",
       "      <td>-0.017525</td>\n",
       "      <td>-0.072436</td>\n",
       "      <td>-0.017525</td>\n",
       "      <td>-0.220489</td>\n",
       "    </tr>\n",
       "    <tr>\n",
       "      <th>2</th>\n",
       "      <td>-0.860361</td>\n",
       "      <td>0.220293</td>\n",
       "      <td>-1.145997</td>\n",
       "      <td>-0.04641</td>\n",
       "      <td>-0.049622</td>\n",
       "      <td>-0.05264</td>\n",
       "      <td>-0.04641</td>\n",
       "      <td>-0.055496</td>\n",
       "      <td>-0.049622</td>\n",
       "      <td>-0.060811</td>\n",
       "      <td>...</td>\n",
       "      <td>-0.024788</td>\n",
       "      <td>-0.175203</td>\n",
       "      <td>-0.039211</td>\n",
       "      <td>-0.246804</td>\n",
       "      <td>-0.10865</td>\n",
       "      <td>-0.024788</td>\n",
       "      <td>-0.017525</td>\n",
       "      <td>-0.072436</td>\n",
       "      <td>-0.017525</td>\n",
       "      <td>-0.220489</td>\n",
       "    </tr>\n",
       "    <tr>\n",
       "      <th>3</th>\n",
       "      <td>0.971938</td>\n",
       "      <td>0.839358</td>\n",
       "      <td>0.081803</td>\n",
       "      <td>-0.04641</td>\n",
       "      <td>-0.049622</td>\n",
       "      <td>-0.05264</td>\n",
       "      <td>-0.04641</td>\n",
       "      <td>-0.055496</td>\n",
       "      <td>-0.049622</td>\n",
       "      <td>-0.060811</td>\n",
       "      <td>...</td>\n",
       "      <td>-0.024788</td>\n",
       "      <td>-0.175203</td>\n",
       "      <td>-0.039211</td>\n",
       "      <td>-0.246804</td>\n",
       "      <td>-0.10865</td>\n",
       "      <td>-0.024788</td>\n",
       "      <td>-0.017525</td>\n",
       "      <td>-0.072436</td>\n",
       "      <td>-0.017525</td>\n",
       "      <td>-0.220489</td>\n",
       "    </tr>\n",
       "    <tr>\n",
       "      <th>4</th>\n",
       "      <td>-0.860361</td>\n",
       "      <td>0.220293</td>\n",
       "      <td>-1.145997</td>\n",
       "      <td>-0.04641</td>\n",
       "      <td>-0.049622</td>\n",
       "      <td>-0.05264</td>\n",
       "      <td>-0.04641</td>\n",
       "      <td>-0.055496</td>\n",
       "      <td>-0.049622</td>\n",
       "      <td>-0.060811</td>\n",
       "      <td>...</td>\n",
       "      <td>-0.024788</td>\n",
       "      <td>-0.175203</td>\n",
       "      <td>-0.039211</td>\n",
       "      <td>-0.246804</td>\n",
       "      <td>-0.10865</td>\n",
       "      <td>-0.024788</td>\n",
       "      <td>-0.017525</td>\n",
       "      <td>-0.072436</td>\n",
       "      <td>-0.017525</td>\n",
       "      <td>-0.220489</td>\n",
       "    </tr>\n",
       "  </tbody>\n",
       "</table>\n",
       "<p>5 rows × 282 columns</p>\n",
       "</div>"
      ],
      "text/plain": [
       "   manaValue     power  toughness  Adamant     Adapt  Afflict  Afterlife  \\\n",
       "0   0.361172  0.220293  -1.145997 -0.04641 -0.049622 -0.05264   -0.04641   \n",
       "1   0.361172 -0.398771   0.081803 -0.04641 -0.049622 -0.05264   -0.04641   \n",
       "2  -0.860361  0.220293  -1.145997 -0.04641 -0.049622 -0.05264   -0.04641   \n",
       "3   0.971938  0.839358   0.081803 -0.04641 -0.049622 -0.05264   -0.04641   \n",
       "4  -0.860361  0.220293  -1.145997 -0.04641 -0.049622 -0.05264   -0.04641   \n",
       "\n",
       "   Alliance     Amass    Ascend  ...     Weird  Werewolf     Whale    Wizard  \\\n",
       "0 -0.055496 -0.049622 -0.060811  ... -0.024788 -0.175203 -0.039211 -0.246804   \n",
       "1 -0.055496 -0.049622 -0.060811  ... -0.024788 -0.175203 -0.039211 -0.246804   \n",
       "2 -0.055496 -0.049622 -0.060811  ... -0.024788 -0.175203 -0.039211 -0.246804   \n",
       "3 -0.055496 -0.049622 -0.060811  ... -0.024788 -0.175203 -0.039211 -0.246804   \n",
       "4 -0.055496 -0.049622 -0.060811  ... -0.024788 -0.175203 -0.039211 -0.246804   \n",
       "\n",
       "      Wolf  Wolverine      Worm      Wurm      Yeti    Zombie  \n",
       "0 -0.10865  -0.024788 -0.017525 -0.072436 -0.017525 -0.220489  \n",
       "1 -0.10865  -0.024788 -0.017525 -0.072436 -0.017525 -0.220489  \n",
       "2 -0.10865  -0.024788 -0.017525 -0.072436 -0.017525 -0.220489  \n",
       "3 -0.10865  -0.024788 -0.017525 -0.072436 -0.017525 -0.220489  \n",
       "4 -0.10865  -0.024788 -0.017525 -0.072436 -0.017525 -0.220489  \n",
       "\n",
       "[5 rows x 282 columns]"
      ]
     },
     "execution_count": 16,
     "metadata": {},
     "output_type": "execute_result"
    }
   ],
   "source": [
    "df_feat.head()"
   ]
  },
  {
   "cell_type": "markdown",
   "id": "c6c737da",
   "metadata": {},
   "source": [
    "#### Train-Test-Split"
   ]
  },
  {
   "cell_type": "code",
   "execution_count": 17,
   "id": "51b1619a",
   "metadata": {},
   "outputs": [],
   "source": [
    "from sklearn.model_selection import train_test_split"
   ]
  },
  {
   "cell_type": "code",
   "execution_count": 18,
   "id": "9839f3a8",
   "metadata": {},
   "outputs": [],
   "source": [
    "X_train, X_test, y_train, y_test = train_test_split(scaled_features, df['colors'], test_size=0.33, random_state=101)"
   ]
  },
  {
   "cell_type": "code",
   "execution_count": null,
   "id": "7c4ba960",
   "metadata": {},
   "outputs": [],
   "source": []
  },
  {
   "cell_type": "code",
   "execution_count": null,
   "id": "a51ee41a",
   "metadata": {},
   "outputs": [],
   "source": []
  },
  {
   "cell_type": "code",
   "execution_count": 19,
   "id": "c0a47b16",
   "metadata": {},
   "outputs": [],
   "source": [
    "from sklearn.neighbors import KNeighborsClassifier"
   ]
  },
  {
   "cell_type": "code",
   "execution_count": 20,
   "id": "68086ed3",
   "metadata": {},
   "outputs": [],
   "source": [
    "knn = KNeighborsClassifier(n_neighbors=1)"
   ]
  },
  {
   "cell_type": "code",
   "execution_count": 21,
   "id": "80a23161",
   "metadata": {},
   "outputs": [
    {
     "data": {
      "text/html": [
       "<style>#sk-container-id-2 {color: black;background-color: white;}#sk-container-id-2 pre{padding: 0;}#sk-container-id-2 div.sk-toggleable {background-color: white;}#sk-container-id-2 label.sk-toggleable__label {cursor: pointer;display: block;width: 100%;margin-bottom: 0;padding: 0.3em;box-sizing: border-box;text-align: center;}#sk-container-id-2 label.sk-toggleable__label-arrow:before {content: \"▸\";float: left;margin-right: 0.25em;color: #696969;}#sk-container-id-2 label.sk-toggleable__label-arrow:hover:before {color: black;}#sk-container-id-2 div.sk-estimator:hover label.sk-toggleable__label-arrow:before {color: black;}#sk-container-id-2 div.sk-toggleable__content {max-height: 0;max-width: 0;overflow: hidden;text-align: left;background-color: #f0f8ff;}#sk-container-id-2 div.sk-toggleable__content pre {margin: 0.2em;color: black;border-radius: 0.25em;background-color: #f0f8ff;}#sk-container-id-2 input.sk-toggleable__control:checked~div.sk-toggleable__content {max-height: 200px;max-width: 100%;overflow: auto;}#sk-container-id-2 input.sk-toggleable__control:checked~label.sk-toggleable__label-arrow:before {content: \"▾\";}#sk-container-id-2 div.sk-estimator input.sk-toggleable__control:checked~label.sk-toggleable__label {background-color: #d4ebff;}#sk-container-id-2 div.sk-label input.sk-toggleable__control:checked~label.sk-toggleable__label {background-color: #d4ebff;}#sk-container-id-2 input.sk-hidden--visually {border: 0;clip: rect(1px 1px 1px 1px);clip: rect(1px, 1px, 1px, 1px);height: 1px;margin: -1px;overflow: hidden;padding: 0;position: absolute;width: 1px;}#sk-container-id-2 div.sk-estimator {font-family: monospace;background-color: #f0f8ff;border: 1px dotted black;border-radius: 0.25em;box-sizing: border-box;margin-bottom: 0.5em;}#sk-container-id-2 div.sk-estimator:hover {background-color: #d4ebff;}#sk-container-id-2 div.sk-parallel-item::after {content: \"\";width: 100%;border-bottom: 1px solid gray;flex-grow: 1;}#sk-container-id-2 div.sk-label:hover label.sk-toggleable__label {background-color: #d4ebff;}#sk-container-id-2 div.sk-serial::before {content: \"\";position: absolute;border-left: 1px solid gray;box-sizing: border-box;top: 0;bottom: 0;left: 50%;z-index: 0;}#sk-container-id-2 div.sk-serial {display: flex;flex-direction: column;align-items: center;background-color: white;padding-right: 0.2em;padding-left: 0.2em;position: relative;}#sk-container-id-2 div.sk-item {position: relative;z-index: 1;}#sk-container-id-2 div.sk-parallel {display: flex;align-items: stretch;justify-content: center;background-color: white;position: relative;}#sk-container-id-2 div.sk-item::before, #sk-container-id-2 div.sk-parallel-item::before {content: \"\";position: absolute;border-left: 1px solid gray;box-sizing: border-box;top: 0;bottom: 0;left: 50%;z-index: -1;}#sk-container-id-2 div.sk-parallel-item {display: flex;flex-direction: column;z-index: 1;position: relative;background-color: white;}#sk-container-id-2 div.sk-parallel-item:first-child::after {align-self: flex-end;width: 50%;}#sk-container-id-2 div.sk-parallel-item:last-child::after {align-self: flex-start;width: 50%;}#sk-container-id-2 div.sk-parallel-item:only-child::after {width: 0;}#sk-container-id-2 div.sk-dashed-wrapped {border: 1px dashed gray;margin: 0 0.4em 0.5em 0.4em;box-sizing: border-box;padding-bottom: 0.4em;background-color: white;}#sk-container-id-2 div.sk-label label {font-family: monospace;font-weight: bold;display: inline-block;line-height: 1.2em;}#sk-container-id-2 div.sk-label-container {text-align: center;}#sk-container-id-2 div.sk-container {/* jupyter's `normalize.less` sets `[hidden] { display: none; }` but bootstrap.min.css set `[hidden] { display: none !important; }` so we also need the `!important` here to be able to override the default hidden behavior on the sphinx rendered scikit-learn.org. See: https://github.com/scikit-learn/scikit-learn/issues/21755 */display: inline-block !important;position: relative;}#sk-container-id-2 div.sk-text-repr-fallback {display: none;}</style><div id=\"sk-container-id-2\" class=\"sk-top-container\"><div class=\"sk-text-repr-fallback\"><pre>KNeighborsClassifier(n_neighbors=1)</pre><b>In a Jupyter environment, please rerun this cell to show the HTML representation or trust the notebook. <br />On GitHub, the HTML representation is unable to render, please try loading this page with nbviewer.org.</b></div><div class=\"sk-container\" hidden><div class=\"sk-item\"><div class=\"sk-estimator sk-toggleable\"><input class=\"sk-toggleable__control sk-hidden--visually\" id=\"sk-estimator-id-2\" type=\"checkbox\" checked><label for=\"sk-estimator-id-2\" class=\"sk-toggleable__label sk-toggleable__label-arrow\">KNeighborsClassifier</label><div class=\"sk-toggleable__content\"><pre>KNeighborsClassifier(n_neighbors=1)</pre></div></div></div></div></div>"
      ],
      "text/plain": [
       "KNeighborsClassifier(n_neighbors=1)"
      ]
     },
     "execution_count": 21,
     "metadata": {},
     "output_type": "execute_result"
    }
   ],
   "source": [
    "knn.fit(X_train, y_train)"
   ]
  },
  {
   "cell_type": "code",
   "execution_count": 22,
   "id": "273b12bc",
   "metadata": {},
   "outputs": [],
   "source": [
    "pred = knn.predict(X_test)"
   ]
  },
  {
   "cell_type": "code",
   "execution_count": null,
   "id": "c4f4cfab",
   "metadata": {},
   "outputs": [],
   "source": []
  },
  {
   "cell_type": "code",
   "execution_count": 23,
   "id": "3374f914",
   "metadata": {},
   "outputs": [],
   "source": [
    "from sklearn.metrics import classification_report, confusion_matrix"
   ]
  },
  {
   "cell_type": "code",
   "execution_count": 24,
   "id": "6db46e37",
   "metadata": {},
   "outputs": [
    {
     "name": "stdout",
     "output_type": "stream",
     "text": [
      "[[ 89   0  25  35  21  38]\n",
      " [  2  70   5   0   4   5]\n",
      " [ 17   1 123  30   3  29]\n",
      " [ 26   2  42  96   7  22]\n",
      " [ 21   4  16  19  98  25]\n",
      " [ 16   1  23  17  11 132]]\n"
     ]
    }
   ],
   "source": [
    "print(confusion_matrix(y_test,pred))"
   ]
  },
  {
   "cell_type": "code",
   "execution_count": 25,
   "id": "32b7169d",
   "metadata": {},
   "outputs": [
    {
     "name": "stdout",
     "output_type": "stream",
     "text": [
      "              precision    recall  f1-score   support\n",
      "\n",
      "           B       0.52      0.43      0.47       208\n",
      "           C       0.90      0.81      0.85        86\n",
      "           G       0.53      0.61      0.56       203\n",
      "           R       0.49      0.49      0.49       195\n",
      "           U       0.68      0.54      0.60       183\n",
      "           W       0.53      0.66      0.59       200\n",
      "\n",
      "    accuracy                           0.57      1075\n",
      "   macro avg       0.61      0.59      0.59      1075\n",
      "weighted avg       0.57      0.57      0.57      1075\n",
      "\n"
     ]
    }
   ],
   "source": [
    "print(classification_report(y_test,pred))"
   ]
  },
  {
   "cell_type": "code",
   "execution_count": null,
   "id": "c1234bbf",
   "metadata": {},
   "outputs": [],
   "source": []
  },
  {
   "cell_type": "markdown",
   "id": "7292b502",
   "metadata": {},
   "source": [
    "#### Choosing a K Value"
   ]
  },
  {
   "cell_type": "code",
   "execution_count": 26,
   "id": "aa220bb1",
   "metadata": {},
   "outputs": [],
   "source": [
    "error_rate = []\n",
    "\n",
    "for i in range(1, 60):\n",
    "    \n",
    "    knn = KNeighborsClassifier(n_neighbors=i)\n",
    "    knn.fit(X_train,y_train)\n",
    "    pred_i = knn.predict(X_test)\n",
    "    error_rate.append(np.mean(pred_i != y_test))"
   ]
  },
  {
   "cell_type": "code",
   "execution_count": 27,
   "id": "793798e3",
   "metadata": {},
   "outputs": [
    {
     "data": {
      "text/plain": [
       "Text(0, 0.5, 'Error Rate')"
      ]
     },
     "execution_count": 27,
     "metadata": {},
     "output_type": "execute_result"
    },
    {
     "data": {
      "image/png": "[encoded data removed]",
      "text/plain": [
       "<Figure size 720x432 with 1 Axes>"
      ]
     },
     "metadata": {
      "needs_background": "light"
     },
     "output_type": "display_data"
    }
   ],
   "source": [
    "plt.figure(figsize=(10,6))\n",
    "plt.plot(range(1,60),error_rate,color='blue', linestyle='dashed', marker='o',\n",
    "         markerfacecolor='red', markersize=10)\n",
    "plt.title('Error Rate vs. K Value')\n",
    "plt.xlabel('K')\n",
    "plt.ylabel('Error Rate')"
   ]
  },
  {
   "cell_type": "code",
   "execution_count": 28,
   "id": "60ce0a7d",
   "metadata": {},
   "outputs": [
    {
     "name": "stdout",
     "output_type": "stream",
     "text": [
      "WITH K=10\n",
      "\n",
      "\n",
      "[[129   2  14  20  10  33]\n",
      " [  3  69   1   0   1  12]\n",
      " [ 17   1 120  30   4  31]\n",
      " [ 28   1  34  98  15  19]\n",
      " [ 28   4  11  13 102  25]\n",
      " [ 13   2  15  18  13 139]]\n",
      "\n",
      "\n",
      "              precision    recall  f1-score   support\n",
      "\n",
      "           B       0.59      0.62      0.61       208\n",
      "           C       0.87      0.80      0.84        86\n",
      "           G       0.62      0.59      0.60       203\n",
      "           R       0.55      0.50      0.52       195\n",
      "           U       0.70      0.56      0.62       183\n",
      "           W       0.54      0.69      0.61       200\n",
      "\n",
      "    accuracy                           0.61      1075\n",
      "   macro avg       0.64      0.63      0.63      1075\n",
      "weighted avg       0.62      0.61      0.61      1075\n",
      "\n"
     ]
    }
   ],
   "source": [
    "#K = 10\n",
    "knn = KNeighborsClassifier(n_neighbors=10)\n",
    "\n",
    "knn.fit(X_train,y_train)\n",
    "pred = knn.predict(X_test)\n",
    "\n",
    "print('WITH K=10')\n",
    "print('\\n')\n",
    "print(confusion_matrix(y_test,pred))\n",
    "print('\\n')\n",
    "print(classification_report(y_test,pred))"
   ]
  },
  {
   "cell_type": "code",
   "execution_count": null,
   "id": "8cd650bc",
   "metadata": {},
   "outputs": [],
   "source": []
  },
  {
   "cell_type": "code",
   "execution_count": null,
   "id": "25b7c6b9",
   "metadata": {},
   "outputs": [],
   "source": []
  },
  {
   "cell_type": "code",
   "execution_count": 29,
   "id": "2e2d41f0",
   "metadata": {},
   "outputs": [],
   "source": [
    "from sklearn.preprocessing import MinMaxScaler"
   ]
  },
  {
   "cell_type": "code",
   "execution_count": 30,
   "id": "2bf7ea6b",
   "metadata": {},
   "outputs": [],
   "source": [
    "minMax = MinMaxScaler()"
   ]
  },
  {
   "cell_type": "code",
   "execution_count": 31,
   "id": "4e3af087",
   "metadata": {},
   "outputs": [
    {
     "data": {
      "text/html": [
       "<style>#sk-container-id-3 {color: black;background-color: white;}#sk-container-id-3 pre{padding: 0;}#sk-container-id-3 div.sk-toggleable {background-color: white;}#sk-container-id-3 label.sk-toggleable__label {cursor: pointer;display: block;width: 100%;margin-bottom: 0;padding: 0.3em;box-sizing: border-box;text-align: center;}#sk-container-id-3 label.sk-toggleable__label-arrow:before {content: \"▸\";float: left;margin-right: 0.25em;color: #696969;}#sk-container-id-3 label.sk-toggleable__label-arrow:hover:before {color: black;}#sk-container-id-3 div.sk-estimator:hover label.sk-toggleable__label-arrow:before {color: black;}#sk-container-id-3 div.sk-toggleable__content {max-height: 0;max-width: 0;overflow: hidden;text-align: left;background-color: #f0f8ff;}#sk-container-id-3 div.sk-toggleable__content pre {margin: 0.2em;color: black;border-radius: 0.25em;background-color: #f0f8ff;}#sk-container-id-3 input.sk-toggleable__control:checked~div.sk-toggleable__content {max-height: 200px;max-width: 100%;overflow: auto;}#sk-container-id-3 input.sk-toggleable__control:checked~label.sk-toggleable__label-arrow:before {content: \"▾\";}#sk-container-id-3 div.sk-estimator input.sk-toggleable__control:checked~label.sk-toggleable__label {background-color: #d4ebff;}#sk-container-id-3 div.sk-label input.sk-toggleable__control:checked~label.sk-toggleable__label {background-color: #d4ebff;}#sk-container-id-3 input.sk-hidden--visually {border: 0;clip: rect(1px 1px 1px 1px);clip: rect(1px, 1px, 1px, 1px);height: 1px;margin: -1px;overflow: hidden;padding: 0;position: absolute;width: 1px;}#sk-container-id-3 div.sk-estimator {font-family: monospace;background-color: #f0f8ff;border: 1px dotted black;border-radius: 0.25em;box-sizing: border-box;margin-bottom: 0.5em;}#sk-container-id-3 div.sk-estimator:hover {background-color: #d4ebff;}#sk-container-id-3 div.sk-parallel-item::after {content: \"\";width: 100%;border-bottom: 1px solid gray;flex-grow: 1;}#sk-container-id-3 div.sk-label:hover label.sk-toggleable__label {background-color: #d4ebff;}#sk-container-id-3 div.sk-serial::before {content: \"\";position: absolute;border-left: 1px solid gray;box-sizing: border-box;top: 0;bottom: 0;left: 50%;z-index: 0;}#sk-container-id-3 div.sk-serial {display: flex;flex-direction: column;align-items: center;background-color: white;padding-right: 0.2em;padding-left: 0.2em;position: relative;}#sk-container-id-3 div.sk-item {position: relative;z-index: 1;}#sk-container-id-3 div.sk-parallel {display: flex;align-items: stretch;justify-content: center;background-color: white;position: relative;}#sk-container-id-3 div.sk-item::before, #sk-container-id-3 div.sk-parallel-item::before {content: \"\";position: absolute;border-left: 1px solid gray;box-sizing: border-box;top: 0;bottom: 0;left: 50%;z-index: -1;}#sk-container-id-3 div.sk-parallel-item {display: flex;flex-direction: column;z-index: 1;position: relative;background-color: white;}#sk-container-id-3 div.sk-parallel-item:first-child::after {align-self: flex-end;width: 50%;}#sk-container-id-3 div.sk-parallel-item:last-child::after {align-self: flex-start;width: 50%;}#sk-container-id-3 div.sk-parallel-item:only-child::after {width: 0;}#sk-container-id-3 div.sk-dashed-wrapped {border: 1px dashed gray;margin: 0 0.4em 0.5em 0.4em;box-sizing: border-box;padding-bottom: 0.4em;background-color: white;}#sk-container-id-3 div.sk-label label {font-family: monospace;font-weight: bold;display: inline-block;line-height: 1.2em;}#sk-container-id-3 div.sk-label-container {text-align: center;}#sk-container-id-3 div.sk-container {/* jupyter's `normalize.less` sets `[hidden] { display: none; }` but bootstrap.min.css set `[hidden] { display: none !important; }` so we also need the `!important` here to be able to override the default hidden behavior on the sphinx rendered scikit-learn.org. See: https://github.com/scikit-learn/scikit-learn/issues/21755 */display: inline-block !important;position: relative;}#sk-container-id-3 div.sk-text-repr-fallback {display: none;}</style><div id=\"sk-container-id-3\" class=\"sk-top-container\"><div class=\"sk-text-repr-fallback\"><pre>MinMaxScaler()</pre><b>In a Jupyter environment, please rerun this cell to show the HTML representation or trust the notebook. <br />On GitHub, the HTML representation is unable to render, please try loading this page with nbviewer.org.</b></div><div class=\"sk-container\" hidden><div class=\"sk-item\"><div class=\"sk-estimator sk-toggleable\"><input class=\"sk-toggleable__control sk-hidden--visually\" id=\"sk-estimator-id-3\" type=\"checkbox\" checked><label for=\"sk-estimator-id-3\" class=\"sk-toggleable__label sk-toggleable__label-arrow\">MinMaxScaler</label><div class=\"sk-toggleable__content\"><pre>MinMaxScaler()</pre></div></div></div></div></div>"
      ],
      "text/plain": [
       "MinMaxScaler()"
      ]
     },
     "execution_count": 31,
     "metadata": {},
     "output_type": "execute_result"
    }
   ],
   "source": [
    "minMax.fit(df.drop(columns=['name', 'colors']))"
   ]
  },
  {
   "cell_type": "code",
   "execution_count": 32,
   "id": "44672433",
   "metadata": {},
   "outputs": [],
   "source": [
    "minMax_scaled_features = minMax.transform(df.drop(columns=['name', 'colors']))"
   ]
  },
  {
   "cell_type": "code",
   "execution_count": 33,
   "id": "ff9bbb99",
   "metadata": {},
   "outputs": [],
   "source": [
    "df_min_max_feat = pd.DataFrame(minMax_scaled_features, columns=df.columns[2:])"
   ]
  },
  {
   "cell_type": "code",
   "execution_count": 34,
   "id": "78850e81",
   "metadata": {},
   "outputs": [
    {
     "data": {
      "text/html": [
       "<div>\n",
       "<style scoped>\n",
       "    .dataframe tbody tr th:only-of-type {\n",
       "        vertical-align: middle;\n",
       "    }\n",
       "\n",
       "    .dataframe tbody tr th {\n",
       "        vertical-align: top;\n",
       "    }\n",
       "\n",
       "    .dataframe thead th {\n",
       "        text-align: right;\n",
       "    }\n",
       "</style>\n",
       "<table border=\"1\" class=\"dataframe\">\n",
       "  <thead>\n",
       "    <tr style=\"text-align: right;\">\n",
       "      <th></th>\n",
       "      <th>manaValue</th>\n",
       "      <th>power</th>\n",
       "      <th>toughness</th>\n",
       "      <th>Adamant</th>\n",
       "      <th>Adapt</th>\n",
       "      <th>Afflict</th>\n",
       "      <th>Afterlife</th>\n",
       "      <th>Alliance</th>\n",
       "      <th>Amass</th>\n",
       "      <th>Ascend</th>\n",
       "      <th>...</th>\n",
       "      <th>Weird</th>\n",
       "      <th>Werewolf</th>\n",
       "      <th>Whale</th>\n",
       "      <th>Wizard</th>\n",
       "      <th>Wolf</th>\n",
       "      <th>Wolverine</th>\n",
       "      <th>Worm</th>\n",
       "      <th>Wurm</th>\n",
       "      <th>Yeti</th>\n",
       "      <th>Zombie</th>\n",
       "    </tr>\n",
       "  </thead>\n",
       "  <tbody>\n",
       "    <tr>\n",
       "      <th>0</th>\n",
       "      <td>0.266667</td>\n",
       "      <td>0.230769</td>\n",
       "      <td>0.058824</td>\n",
       "      <td>0.0</td>\n",
       "      <td>0.0</td>\n",
       "      <td>0.0</td>\n",
       "      <td>0.0</td>\n",
       "      <td>0.0</td>\n",
       "      <td>0.0</td>\n",
       "      <td>0.0</td>\n",
       "      <td>...</td>\n",
       "      <td>0.0</td>\n",
       "      <td>0.0</td>\n",
       "      <td>0.0</td>\n",
       "      <td>0.0</td>\n",
       "      <td>0.0</td>\n",
       "      <td>0.0</td>\n",
       "      <td>0.0</td>\n",
       "      <td>0.0</td>\n",
       "      <td>0.0</td>\n",
       "      <td>0.0</td>\n",
       "    </tr>\n",
       "    <tr>\n",
       "      <th>1</th>\n",
       "      <td>0.266667</td>\n",
       "      <td>0.153846</td>\n",
       "      <td>0.176471</td>\n",
       "      <td>0.0</td>\n",
       "      <td>0.0</td>\n",
       "      <td>0.0</td>\n",
       "      <td>0.0</td>\n",
       "      <td>0.0</td>\n",
       "      <td>0.0</td>\n",
       "      <td>0.0</td>\n",
       "      <td>...</td>\n",
       "      <td>0.0</td>\n",
       "      <td>0.0</td>\n",
       "      <td>0.0</td>\n",
       "      <td>0.0</td>\n",
       "      <td>0.0</td>\n",
       "      <td>0.0</td>\n",
       "      <td>0.0</td>\n",
       "      <td>0.0</td>\n",
       "      <td>0.0</td>\n",
       "      <td>0.0</td>\n",
       "    </tr>\n",
       "    <tr>\n",
       "      <th>2</th>\n",
       "      <td>0.133333</td>\n",
       "      <td>0.230769</td>\n",
       "      <td>0.058824</td>\n",
       "      <td>0.0</td>\n",
       "      <td>0.0</td>\n",
       "      <td>0.0</td>\n",
       "      <td>0.0</td>\n",
       "      <td>0.0</td>\n",
       "      <td>0.0</td>\n",
       "      <td>0.0</td>\n",
       "      <td>...</td>\n",
       "      <td>0.0</td>\n",
       "      <td>0.0</td>\n",
       "      <td>0.0</td>\n",
       "      <td>0.0</td>\n",
       "      <td>0.0</td>\n",
       "      <td>0.0</td>\n",
       "      <td>0.0</td>\n",
       "      <td>0.0</td>\n",
       "      <td>0.0</td>\n",
       "      <td>0.0</td>\n",
       "    </tr>\n",
       "    <tr>\n",
       "      <th>3</th>\n",
       "      <td>0.333333</td>\n",
       "      <td>0.307692</td>\n",
       "      <td>0.176471</td>\n",
       "      <td>0.0</td>\n",
       "      <td>0.0</td>\n",
       "      <td>0.0</td>\n",
       "      <td>0.0</td>\n",
       "      <td>0.0</td>\n",
       "      <td>0.0</td>\n",
       "      <td>0.0</td>\n",
       "      <td>...</td>\n",
       "      <td>0.0</td>\n",
       "      <td>0.0</td>\n",
       "      <td>0.0</td>\n",
       "      <td>0.0</td>\n",
       "      <td>0.0</td>\n",
       "      <td>0.0</td>\n",
       "      <td>0.0</td>\n",
       "      <td>0.0</td>\n",
       "      <td>0.0</td>\n",
       "      <td>0.0</td>\n",
       "    </tr>\n",
       "    <tr>\n",
       "      <th>4</th>\n",
       "      <td>0.133333</td>\n",
       "      <td>0.230769</td>\n",
       "      <td>0.058824</td>\n",
       "      <td>0.0</td>\n",
       "      <td>0.0</td>\n",
       "      <td>0.0</td>\n",
       "      <td>0.0</td>\n",
       "      <td>0.0</td>\n",
       "      <td>0.0</td>\n",
       "      <td>0.0</td>\n",
       "      <td>...</td>\n",
       "      <td>0.0</td>\n",
       "      <td>0.0</td>\n",
       "      <td>0.0</td>\n",
       "      <td>0.0</td>\n",
       "      <td>0.0</td>\n",
       "      <td>0.0</td>\n",
       "      <td>0.0</td>\n",
       "      <td>0.0</td>\n",
       "      <td>0.0</td>\n",
       "      <td>0.0</td>\n",
       "    </tr>\n",
       "  </tbody>\n",
       "</table>\n",
       "<p>5 rows × 282 columns</p>\n",
       "</div>"
      ],
      "text/plain": [
       "   manaValue     power  toughness  Adamant  Adapt  Afflict  Afterlife  \\\n",
       "0   0.266667  0.230769   0.058824      0.0    0.0      0.0        0.0   \n",
       "1   0.266667  0.153846   0.176471      0.0    0.0      0.0        0.0   \n",
       "2   0.133333  0.230769   0.058824      0.0    0.0      0.0        0.0   \n",
       "3   0.333333  0.307692   0.176471      0.0    0.0      0.0        0.0   \n",
       "4   0.133333  0.230769   0.058824      0.0    0.0      0.0        0.0   \n",
       "\n",
       "   Alliance  Amass  Ascend  ...  Weird  Werewolf  Whale  Wizard  Wolf  \\\n",
       "0       0.0    0.0     0.0  ...    0.0       0.0    0.0     0.0   0.0   \n",
       "1       0.0    0.0     0.0  ...    0.0       0.0    0.0     0.0   0.0   \n",
       "2       0.0    0.0     0.0  ...    0.0       0.0    0.0     0.0   0.0   \n",
       "3       0.0    0.0     0.0  ...    0.0       0.0    0.0     0.0   0.0   \n",
       "4       0.0    0.0     0.0  ...    0.0       0.0    0.0     0.0   0.0   \n",
       "\n",
       "   Wolverine  Worm  Wurm  Yeti  Zombie  \n",
       "0        0.0   0.0   0.0   0.0     0.0  \n",
       "1        0.0   0.0   0.0   0.0     0.0  \n",
       "2        0.0   0.0   0.0   0.0     0.0  \n",
       "3        0.0   0.0   0.0   0.0     0.0  \n",
       "4        0.0   0.0   0.0   0.0     0.0  \n",
       "\n",
       "[5 rows x 282 columns]"
      ]
     },
     "execution_count": 34,
     "metadata": {},
     "output_type": "execute_result"
    }
   ],
   "source": [
    "df_min_max_feat.head()"
   ]
  },
  {
   "cell_type": "code",
   "execution_count": 35,
   "id": "16c7366d",
   "metadata": {},
   "outputs": [],
   "source": [
    "X_train, X_test, y_train, y_test = train_test_split(minMax_scaled_features, df['colors'], test_size=0.33, random_state=101)"
   ]
  },
  {
   "cell_type": "code",
   "execution_count": null,
   "id": "c02646cf",
   "metadata": {},
   "outputs": [],
   "source": []
  },
  {
   "cell_type": "code",
   "execution_count": 36,
   "id": "68080d50",
   "metadata": {},
   "outputs": [],
   "source": [
    "error_rate = []\n",
    "\n",
    "for i in range(1, 60):\n",
    "    \n",
    "    knn = KNeighborsClassifier(n_neighbors=i)\n",
    "    knn.fit(X_train,y_train)\n",
    "    pred_i = knn.predict(X_test)\n",
    "    error_rate.append(np.mean(pred_i != y_test))"
   ]
  },
  {
   "cell_type": "code",
   "execution_count": 37,
   "id": "917402a9",
   "metadata": {},
   "outputs": [
    {
     "data": {
      "text/plain": [
       "Text(0, 0.5, 'Error Rate')"
      ]
     },
     "execution_count": 37,
     "metadata": {},
     "output_type": "execute_result"
    },
    {
     "data": {
      "image/png": "[encoded data removed]",
      "text/plain": [
       "<Figure size 720x432 with 1 Axes>"
      ]
     },
     "metadata": {
      "needs_background": "light"
     },
     "output_type": "display_data"
    }
   ],
   "source": [
    "plt.figure(figsize=(10,6))\n",
    "plt.plot(range(1,60),error_rate,color='blue', linestyle='dashed', marker='o',\n",
    "         markerfacecolor='red', markersize=10)\n",
    "plt.title('Error Rate vs. K Value')\n",
    "plt.xlabel('K')\n",
    "plt.ylabel('Error Rate')"
   ]
  },
  {
   "cell_type": "code",
   "execution_count": 38,
   "id": "edf76e20",
   "metadata": {},
   "outputs": [
    {
     "name": "stdout",
     "output_type": "stream",
     "text": [
      "WITH K=10\n",
      "\n",
      "\n",
      "[[125   0  19  22  15  27]\n",
      " [  2  78   4   0   0   2]\n",
      " [ 12   0 136  35   4  16]\n",
      " [ 26   1  36 106  14  12]\n",
      " [ 29   4  12  17 104  17]\n",
      " [ 18   1  15  22  16 128]]\n",
      "\n",
      "\n",
      "              precision    recall  f1-score   support\n",
      "\n",
      "           B       0.59      0.60      0.60       208\n",
      "           C       0.93      0.91      0.92        86\n",
      "           G       0.61      0.67      0.64       203\n",
      "           R       0.52      0.54      0.53       195\n",
      "           U       0.68      0.57      0.62       183\n",
      "           W       0.63      0.64      0.64       200\n",
      "\n",
      "    accuracy                           0.63      1075\n",
      "   macro avg       0.66      0.65      0.66      1075\n",
      "weighted avg       0.63      0.63      0.63      1075\n",
      "\n"
     ]
    }
   ],
   "source": [
    "#K = 10\n",
    "knn = KNeighborsClassifier(n_neighbors=5)\n",
    "\n",
    "knn.fit(X_train,y_train)\n",
    "pred = knn.predict(X_test)\n",
    "\n",
    "print('WITH K=10')\n",
    "print('\\n')\n",
    "print(confusion_matrix(y_test,pred))\n",
    "print('\\n')\n",
    "print(classification_report(y_test,pred))"
   ]
  },
  {
   "cell_type": "code",
   "execution_count": null,
   "id": "8aeff054",
   "metadata": {},
   "outputs": [],
   "source": []
  },
  {
   "cell_type": "code",
   "execution_count": null,
   "id": "534ae30f",
   "metadata": {},
   "outputs": [],
   "source": []
  },
  {
   "cell_type": "markdown",
   "id": "e6f40435",
   "metadata": {},
   "source": [
    "#### Logistic Regression"
   ]
  },
  {
   "cell_type": "code",
   "execution_count": null,
   "id": "0e5a6b67",
   "metadata": {},
   "outputs": [],
   "source": [
    "from sklearn.linear_model import LogisticRegression"
   ]
  },
  {
   "cell_type": "code",
   "execution_count": null,
   "id": "6f5d5cba",
   "metadata": {},
   "outputs": [],
   "source": [
    "X_train, X_test, y_train, y_test = train_test_split(scaled_features, df['colors'], test_size=0.33, random_state=101)"
   ]
  },
  {
   "cell_type": "code",
   "execution_count": null,
   "id": "d4c6ba0d",
   "metadata": {},
   "outputs": [],
   "source": [
    "logmodel = LogisticRegression(max_iter=2000)\n",
    "logmodel.fit(X_train,y_train)"
   ]
  },
  {
   "cell_type": "code",
   "execution_count": null,
   "id": "b475215e",
   "metadata": {},
   "outputs": [],
   "source": [
    "predictions = logmodel.predict(X_test)"
   ]
  },
  {
   "cell_type": "code",
   "execution_count": null,
   "id": "65ea2b49",
   "metadata": {},
   "outputs": [],
   "source": [
    "from sklearn.metrics import classification_report"
   ]
  },
  {
   "cell_type": "code",
   "execution_count": null,
   "id": "ac9570eb",
   "metadata": {},
   "outputs": [],
   "source": [
    "print(classification_report(y_test, predictions))"
   ]
  },
  {
   "cell_type": "code",
   "execution_count": null,
   "id": "799a50c6",
   "metadata": {},
   "outputs": [],
   "source": []
  },
  {
   "cell_type": "code",
   "execution_count": null,
   "id": "4f78dac4",
   "metadata": {},
   "outputs": [],
   "source": []
  },
  {
   "cell_type": "markdown",
   "id": "b2387aaf",
   "metadata": {},
   "source": [
    "#### Decision Trees"
   ]
  },
  {
   "cell_type": "code",
   "execution_count": null,
   "id": "e95b0be3",
   "metadata": {},
   "outputs": [],
   "source": [
    "from sklearn.tree import DecisionTreeClassifier"
   ]
  },
  {
   "cell_type": "code",
   "execution_count": null,
   "id": "1f4dd97c",
   "metadata": {},
   "outputs": [],
   "source": [
    "dtree = DecisionTreeClassifier()"
   ]
  },
  {
   "cell_type": "code",
   "execution_count": null,
   "id": "691bea16",
   "metadata": {},
   "outputs": [],
   "source": [
    "dtree.fit(X_train,y_train)"
   ]
  },
  {
   "cell_type": "code",
   "execution_count": null,
   "id": "6d8bfbd2",
   "metadata": {},
   "outputs": [],
   "source": []
  },
  {
   "cell_type": "code",
   "execution_count": null,
   "id": "d7a19015",
   "metadata": {},
   "outputs": [],
   "source": [
    "tree_preds = dtree.predict(X_test)"
   ]
  },
  {
   "cell_type": "code",
   "execution_count": null,
   "id": "cab5cd68",
   "metadata": {},
   "outputs": [],
   "source": [
    "print(classification_report(y_test,tree_preds))"
   ]
  },
  {
   "cell_type": "code",
   "execution_count": null,
   "id": "0730b529",
   "metadata": {},
   "outputs": [],
   "source": [
    "print(confusion_matrix(y_test,tree_preds))"
   ]
  },
  {
   "cell_type": "code",
   "execution_count": null,
   "id": "ed262ede",
   "metadata": {},
   "outputs": [],
   "source": []
  },
  {
   "cell_type": "code",
   "execution_count": null,
   "id": "80018896",
   "metadata": {},
   "outputs": [],
   "source": [
    "from sklearn.ensemble import RandomForestClassifier\n",
    "rfc = RandomForestClassifier(n_estimators=100)\n",
    "rfc.fit(X_train, y_train)"
   ]
  },
  {
   "cell_type": "code",
   "execution_count": null,
   "id": "ed528c72",
   "metadata": {},
   "outputs": [],
   "source": [
    "rfc_pred = rfc.predict(X_test)"
   ]
  },
  {
   "cell_type": "code",
   "execution_count": null,
   "id": "b975975f",
   "metadata": {},
   "outputs": [],
   "source": [
    "print(confusion_matrix(y_test, rfc_pred))"
   ]
  },
  {
   "cell_type": "code",
   "execution_count": null,
   "id": "e1f9daed",
   "metadata": {},
   "outputs": [],
   "source": [
    "print(classification_report(y_test, rfc_pred))"
   ]
  },
  {
   "cell_type": "code",
   "execution_count": null,
   "id": "6c9010db",
   "metadata": {},
   "outputs": [],
   "source": []
  }
 ],
 "metadata": {
  "kernelspec": {
   "display_name": "Python 3 (ipykernel)",
   "language": "python",
   "name": "python3"
  },
  "language_info": {
   "codemirror_mode": {
    "name": "ipython",
    "version": 3
   },
   "file_extension": ".py",
   "mimetype": "text/x-python",
   "name": "python",
   "nbconvert_exporter": "python",
   "pygments_lexer": "ipython3",
   "version": "3.9.7"
  }
 },
 "nbformat": 4,
 "nbformat_minor": 5
}
