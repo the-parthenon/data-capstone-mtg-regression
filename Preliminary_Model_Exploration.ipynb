{
 "cells": [
  {
   "cell_type": "code",
   "execution_count": 1,
   "id": "fa747075",
   "metadata": {},
   "outputs": [],
   "source": [
    "import pandas as pd\n",
    "import numpy as np\n",
    "import matplotlib.pyplot as plt\n",
    "import seaborn as sns\n",
    "%matplotlib inline"
   ]
  },
  {
   "cell_type": "code",
   "execution_count": 2,
   "id": "51aa6cec",
   "metadata": {},
   "outputs": [],
   "source": [
    "from sklearn.metrics import classification_report, confusion_matrix, ConfusionMatrixDisplay\n",
    "from sklearn.model_selection import train_test_split, RepeatedStratifiedKFold, GridSearchCV, cross_val_score\n",
    "from sklearn.preprocessing import MinMaxScaler\n",
    "from sklearn.linear_model import LogisticRegression\n",
    "from sklearn.ensemble import VotingClassifier\n",
    "from sklearn.svm import LinearSVC\n",
    "from sklearn.naive_bayes import GaussianNB\n",
    "from sklearn.neighbors import KNeighborsClassifier\n",
    "from sklearn import tree\n",
    "from sklearn.tree import DecisionTreeClassifier\n",
    "from sklearn.ensemble import RandomForestClassifier"
   ]
  },
  {
   "cell_type": "code",
   "execution_count": 3,
   "id": "dd45dc01",
   "metadata": {},
   "outputs": [],
   "source": [
    "df = pd.read_csv('cleaned_datasets/mono_creatures.csv', index_col=0)"
   ]
  },
  {
   "cell_type": "code",
   "execution_count": 4,
   "id": "05ce3124",
   "metadata": {},
   "outputs": [
    {
     "data": {
      "text/html": [
       "<div>\n",
       "<style scoped>\n",
       "    .dataframe tbody tr th:only-of-type {\n",
       "        vertical-align: middle;\n",
       "    }\n",
       "\n",
       "    .dataframe tbody tr th {\n",
       "        vertical-align: top;\n",
       "    }\n",
       "\n",
       "    .dataframe thead th {\n",
       "        text-align: right;\n",
       "    }\n",
       "</style>\n",
       "<table border=\"1\" class=\"dataframe\">\n",
       "  <thead>\n",
       "    <tr style=\"text-align: right;\">\n",
       "      <th></th>\n",
       "      <th>name</th>\n",
       "      <th>colors</th>\n",
       "      <th>manaValue</th>\n",
       "      <th>power</th>\n",
       "      <th>toughness</th>\n",
       "      <th>Adamant</th>\n",
       "      <th>Adapt</th>\n",
       "      <th>Afflict</th>\n",
       "      <th>Afterlife</th>\n",
       "      <th>Alliance</th>\n",
       "      <th>...</th>\n",
       "      <th>Weird</th>\n",
       "      <th>Werewolf</th>\n",
       "      <th>Whale</th>\n",
       "      <th>Wizard</th>\n",
       "      <th>Wolf</th>\n",
       "      <th>Wolverine</th>\n",
       "      <th>Worm</th>\n",
       "      <th>Wurm</th>\n",
       "      <th>Yeti</th>\n",
       "      <th>Zombie</th>\n",
       "    </tr>\n",
       "  </thead>\n",
       "  <tbody>\n",
       "    <tr>\n",
       "      <th>0</th>\n",
       "      <td>Aeronaut Admiral</td>\n",
       "      <td>W</td>\n",
       "      <td>4.0</td>\n",
       "      <td>3.0</td>\n",
       "      <td>1.0</td>\n",
       "      <td>0</td>\n",
       "      <td>0</td>\n",
       "      <td>0</td>\n",
       "      <td>0</td>\n",
       "      <td>0</td>\n",
       "      <td>...</td>\n",
       "      <td>0</td>\n",
       "      <td>0</td>\n",
       "      <td>0</td>\n",
       "      <td>0</td>\n",
       "      <td>0</td>\n",
       "      <td>0</td>\n",
       "      <td>0</td>\n",
       "      <td>0</td>\n",
       "      <td>0</td>\n",
       "      <td>0</td>\n",
       "    </tr>\n",
       "    <tr>\n",
       "      <th>1</th>\n",
       "      <td>Aether Inspector</td>\n",
       "      <td>W</td>\n",
       "      <td>4.0</td>\n",
       "      <td>2.0</td>\n",
       "      <td>3.0</td>\n",
       "      <td>0</td>\n",
       "      <td>0</td>\n",
       "      <td>0</td>\n",
       "      <td>0</td>\n",
       "      <td>0</td>\n",
       "      <td>...</td>\n",
       "      <td>0</td>\n",
       "      <td>0</td>\n",
       "      <td>0</td>\n",
       "      <td>0</td>\n",
       "      <td>0</td>\n",
       "      <td>0</td>\n",
       "      <td>0</td>\n",
       "      <td>0</td>\n",
       "      <td>0</td>\n",
       "      <td>0</td>\n",
       "    </tr>\n",
       "    <tr>\n",
       "      <th>2</th>\n",
       "      <td>Aethergeode Miner</td>\n",
       "      <td>W</td>\n",
       "      <td>2.0</td>\n",
       "      <td>3.0</td>\n",
       "      <td>1.0</td>\n",
       "      <td>0</td>\n",
       "      <td>0</td>\n",
       "      <td>0</td>\n",
       "      <td>0</td>\n",
       "      <td>0</td>\n",
       "      <td>...</td>\n",
       "      <td>0</td>\n",
       "      <td>0</td>\n",
       "      <td>0</td>\n",
       "      <td>0</td>\n",
       "      <td>0</td>\n",
       "      <td>0</td>\n",
       "      <td>0</td>\n",
       "      <td>0</td>\n",
       "      <td>0</td>\n",
       "      <td>0</td>\n",
       "    </tr>\n",
       "    <tr>\n",
       "      <th>3</th>\n",
       "      <td>Airdrop Aeronauts</td>\n",
       "      <td>W</td>\n",
       "      <td>5.0</td>\n",
       "      <td>4.0</td>\n",
       "      <td>3.0</td>\n",
       "      <td>0</td>\n",
       "      <td>0</td>\n",
       "      <td>0</td>\n",
       "      <td>0</td>\n",
       "      <td>0</td>\n",
       "      <td>...</td>\n",
       "      <td>0</td>\n",
       "      <td>0</td>\n",
       "      <td>0</td>\n",
       "      <td>0</td>\n",
       "      <td>0</td>\n",
       "      <td>0</td>\n",
       "      <td>0</td>\n",
       "      <td>0</td>\n",
       "      <td>0</td>\n",
       "      <td>0</td>\n",
       "    </tr>\n",
       "    <tr>\n",
       "      <th>4</th>\n",
       "      <td>Audacious Infiltrator</td>\n",
       "      <td>W</td>\n",
       "      <td>2.0</td>\n",
       "      <td>3.0</td>\n",
       "      <td>1.0</td>\n",
       "      <td>0</td>\n",
       "      <td>0</td>\n",
       "      <td>0</td>\n",
       "      <td>0</td>\n",
       "      <td>0</td>\n",
       "      <td>...</td>\n",
       "      <td>0</td>\n",
       "      <td>0</td>\n",
       "      <td>0</td>\n",
       "      <td>0</td>\n",
       "      <td>0</td>\n",
       "      <td>0</td>\n",
       "      <td>0</td>\n",
       "      <td>0</td>\n",
       "      <td>0</td>\n",
       "      <td>0</td>\n",
       "    </tr>\n",
       "  </tbody>\n",
       "</table>\n",
       "<p>5 rows × 282 columns</p>\n",
       "</div>"
      ],
      "text/plain": [
       "                    name colors  manaValue  power  toughness  Adamant  Adapt  \\\n",
       "0       Aeronaut Admiral      W        4.0    3.0        1.0        0      0   \n",
       "1       Aether Inspector      W        4.0    2.0        3.0        0      0   \n",
       "2      Aethergeode Miner      W        2.0    3.0        1.0        0      0   \n",
       "3      Airdrop Aeronauts      W        5.0    4.0        3.0        0      0   \n",
       "4  Audacious Infiltrator      W        2.0    3.0        1.0        0      0   \n",
       "\n",
       "   Afflict  Afterlife  Alliance  ...  Weird  Werewolf  Whale  Wizard  Wolf  \\\n",
       "0        0          0         0  ...      0         0      0       0     0   \n",
       "1        0          0         0  ...      0         0      0       0     0   \n",
       "2        0          0         0  ...      0         0      0       0     0   \n",
       "3        0          0         0  ...      0         0      0       0     0   \n",
       "4        0          0         0  ...      0         0      0       0     0   \n",
       "\n",
       "   Wolverine  Worm  Wurm  Yeti  Zombie  \n",
       "0          0     0     0     0       0  \n",
       "1          0     0     0     0       0  \n",
       "2          0     0     0     0       0  \n",
       "3          0     0     0     0       0  \n",
       "4          0     0     0     0       0  \n",
       "\n",
       "[5 rows x 282 columns]"
      ]
     },
     "execution_count": 4,
     "metadata": {},
     "output_type": "execute_result"
    }
   ],
   "source": [
    "df.head()"
   ]
  },
  {
   "cell_type": "code",
   "execution_count": 5,
   "id": "c96a718f",
   "metadata": {},
   "outputs": [
    {
     "data": {
      "text/plain": [
       "(3244, 282)"
      ]
     },
     "execution_count": 5,
     "metadata": {},
     "output_type": "execute_result"
    }
   ],
   "source": [
    "df.shape"
   ]
  },
  {
   "cell_type": "markdown",
   "id": "66822375",
   "metadata": {},
   "source": [
    "#### Train-Test-Split"
   ]
  },
  {
   "cell_type": "code",
   "execution_count": 11,
   "id": "d05f9089",
   "metadata": {},
   "outputs": [],
   "source": [
    "X_train, X_test, y_train, y_test = train_test_split(df.drop(columns=['name', 'colors']), df['colors'], test_size=0.2, \n",
    "                                                    random_state=42)"
   ]
  },
  {
   "cell_type": "markdown",
   "id": "b718cc1f",
   "metadata": {},
   "source": [
    "#### Standardize the variables"
   ]
  },
  {
   "cell_type": "code",
   "execution_count": 7,
   "id": "25a8866a",
   "metadata": {},
   "outputs": [],
   "source": [
    "scaler = MinMaxScaler()"
   ]
  },
  {
   "cell_type": "code",
   "execution_count": null,
   "id": "005256cf",
   "metadata": {},
   "outputs": [],
   "source": []
  },
  {
   "cell_type": "code",
   "execution_count": 12,
   "id": "445dbe6d",
   "metadata": {},
   "outputs": [],
   "source": [
    "normalized_x_train = pd.DataFrame(\n",
    "    scaler.fit_transform(X_train),\n",
    "    columns = X_train.columns\n",
    ")"
   ]
  },
  {
   "cell_type": "code",
   "execution_count": 13,
   "id": "9321a61e",
   "metadata": {},
   "outputs": [
    {
     "data": {
      "text/html": [
       "<div>\n",
       "<style scoped>\n",
       "    .dataframe tbody tr th:only-of-type {\n",
       "        vertical-align: middle;\n",
       "    }\n",
       "\n",
       "    .dataframe tbody tr th {\n",
       "        vertical-align: top;\n",
       "    }\n",
       "\n",
       "    .dataframe thead th {\n",
       "        text-align: right;\n",
       "    }\n",
       "</style>\n",
       "<table border=\"1\" class=\"dataframe\">\n",
       "  <thead>\n",
       "    <tr style=\"text-align: right;\">\n",
       "      <th></th>\n",
       "      <th>manaValue</th>\n",
       "      <th>power</th>\n",
       "      <th>toughness</th>\n",
       "      <th>Adamant</th>\n",
       "      <th>Adapt</th>\n",
       "      <th>Afflict</th>\n",
       "      <th>Afterlife</th>\n",
       "      <th>Alliance</th>\n",
       "      <th>Amass</th>\n",
       "      <th>Ascend</th>\n",
       "      <th>...</th>\n",
       "      <th>Weird</th>\n",
       "      <th>Werewolf</th>\n",
       "      <th>Whale</th>\n",
       "      <th>Wizard</th>\n",
       "      <th>Wolf</th>\n",
       "      <th>Wolverine</th>\n",
       "      <th>Worm</th>\n",
       "      <th>Wurm</th>\n",
       "      <th>Yeti</th>\n",
       "      <th>Zombie</th>\n",
       "    </tr>\n",
       "  </thead>\n",
       "  <tbody>\n",
       "    <tr>\n",
       "      <th>0</th>\n",
       "      <td>0.250000</td>\n",
       "      <td>0.250000</td>\n",
       "      <td>0.117647</td>\n",
       "      <td>0.0</td>\n",
       "      <td>0.0</td>\n",
       "      <td>0.0</td>\n",
       "      <td>0.0</td>\n",
       "      <td>0.0</td>\n",
       "      <td>0.0</td>\n",
       "      <td>0.0</td>\n",
       "      <td>...</td>\n",
       "      <td>0.0</td>\n",
       "      <td>0.0</td>\n",
       "      <td>0.0</td>\n",
       "      <td>0.0</td>\n",
       "      <td>0.0</td>\n",
       "      <td>0.0</td>\n",
       "      <td>0.0</td>\n",
       "      <td>0.0</td>\n",
       "      <td>0.0</td>\n",
       "      <td>0.0</td>\n",
       "    </tr>\n",
       "    <tr>\n",
       "      <th>1</th>\n",
       "      <td>0.083333</td>\n",
       "      <td>0.083333</td>\n",
       "      <td>0.117647</td>\n",
       "      <td>0.0</td>\n",
       "      <td>0.0</td>\n",
       "      <td>0.0</td>\n",
       "      <td>0.0</td>\n",
       "      <td>0.0</td>\n",
       "      <td>0.0</td>\n",
       "      <td>0.0</td>\n",
       "      <td>...</td>\n",
       "      <td>0.0</td>\n",
       "      <td>0.0</td>\n",
       "      <td>0.0</td>\n",
       "      <td>0.0</td>\n",
       "      <td>0.0</td>\n",
       "      <td>0.0</td>\n",
       "      <td>0.0</td>\n",
       "      <td>0.0</td>\n",
       "      <td>0.0</td>\n",
       "      <td>0.0</td>\n",
       "    </tr>\n",
       "    <tr>\n",
       "      <th>2</th>\n",
       "      <td>0.333333</td>\n",
       "      <td>0.333333</td>\n",
       "      <td>0.235294</td>\n",
       "      <td>0.0</td>\n",
       "      <td>0.0</td>\n",
       "      <td>0.0</td>\n",
       "      <td>0.0</td>\n",
       "      <td>0.0</td>\n",
       "      <td>0.0</td>\n",
       "      <td>0.0</td>\n",
       "      <td>...</td>\n",
       "      <td>0.0</td>\n",
       "      <td>0.0</td>\n",
       "      <td>0.0</td>\n",
       "      <td>0.0</td>\n",
       "      <td>0.0</td>\n",
       "      <td>0.0</td>\n",
       "      <td>0.0</td>\n",
       "      <td>0.0</td>\n",
       "      <td>0.0</td>\n",
       "      <td>0.0</td>\n",
       "    </tr>\n",
       "    <tr>\n",
       "      <th>3</th>\n",
       "      <td>0.333333</td>\n",
       "      <td>0.250000</td>\n",
       "      <td>0.117647</td>\n",
       "      <td>0.0</td>\n",
       "      <td>0.0</td>\n",
       "      <td>0.0</td>\n",
       "      <td>0.0</td>\n",
       "      <td>0.0</td>\n",
       "      <td>0.0</td>\n",
       "      <td>0.0</td>\n",
       "      <td>...</td>\n",
       "      <td>0.0</td>\n",
       "      <td>0.0</td>\n",
       "      <td>0.0</td>\n",
       "      <td>0.0</td>\n",
       "      <td>0.0</td>\n",
       "      <td>0.0</td>\n",
       "      <td>0.0</td>\n",
       "      <td>0.0</td>\n",
       "      <td>0.0</td>\n",
       "      <td>0.0</td>\n",
       "    </tr>\n",
       "    <tr>\n",
       "      <th>4</th>\n",
       "      <td>0.333333</td>\n",
       "      <td>0.166667</td>\n",
       "      <td>0.117647</td>\n",
       "      <td>0.0</td>\n",
       "      <td>0.0</td>\n",
       "      <td>0.0</td>\n",
       "      <td>0.0</td>\n",
       "      <td>0.0</td>\n",
       "      <td>0.0</td>\n",
       "      <td>0.0</td>\n",
       "      <td>...</td>\n",
       "      <td>0.0</td>\n",
       "      <td>0.0</td>\n",
       "      <td>0.0</td>\n",
       "      <td>0.0</td>\n",
       "      <td>0.0</td>\n",
       "      <td>0.0</td>\n",
       "      <td>0.0</td>\n",
       "      <td>0.0</td>\n",
       "      <td>0.0</td>\n",
       "      <td>0.0</td>\n",
       "    </tr>\n",
       "  </tbody>\n",
       "</table>\n",
       "<p>5 rows × 280 columns</p>\n",
       "</div>"
      ],
      "text/plain": [
       "   manaValue     power  toughness  Adamant  Adapt  Afflict  Afterlife  \\\n",
       "0   0.250000  0.250000   0.117647      0.0    0.0      0.0        0.0   \n",
       "1   0.083333  0.083333   0.117647      0.0    0.0      0.0        0.0   \n",
       "2   0.333333  0.333333   0.235294      0.0    0.0      0.0        0.0   \n",
       "3   0.333333  0.250000   0.117647      0.0    0.0      0.0        0.0   \n",
       "4   0.333333  0.166667   0.117647      0.0    0.0      0.0        0.0   \n",
       "\n",
       "   Alliance  Amass  Ascend  ...  Weird  Werewolf  Whale  Wizard  Wolf  \\\n",
       "0       0.0    0.0     0.0  ...    0.0       0.0    0.0     0.0   0.0   \n",
       "1       0.0    0.0     0.0  ...    0.0       0.0    0.0     0.0   0.0   \n",
       "2       0.0    0.0     0.0  ...    0.0       0.0    0.0     0.0   0.0   \n",
       "3       0.0    0.0     0.0  ...    0.0       0.0    0.0     0.0   0.0   \n",
       "4       0.0    0.0     0.0  ...    0.0       0.0    0.0     0.0   0.0   \n",
       "\n",
       "   Wolverine  Worm  Wurm  Yeti  Zombie  \n",
       "0        0.0   0.0   0.0   0.0     0.0  \n",
       "1        0.0   0.0   0.0   0.0     0.0  \n",
       "2        0.0   0.0   0.0   0.0     0.0  \n",
       "3        0.0   0.0   0.0   0.0     0.0  \n",
       "4        0.0   0.0   0.0   0.0     0.0  \n",
       "\n",
       "[5 rows x 280 columns]"
      ]
     },
     "execution_count": 13,
     "metadata": {},
     "output_type": "execute_result"
    }
   ],
   "source": [
    "normalized_x_train.head()"
   ]
  },
  {
   "cell_type": "code",
   "execution_count": 14,
   "id": "cc3e0615",
   "metadata": {},
   "outputs": [],
   "source": [
    "normalized_x_test = pd.DataFrame(\n",
    "    scaler.transform(X_test),\n",
    "    columns = X_test.columns\n",
    ")"
   ]
  },
  {
   "cell_type": "code",
   "execution_count": 15,
   "id": "f747a05f",
   "metadata": {},
   "outputs": [
    {
     "data": {
      "text/html": [
       "<div>\n",
       "<style scoped>\n",
       "    .dataframe tbody tr th:only-of-type {\n",
       "        vertical-align: middle;\n",
       "    }\n",
       "\n",
       "    .dataframe tbody tr th {\n",
       "        vertical-align: top;\n",
       "    }\n",
       "\n",
       "    .dataframe thead th {\n",
       "        text-align: right;\n",
       "    }\n",
       "</style>\n",
       "<table border=\"1\" class=\"dataframe\">\n",
       "  <thead>\n",
       "    <tr style=\"text-align: right;\">\n",
       "      <th></th>\n",
       "      <th>manaValue</th>\n",
       "      <th>power</th>\n",
       "      <th>toughness</th>\n",
       "      <th>Adamant</th>\n",
       "      <th>Adapt</th>\n",
       "      <th>Afflict</th>\n",
       "      <th>Afterlife</th>\n",
       "      <th>Alliance</th>\n",
       "      <th>Amass</th>\n",
       "      <th>Ascend</th>\n",
       "      <th>...</th>\n",
       "      <th>Weird</th>\n",
       "      <th>Werewolf</th>\n",
       "      <th>Whale</th>\n",
       "      <th>Wizard</th>\n",
       "      <th>Wolf</th>\n",
       "      <th>Wolverine</th>\n",
       "      <th>Worm</th>\n",
       "      <th>Wurm</th>\n",
       "      <th>Yeti</th>\n",
       "      <th>Zombie</th>\n",
       "    </tr>\n",
       "  </thead>\n",
       "  <tbody>\n",
       "    <tr>\n",
       "      <th>0</th>\n",
       "      <td>0.333333</td>\n",
       "      <td>0.333333</td>\n",
       "      <td>0.176471</td>\n",
       "      <td>0.0</td>\n",
       "      <td>0.0</td>\n",
       "      <td>0.0</td>\n",
       "      <td>0.0</td>\n",
       "      <td>0.0</td>\n",
       "      <td>0.0</td>\n",
       "      <td>0.0</td>\n",
       "      <td>...</td>\n",
       "      <td>0.0</td>\n",
       "      <td>0.0</td>\n",
       "      <td>0.0</td>\n",
       "      <td>0.0</td>\n",
       "      <td>0.0</td>\n",
       "      <td>0.0</td>\n",
       "      <td>0.0</td>\n",
       "      <td>0.0</td>\n",
       "      <td>0.0</td>\n",
       "      <td>0.0</td>\n",
       "    </tr>\n",
       "    <tr>\n",
       "      <th>1</th>\n",
       "      <td>0.250000</td>\n",
       "      <td>0.083333</td>\n",
       "      <td>0.117647</td>\n",
       "      <td>0.0</td>\n",
       "      <td>0.0</td>\n",
       "      <td>0.0</td>\n",
       "      <td>0.0</td>\n",
       "      <td>0.0</td>\n",
       "      <td>0.0</td>\n",
       "      <td>0.0</td>\n",
       "      <td>...</td>\n",
       "      <td>0.0</td>\n",
       "      <td>0.0</td>\n",
       "      <td>0.0</td>\n",
       "      <td>0.0</td>\n",
       "      <td>0.0</td>\n",
       "      <td>0.0</td>\n",
       "      <td>0.0</td>\n",
       "      <td>0.0</td>\n",
       "      <td>0.0</td>\n",
       "      <td>0.0</td>\n",
       "    </tr>\n",
       "    <tr>\n",
       "      <th>2</th>\n",
       "      <td>0.333333</td>\n",
       "      <td>0.250000</td>\n",
       "      <td>0.176471</td>\n",
       "      <td>0.0</td>\n",
       "      <td>0.0</td>\n",
       "      <td>0.0</td>\n",
       "      <td>0.0</td>\n",
       "      <td>0.0</td>\n",
       "      <td>0.0</td>\n",
       "      <td>0.0</td>\n",
       "      <td>...</td>\n",
       "      <td>0.0</td>\n",
       "      <td>0.0</td>\n",
       "      <td>0.0</td>\n",
       "      <td>0.0</td>\n",
       "      <td>0.0</td>\n",
       "      <td>0.0</td>\n",
       "      <td>0.0</td>\n",
       "      <td>0.0</td>\n",
       "      <td>0.0</td>\n",
       "      <td>0.0</td>\n",
       "    </tr>\n",
       "    <tr>\n",
       "      <th>3</th>\n",
       "      <td>0.333333</td>\n",
       "      <td>0.250000</td>\n",
       "      <td>0.235294</td>\n",
       "      <td>0.0</td>\n",
       "      <td>0.0</td>\n",
       "      <td>0.0</td>\n",
       "      <td>0.0</td>\n",
       "      <td>0.0</td>\n",
       "      <td>0.0</td>\n",
       "      <td>0.0</td>\n",
       "      <td>...</td>\n",
       "      <td>0.0</td>\n",
       "      <td>0.0</td>\n",
       "      <td>0.0</td>\n",
       "      <td>0.0</td>\n",
       "      <td>0.0</td>\n",
       "      <td>0.0</td>\n",
       "      <td>0.0</td>\n",
       "      <td>0.0</td>\n",
       "      <td>0.0</td>\n",
       "      <td>0.0</td>\n",
       "    </tr>\n",
       "    <tr>\n",
       "      <th>4</th>\n",
       "      <td>0.333333</td>\n",
       "      <td>0.333333</td>\n",
       "      <td>0.176471</td>\n",
       "      <td>0.0</td>\n",
       "      <td>0.0</td>\n",
       "      <td>0.0</td>\n",
       "      <td>0.0</td>\n",
       "      <td>0.0</td>\n",
       "      <td>0.0</td>\n",
       "      <td>0.0</td>\n",
       "      <td>...</td>\n",
       "      <td>0.0</td>\n",
       "      <td>1.0</td>\n",
       "      <td>0.0</td>\n",
       "      <td>0.0</td>\n",
       "      <td>0.0</td>\n",
       "      <td>0.0</td>\n",
       "      <td>0.0</td>\n",
       "      <td>0.0</td>\n",
       "      <td>0.0</td>\n",
       "      <td>0.0</td>\n",
       "    </tr>\n",
       "  </tbody>\n",
       "</table>\n",
       "<p>5 rows × 280 columns</p>\n",
       "</div>"
      ],
      "text/plain": [
       "   manaValue     power  toughness  Adamant  Adapt  Afflict  Afterlife  \\\n",
       "0   0.333333  0.333333   0.176471      0.0    0.0      0.0        0.0   \n",
       "1   0.250000  0.083333   0.117647      0.0    0.0      0.0        0.0   \n",
       "2   0.333333  0.250000   0.176471      0.0    0.0      0.0        0.0   \n",
       "3   0.333333  0.250000   0.235294      0.0    0.0      0.0        0.0   \n",
       "4   0.333333  0.333333   0.176471      0.0    0.0      0.0        0.0   \n",
       "\n",
       "   Alliance  Amass  Ascend  ...  Weird  Werewolf  Whale  Wizard  Wolf  \\\n",
       "0       0.0    0.0     0.0  ...    0.0       0.0    0.0     0.0   0.0   \n",
       "1       0.0    0.0     0.0  ...    0.0       0.0    0.0     0.0   0.0   \n",
       "2       0.0    0.0     0.0  ...    0.0       0.0    0.0     0.0   0.0   \n",
       "3       0.0    0.0     0.0  ...    0.0       0.0    0.0     0.0   0.0   \n",
       "4       0.0    0.0     0.0  ...    0.0       1.0    0.0     0.0   0.0   \n",
       "\n",
       "   Wolverine  Worm  Wurm  Yeti  Zombie  \n",
       "0        0.0   0.0   0.0   0.0     0.0  \n",
       "1        0.0   0.0   0.0   0.0     0.0  \n",
       "2        0.0   0.0   0.0   0.0     0.0  \n",
       "3        0.0   0.0   0.0   0.0     0.0  \n",
       "4        0.0   0.0   0.0   0.0     0.0  \n",
       "\n",
       "[5 rows x 280 columns]"
      ]
     },
     "execution_count": 15,
     "metadata": {},
     "output_type": "execute_result"
    }
   ],
   "source": [
    "normalized_x_test.head()"
   ]
  },
  {
   "cell_type": "markdown",
   "id": "ac2b23cd",
   "metadata": {},
   "source": [
    "#### Test Results Helper function\n",
    "Because we're going to be testing out several different classification models, it will help to have a function that assembles the two primary reports we'll be using to see the efficacy of our models.  These are the Classification Report and Confusion Matrix.  I make a small helper function to save some typing in the future."
   ]
  },
  {
   "cell_type": "code",
   "execution_count": 18,
   "id": "3d5aa770",
   "metadata": {},
   "outputs": [],
   "source": [
    "def get_test_results (test, preds, model):\n",
    "    cm = confusion_matrix(test, preds, labels=model.classes_)\n",
    "    disp = ConfusionMatrixDisplay(confusion_matrix=cm, display_labels=model.classes_)\n",
    "    print(classification_report(test, preds))\n",
    "    print('\\n')\n",
    "    disp.plot()\n",
    "    plt.show()"
   ]
  },
  {
   "cell_type": "markdown",
   "id": "6eeb7d15",
   "metadata": {},
   "source": [
    "#### Logistic Regression"
   ]
  },
  {
   "cell_type": "markdown",
   "id": "da51172d",
   "metadata": {},
   "source": [
    "We'll begin by trying out Logistic Regression, which I've previously identified as one of the best candidates for this sort of classification problem.  Let's run the numbers and see how it does."
   ]
  },
  {
   "cell_type": "code",
   "execution_count": 16,
   "id": "81487c85",
   "metadata": {},
   "outputs": [
    {
     "data": {
      "text/plain": [
       "LogisticRegression(max_iter=2000)"
      ]
     },
     "execution_count": 16,
     "metadata": {},
     "output_type": "execute_result"
    }
   ],
   "source": [
    "logmodel = LogisticRegression(max_iter=2000)\n",
    "logmodel.fit(normalized_x_train,y_train)"
   ]
  },
  {
   "cell_type": "code",
   "execution_count": 17,
   "id": "222f17c7",
   "metadata": {},
   "outputs": [],
   "source": [
    "predictions = logmodel.predict(normalized_x_test)"
   ]
  },
  {
   "cell_type": "code",
   "execution_count": 19,
   "id": "d74f1946",
   "metadata": {},
   "outputs": [
    {
     "name": "stdout",
     "output_type": "stream",
     "text": [
      "              precision    recall  f1-score   support\n",
      "\n",
      "           B       0.74      0.68      0.71       110\n",
      "           C       0.95      0.98      0.96        56\n",
      "           G       0.68      0.72      0.70       129\n",
      "           R       0.75      0.79      0.77       126\n",
      "           U       0.68      0.67      0.67       108\n",
      "           W       0.67      0.63      0.65       120\n",
      "\n",
      "    accuracy                           0.72       649\n",
      "   macro avg       0.74      0.75      0.74       649\n",
      "weighted avg       0.72      0.72      0.72       649\n",
      "\n",
      "\n",
      "\n"
     ]
    },
    {
     "data": {
      "image/png": "[encoded data removed]",
      "text/plain": [
       "<Figure size 432x288 with 2 Axes>"
      ]
     },
     "metadata": {
      "needs_background": "light"
     },
     "output_type": "display_data"
    }
   ],
   "source": [
    "get_test_results(y_test, predictions, logmodel)"
   ]
  },
  {
   "cell_type": "markdown",
   "id": "cf8a86bd",
   "metadata": {},
   "source": [
    "Our first pass with Logistic Regression and no tuned parameters actually works out relatively well, all things considered!  We are getting a little over 70% accuracy overall, with Colorless creatures being the easiest for the model to identify by far and Green, Blue and White Creatures each proving to be slightly trickier than Black or Red.  Let's see if we can tune our parameters by using a Grid Search, and see if that improves our results at all."
   ]
  },
  {
   "cell_type": "markdown",
   "id": "98ac75aa",
   "metadata": {},
   "source": [
    "#### Grid Search for Logistic Regression Hyperparameters"
   ]
  },
  {
   "cell_type": "markdown",
   "id": "529ec1d4",
   "metadata": {},
   "source": [
    "We'll set up a grid search using 4 different potential solvers and a range of C values.  We'll use `RepeatedStratifiedKFold` cross-validation to cross-validate our results and hopefully avoid overfitting."
   ]
  },
  {
   "cell_type": "code",
   "execution_count": 20,
   "id": "9103d2ea",
   "metadata": {},
   "outputs": [],
   "source": [
    "model = LogisticRegression(max_iter=5000)\n",
    "solvers = ['newton-cg', 'lbfgs', 'liblinear', 'sag']\n",
    "penalty = ['l2']\n",
    "c_values = [100, 10, 1.0, 0.1, 0.01]"
   ]
  },
  {
   "cell_type": "code",
   "execution_count": 33,
   "id": "37ee297a",
   "metadata": {},
   "outputs": [],
   "source": [
    "grid = dict(solver=solvers, penalty=penalty, C=c_values)\n",
    "cv = RepeatedStratifiedKFold(n_splits=10, n_repeats=5, random_state=1)\n",
    "grid_search = GridSearchCV(estimator=model, param_grid=grid, n_jobs=1, cv=cv, scoring='accuracy', error_score=0)"
   ]
  },
  {
   "cell_type": "code",
   "execution_count": 34,
   "id": "818fa60f",
   "metadata": {},
   "outputs": [],
   "source": [
    "grid_result = grid_search.fit(normalized_x_train, y_train)"
   ]
  },
  {
   "cell_type": "code",
   "execution_count": 35,
   "id": "8fdcfd50",
   "metadata": {},
   "outputs": [
    {
     "name": "stdout",
     "output_type": "stream",
     "text": [
      "Best: 0.727941 using {'C': 10, 'penalty': 'l2', 'solver': 'liblinear'}\n"
     ]
    }
   ],
   "source": [
    "print(\"Best: %f using %s\" % (grid_result.best_score_, grid_result.best_params_))"
   ]
  },
  {
   "cell_type": "code",
   "execution_count": 36,
   "id": "f2242403",
   "metadata": {},
   "outputs": [],
   "source": [
    "means = grid_result.cv_results_['mean_test_score']\n",
    "stds = grid_result.cv_results_['std_test_score']\n",
    "params = grid_result.cv_results_['params']"
   ]
  },
  {
   "cell_type": "code",
   "execution_count": 37,
   "id": "a523dd5c",
   "metadata": {},
   "outputs": [
    {
     "name": "stdout",
     "output_type": "stream",
     "text": [
      "0.711137 (0.027228) with: {'C': 100, 'penalty': 'l2', 'solver': 'newton-cg'}\n",
      "0.711060 (0.027210) with: {'C': 100, 'penalty': 'l2', 'solver': 'lbfgs'}\n",
      "0.719542 (0.027836) with: {'C': 100, 'penalty': 'l2', 'solver': 'liblinear'}\n",
      "0.711214 (0.026991) with: {'C': 100, 'penalty': 'l2', 'solver': 'sag'}\n",
      "0.723468 (0.024159) with: {'C': 10, 'penalty': 'l2', 'solver': 'newton-cg'}\n",
      "0.723468 (0.024159) with: {'C': 10, 'penalty': 'l2', 'solver': 'lbfgs'}\n",
      "0.727941 (0.026955) with: {'C': 10, 'penalty': 'l2', 'solver': 'liblinear'}\n",
      "0.723545 (0.024286) with: {'C': 10, 'penalty': 'l2', 'solver': 'sag'}\n",
      "0.724631 (0.025847) with: {'C': 1.0, 'penalty': 'l2', 'solver': 'newton-cg'}\n",
      "0.724631 (0.025847) with: {'C': 1.0, 'penalty': 'l2', 'solver': 'lbfgs'}\n",
      "0.722167 (0.026553) with: {'C': 1.0, 'penalty': 'l2', 'solver': 'liblinear'}\n",
      "0.724708 (0.025802) with: {'C': 1.0, 'penalty': 'l2', 'solver': 'sag'}\n",
      "0.692040 (0.027997) with: {'C': 0.1, 'penalty': 'l2', 'solver': 'newton-cg'}\n",
      "0.692116 (0.028024) with: {'C': 0.1, 'penalty': 'l2', 'solver': 'lbfgs'}\n",
      "0.684178 (0.028533) with: {'C': 0.1, 'penalty': 'l2', 'solver': 'liblinear'}\n",
      "0.692040 (0.027997) with: {'C': 0.1, 'penalty': 'l2', 'solver': 'sag'}\n",
      "0.580343 (0.030084) with: {'C': 0.01, 'penalty': 'l2', 'solver': 'newton-cg'}\n",
      "0.580343 (0.030084) with: {'C': 0.01, 'penalty': 'l2', 'solver': 'lbfgs'}\n",
      "0.600156 (0.026852) with: {'C': 0.01, 'penalty': 'l2', 'solver': 'liblinear'}\n",
      "0.580420 (0.030158) with: {'C': 0.01, 'penalty': 'l2', 'solver': 'sag'}\n"
     ]
    }
   ],
   "source": [
    "for mean, stdev, param in zip(means, stds, params):\n",
    "    print('%f (%f) with: %r' % (mean, stdev, param))"
   ]
  },
  {
   "cell_type": "code",
   "execution_count": null,
   "id": "dc3ac620",
   "metadata": {},
   "outputs": [],
   "source": []
  },
  {
   "cell_type": "code",
   "execution_count": 38,
   "id": "4b43ffb7",
   "metadata": {},
   "outputs": [],
   "source": [
    "grid_logmodel = LogisticRegression(max_iter=5000, penalty='l2', solver='liblinear', C=10)"
   ]
  },
  {
   "cell_type": "code",
   "execution_count": 39,
   "id": "e1f7f52b",
   "metadata": {},
   "outputs": [
    {
     "data": {
      "text/plain": [
       "LogisticRegression(C=10, max_iter=5000, solver='liblinear')"
      ]
     },
     "execution_count": 39,
     "metadata": {},
     "output_type": "execute_result"
    }
   ],
   "source": [
    "grid_logmodel.fit(normalized_x_train, y_train)"
   ]
  },
  {
   "cell_type": "code",
   "execution_count": 40,
   "id": "a66362da",
   "metadata": {},
   "outputs": [],
   "source": [
    "grid_predictions = grid_logmodel.predict(normalized_x_test)"
   ]
  },
  {
   "cell_type": "code",
   "execution_count": 41,
   "id": "87f24c75",
   "metadata": {},
   "outputs": [
    {
     "name": "stdout",
     "output_type": "stream",
     "text": [
      "              precision    recall  f1-score   support\n",
      "\n",
      "           B       0.72      0.69      0.70       110\n",
      "           C       0.95      0.98      0.96        56\n",
      "           G       0.70      0.70      0.70       129\n",
      "           R       0.71      0.79      0.75       126\n",
      "           U       0.73      0.70      0.72       108\n",
      "           W       0.69      0.65      0.67       120\n",
      "\n",
      "    accuracy                           0.73       649\n",
      "   macro avg       0.75      0.75      0.75       649\n",
      "weighted avg       0.73      0.73      0.73       649\n",
      "\n",
      "\n",
      "\n"
     ]
    },
    {
     "data": {
      "image/png": "[encoded data removed]",
      "text/plain": [
       "<Figure size 432x288 with 2 Axes>"
      ]
     },
     "metadata": {
      "needs_background": "light"
     },
     "output_type": "display_data"
    }
   ],
   "source": [
    "get_test_results(y_test, grid_predictions, grid_logmodel)"
   ]
  },
  {
   "cell_type": "markdown",
   "id": "2084e0c9",
   "metadata": {},
   "source": [
    "Our Grid Search tuning was by no means exhaustive, but it did improve our results slightly, resulting in an overall increase in accuracy and improving All three of our weakest categories of identification (though, at the expense of our previous strongest two categories."
   ]
  },
  {
   "cell_type": "markdown",
   "id": "65780a92",
   "metadata": {},
   "source": [
    "#### LinearSVC"
   ]
  },
  {
   "cell_type": "code",
   "execution_count": null,
   "id": "9ad454c4",
   "metadata": {},
   "outputs": [],
   "source": []
  },
  {
   "cell_type": "code",
   "execution_count": 43,
   "id": "123f8814",
   "metadata": {},
   "outputs": [],
   "source": [
    "svc_clf = LinearSVC()"
   ]
  },
  {
   "cell_type": "code",
   "execution_count": 44,
   "id": "06c5e998",
   "metadata": {},
   "outputs": [
    {
     "data": {
      "text/plain": [
       "LinearSVC()"
      ]
     },
     "execution_count": 44,
     "metadata": {},
     "output_type": "execute_result"
    }
   ],
   "source": [
    "svc_clf.fit(normalized_x_train, y_train)"
   ]
  },
  {
   "cell_type": "code",
   "execution_count": 45,
   "id": "43968183",
   "metadata": {},
   "outputs": [],
   "source": [
    "svc_preds = svc_clf.predict(normalized_x_test)"
   ]
  },
  {
   "cell_type": "code",
   "execution_count": 46,
   "id": "bd301101",
   "metadata": {},
   "outputs": [
    {
     "name": "stdout",
     "output_type": "stream",
     "text": [
      "              precision    recall  f1-score   support\n",
      "\n",
      "           B       0.72      0.71      0.72       110\n",
      "           C       0.95      0.98      0.96        56\n",
      "           G       0.72      0.73      0.72       129\n",
      "           R       0.73      0.76      0.74       126\n",
      "           U       0.71      0.70      0.71       108\n",
      "           W       0.71      0.67      0.69       120\n",
      "\n",
      "    accuracy                           0.74       649\n",
      "   macro avg       0.76      0.76      0.76       649\n",
      "weighted avg       0.74      0.74      0.74       649\n",
      "\n",
      "\n",
      "\n"
     ]
    },
    {
     "data": {
      "image/png": "[encoded data removed]",
      "text/plain": [
       "<Figure size 432x288 with 2 Axes>"
      ]
     },
     "metadata": {
      "needs_background": "light"
     },
     "output_type": "display_data"
    }
   ],
   "source": [
    "get_test_results(y_test, svc_preds, svc_clf)"
   ]
  },
  {
   "cell_type": "code",
   "execution_count": null,
   "id": "82033abf",
   "metadata": {},
   "outputs": [],
   "source": [
    "svc_clf.predict_proba"
   ]
  },
  {
   "cell_type": "code",
   "execution_count": null,
   "id": "ea034d39",
   "metadata": {},
   "outputs": [],
   "source": []
  },
  {
   "cell_type": "code",
   "execution_count": 63,
   "id": "104fadc3",
   "metadata": {},
   "outputs": [],
   "source": [
    "model = LinearSVC(max_iter=5000)\n",
    "losses = ['hinge', 'squared_hinge']\n",
    "dual = [True, False]\n",
    "c_values = [100, 10, 1.0, 0.1, 0.01]"
   ]
  },
  {
   "cell_type": "code",
   "execution_count": 64,
   "id": "44d4b2f3",
   "metadata": {},
   "outputs": [],
   "source": [
    "grid = dict(loss=losses, dual=dual, C=c_values)\n",
    "cv = RepeatedStratifiedKFold(n_splits=10, n_repeats=5, random_state=1)\n",
    "grid_search = GridSearchCV(estimator=model, param_grid=grid, n_jobs=1, cv=cv, scoring='accuracy', error_score=0)"
   ]
  },
  {
   "cell_type": "code",
   "execution_count": 65,
   "id": "4495d3a5",
   "metadata": {},
   "outputs": [
    {
     "name": "stderr",
     "output_type": "stream",
     "text": [
      "C:\\Users\\aeric\\anaconda3\\lib\\site-packages\\sklearn\\svm\\_base.py:1206: ConvergenceWarning: Liblinear failed to converge, increase the number of iterations.\n",
      "  warnings.warn(\n",
      "C:\\Users\\aeric\\anaconda3\\lib\\site-packages\\sklearn\\svm\\_base.py:1206: ConvergenceWarning: Liblinear failed to converge, increase the number of iterations.\n",
      "  warnings.warn(\n",
      "C:\\Users\\aeric\\anaconda3\\lib\\site-packages\\sklearn\\svm\\_base.py:1206: ConvergenceWarning: Liblinear failed to converge, increase the number of iterations.\n",
      "  warnings.warn(\n",
      "C:\\Users\\aeric\\anaconda3\\lib\\site-packages\\sklearn\\svm\\_base.py:1206: ConvergenceWarning: Liblinear failed to converge, increase the number of iterations.\n",
      "  warnings.warn(\n",
      "C:\\Users\\aeric\\anaconda3\\lib\\site-packages\\sklearn\\svm\\_base.py:1206: ConvergenceWarning: Liblinear failed to converge, increase the number of iterations.\n",
      "  warnings.warn(\n",
      "C:\\Users\\aeric\\anaconda3\\lib\\site-packages\\sklearn\\svm\\_base.py:1206: ConvergenceWarning: Liblinear failed to converge, increase the number of iterations.\n",
      "  warnings.warn(\n",
      "C:\\Users\\aeric\\anaconda3\\lib\\site-packages\\sklearn\\svm\\_base.py:1206: ConvergenceWarning: Liblinear failed to converge, increase the number of iterations.\n",
      "  warnings.warn(\n",
      "C:\\Users\\aeric\\anaconda3\\lib\\site-packages\\sklearn\\svm\\_base.py:1206: ConvergenceWarning: Liblinear failed to converge, increase the number of iterations.\n",
      "  warnings.warn(\n",
      "C:\\Users\\aeric\\anaconda3\\lib\\site-packages\\sklearn\\svm\\_base.py:1206: ConvergenceWarning: Liblinear failed to converge, increase the number of iterations.\n",
      "  warnings.warn(\n",
      "C:\\Users\\aeric\\anaconda3\\lib\\site-packages\\sklearn\\svm\\_base.py:1206: ConvergenceWarning: Liblinear failed to converge, increase the number of iterations.\n",
      "  warnings.warn(\n",
      "C:\\Users\\aeric\\anaconda3\\lib\\site-packages\\sklearn\\svm\\_base.py:1206: ConvergenceWarning: Liblinear failed to converge, increase the number of iterations.\n",
      "  warnings.warn(\n",
      "C:\\Users\\aeric\\anaconda3\\lib\\site-packages\\sklearn\\svm\\_base.py:1206: ConvergenceWarning: Liblinear failed to converge, increase the number of iterations.\n",
      "  warnings.warn(\n",
      "C:\\Users\\aeric\\anaconda3\\lib\\site-packages\\sklearn\\svm\\_base.py:1206: ConvergenceWarning: Liblinear failed to converge, increase the number of iterations.\n",
      "  warnings.warn(\n",
      "C:\\Users\\aeric\\anaconda3\\lib\\site-packages\\sklearn\\svm\\_base.py:1206: ConvergenceWarning: Liblinear failed to converge, increase the number of iterations.\n",
      "  warnings.warn(\n",
      "C:\\Users\\aeric\\anaconda3\\lib\\site-packages\\sklearn\\svm\\_base.py:1206: ConvergenceWarning: Liblinear failed to converge, increase the number of iterations.\n",
      "  warnings.warn(\n",
      "C:\\Users\\aeric\\anaconda3\\lib\\site-packages\\sklearn\\svm\\_base.py:1206: ConvergenceWarning: Liblinear failed to converge, increase the number of iterations.\n",
      "  warnings.warn(\n",
      "C:\\Users\\aeric\\anaconda3\\lib\\site-packages\\sklearn\\svm\\_base.py:1206: ConvergenceWarning: Liblinear failed to converge, increase the number of iterations.\n",
      "  warnings.warn(\n",
      "C:\\Users\\aeric\\anaconda3\\lib\\site-packages\\sklearn\\svm\\_base.py:1206: ConvergenceWarning: Liblinear failed to converge, increase the number of iterations.\n",
      "  warnings.warn(\n",
      "C:\\Users\\aeric\\anaconda3\\lib\\site-packages\\sklearn\\svm\\_base.py:1206: ConvergenceWarning: Liblinear failed to converge, increase the number of iterations.\n",
      "  warnings.warn(\n",
      "C:\\Users\\aeric\\anaconda3\\lib\\site-packages\\sklearn\\svm\\_base.py:1206: ConvergenceWarning: Liblinear failed to converge, increase the number of iterations.\n",
      "  warnings.warn(\n",
      "C:\\Users\\aeric\\anaconda3\\lib\\site-packages\\sklearn\\svm\\_base.py:1206: ConvergenceWarning: Liblinear failed to converge, increase the number of iterations.\n",
      "  warnings.warn(\n",
      "C:\\Users\\aeric\\anaconda3\\lib\\site-packages\\sklearn\\svm\\_base.py:1206: ConvergenceWarning: Liblinear failed to converge, increase the number of iterations.\n",
      "  warnings.warn(\n",
      "C:\\Users\\aeric\\anaconda3\\lib\\site-packages\\sklearn\\svm\\_base.py:1206: ConvergenceWarning: Liblinear failed to converge, increase the number of iterations.\n",
      "  warnings.warn(\n",
      "C:\\Users\\aeric\\anaconda3\\lib\\site-packages\\sklearn\\svm\\_base.py:1206: ConvergenceWarning: Liblinear failed to converge, increase the number of iterations.\n",
      "  warnings.warn(\n",
      "C:\\Users\\aeric\\anaconda3\\lib\\site-packages\\sklearn\\svm\\_base.py:1206: ConvergenceWarning: Liblinear failed to converge, increase the number of iterations.\n",
      "  warnings.warn(\n",
      "C:\\Users\\aeric\\anaconda3\\lib\\site-packages\\sklearn\\svm\\_base.py:1206: ConvergenceWarning: Liblinear failed to converge, increase the number of iterations.\n",
      "  warnings.warn(\n",
      "C:\\Users\\aeric\\anaconda3\\lib\\site-packages\\sklearn\\svm\\_base.py:1206: ConvergenceWarning: Liblinear failed to converge, increase the number of iterations.\n",
      "  warnings.warn(\n",
      "C:\\Users\\aeric\\anaconda3\\lib\\site-packages\\sklearn\\svm\\_base.py:1206: ConvergenceWarning: Liblinear failed to converge, increase the number of iterations.\n",
      "  warnings.warn(\n",
      "C:\\Users\\aeric\\anaconda3\\lib\\site-packages\\sklearn\\svm\\_base.py:1206: ConvergenceWarning: Liblinear failed to converge, increase the number of iterations.\n",
      "  warnings.warn(\n",
      "C:\\Users\\aeric\\anaconda3\\lib\\site-packages\\sklearn\\svm\\_base.py:1206: ConvergenceWarning: Liblinear failed to converge, increase the number of iterations.\n",
      "  warnings.warn(\n",
      "C:\\Users\\aeric\\anaconda3\\lib\\site-packages\\sklearn\\svm\\_base.py:1206: ConvergenceWarning: Liblinear failed to converge, increase the number of iterations.\n",
      "  warnings.warn(\n",
      "C:\\Users\\aeric\\anaconda3\\lib\\site-packages\\sklearn\\svm\\_base.py:1206: ConvergenceWarning: Liblinear failed to converge, increase the number of iterations.\n",
      "  warnings.warn(\n",
      "C:\\Users\\aeric\\anaconda3\\lib\\site-packages\\sklearn\\svm\\_base.py:1206: ConvergenceWarning: Liblinear failed to converge, increase the number of iterations.\n",
      "  warnings.warn(\n",
      "C:\\Users\\aeric\\anaconda3\\lib\\site-packages\\sklearn\\svm\\_base.py:1206: ConvergenceWarning: Liblinear failed to converge, increase the number of iterations.\n",
      "  warnings.warn(\n",
      "C:\\Users\\aeric\\anaconda3\\lib\\site-packages\\sklearn\\svm\\_base.py:1206: ConvergenceWarning: Liblinear failed to converge, increase the number of iterations.\n",
      "  warnings.warn(\n",
      "C:\\Users\\aeric\\anaconda3\\lib\\site-packages\\sklearn\\svm\\_base.py:1206: ConvergenceWarning: Liblinear failed to converge, increase the number of iterations.\n",
      "  warnings.warn(\n",
      "C:\\Users\\aeric\\anaconda3\\lib\\site-packages\\sklearn\\svm\\_base.py:1206: ConvergenceWarning: Liblinear failed to converge, increase the number of iterations.\n",
      "  warnings.warn(\n",
      "C:\\Users\\aeric\\anaconda3\\lib\\site-packages\\sklearn\\svm\\_base.py:1206: ConvergenceWarning: Liblinear failed to converge, increase the number of iterations.\n",
      "  warnings.warn(\n",
      "C:\\Users\\aeric\\anaconda3\\lib\\site-packages\\sklearn\\svm\\_base.py:1206: ConvergenceWarning: Liblinear failed to converge, increase the number of iterations.\n",
      "  warnings.warn(\n",
      "C:\\Users\\aeric\\anaconda3\\lib\\site-packages\\sklearn\\svm\\_base.py:1206: ConvergenceWarning: Liblinear failed to converge, increase the number of iterations.\n",
      "  warnings.warn(\n",
      "C:\\Users\\aeric\\anaconda3\\lib\\site-packages\\sklearn\\svm\\_base.py:1206: ConvergenceWarning: Liblinear failed to converge, increase the number of iterations.\n",
      "  warnings.warn(\n",
      "C:\\Users\\aeric\\anaconda3\\lib\\site-packages\\sklearn\\svm\\_base.py:1206: ConvergenceWarning: Liblinear failed to converge, increase the number of iterations.\n",
      "  warnings.warn(\n",
      "C:\\Users\\aeric\\anaconda3\\lib\\site-packages\\sklearn\\svm\\_base.py:1206: ConvergenceWarning: Liblinear failed to converge, increase the number of iterations.\n",
      "  warnings.warn(\n",
      "C:\\Users\\aeric\\anaconda3\\lib\\site-packages\\sklearn\\svm\\_base.py:1206: ConvergenceWarning: Liblinear failed to converge, increase the number of iterations.\n",
      "  warnings.warn(\n",
      "C:\\Users\\aeric\\anaconda3\\lib\\site-packages\\sklearn\\svm\\_base.py:1206: ConvergenceWarning: Liblinear failed to converge, increase the number of iterations.\n",
      "  warnings.warn(\n",
      "C:\\Users\\aeric\\anaconda3\\lib\\site-packages\\sklearn\\svm\\_base.py:1206: ConvergenceWarning: Liblinear failed to converge, increase the number of iterations.\n",
      "  warnings.warn(\n",
      "C:\\Users\\aeric\\anaconda3\\lib\\site-packages\\sklearn\\svm\\_base.py:1206: ConvergenceWarning: Liblinear failed to converge, increase the number of iterations.\n",
      "  warnings.warn(\n",
      "C:\\Users\\aeric\\anaconda3\\lib\\site-packages\\sklearn\\svm\\_base.py:1206: ConvergenceWarning: Liblinear failed to converge, increase the number of iterations.\n",
      "  warnings.warn(\n"
     ]
    },
    {
     "name": "stderr",
     "output_type": "stream",
     "text": [
      "C:\\Users\\aeric\\anaconda3\\lib\\site-packages\\sklearn\\svm\\_base.py:1206: ConvergenceWarning: Liblinear failed to converge, increase the number of iterations.\n",
      "  warnings.warn(\n",
      "C:\\Users\\aeric\\anaconda3\\lib\\site-packages\\sklearn\\svm\\_base.py:1206: ConvergenceWarning: Liblinear failed to converge, increase the number of iterations.\n",
      "  warnings.warn(\n",
      "C:\\Users\\aeric\\anaconda3\\lib\\site-packages\\sklearn\\svm\\_base.py:1206: ConvergenceWarning: Liblinear failed to converge, increase the number of iterations.\n",
      "  warnings.warn(\n",
      "C:\\Users\\aeric\\anaconda3\\lib\\site-packages\\sklearn\\svm\\_base.py:1206: ConvergenceWarning: Liblinear failed to converge, increase the number of iterations.\n",
      "  warnings.warn(\n",
      "C:\\Users\\aeric\\anaconda3\\lib\\site-packages\\sklearn\\svm\\_base.py:1206: ConvergenceWarning: Liblinear failed to converge, increase the number of iterations.\n",
      "  warnings.warn(\n",
      "C:\\Users\\aeric\\anaconda3\\lib\\site-packages\\sklearn\\svm\\_base.py:1206: ConvergenceWarning: Liblinear failed to converge, increase the number of iterations.\n",
      "  warnings.warn(\n",
      "C:\\Users\\aeric\\anaconda3\\lib\\site-packages\\sklearn\\svm\\_base.py:1206: ConvergenceWarning: Liblinear failed to converge, increase the number of iterations.\n",
      "  warnings.warn(\n",
      "C:\\Users\\aeric\\anaconda3\\lib\\site-packages\\sklearn\\svm\\_base.py:1206: ConvergenceWarning: Liblinear failed to converge, increase the number of iterations.\n",
      "  warnings.warn(\n",
      "C:\\Users\\aeric\\anaconda3\\lib\\site-packages\\sklearn\\svm\\_base.py:1206: ConvergenceWarning: Liblinear failed to converge, increase the number of iterations.\n",
      "  warnings.warn(\n",
      "C:\\Users\\aeric\\anaconda3\\lib\\site-packages\\sklearn\\svm\\_base.py:1206: ConvergenceWarning: Liblinear failed to converge, increase the number of iterations.\n",
      "  warnings.warn(\n",
      "C:\\Users\\aeric\\anaconda3\\lib\\site-packages\\sklearn\\svm\\_base.py:1206: ConvergenceWarning: Liblinear failed to converge, increase the number of iterations.\n",
      "  warnings.warn(\n",
      "C:\\Users\\aeric\\anaconda3\\lib\\site-packages\\sklearn\\svm\\_base.py:1206: ConvergenceWarning: Liblinear failed to converge, increase the number of iterations.\n",
      "  warnings.warn(\n",
      "C:\\Users\\aeric\\anaconda3\\lib\\site-packages\\sklearn\\svm\\_base.py:1206: ConvergenceWarning: Liblinear failed to converge, increase the number of iterations.\n",
      "  warnings.warn(\n",
      "C:\\Users\\aeric\\anaconda3\\lib\\site-packages\\sklearn\\svm\\_base.py:1206: ConvergenceWarning: Liblinear failed to converge, increase the number of iterations.\n",
      "  warnings.warn(\n",
      "C:\\Users\\aeric\\anaconda3\\lib\\site-packages\\sklearn\\svm\\_base.py:1206: ConvergenceWarning: Liblinear failed to converge, increase the number of iterations.\n",
      "  warnings.warn(\n",
      "C:\\Users\\aeric\\anaconda3\\lib\\site-packages\\sklearn\\svm\\_base.py:1206: ConvergenceWarning: Liblinear failed to converge, increase the number of iterations.\n",
      "  warnings.warn(\n",
      "C:\\Users\\aeric\\anaconda3\\lib\\site-packages\\sklearn\\svm\\_base.py:1206: ConvergenceWarning: Liblinear failed to converge, increase the number of iterations.\n",
      "  warnings.warn(\n",
      "C:\\Users\\aeric\\anaconda3\\lib\\site-packages\\sklearn\\svm\\_base.py:1206: ConvergenceWarning: Liblinear failed to converge, increase the number of iterations.\n",
      "  warnings.warn(\n",
      "C:\\Users\\aeric\\anaconda3\\lib\\site-packages\\sklearn\\svm\\_base.py:1206: ConvergenceWarning: Liblinear failed to converge, increase the number of iterations.\n",
      "  warnings.warn(\n",
      "C:\\Users\\aeric\\anaconda3\\lib\\site-packages\\sklearn\\svm\\_base.py:1206: ConvergenceWarning: Liblinear failed to converge, increase the number of iterations.\n",
      "  warnings.warn(\n",
      "C:\\Users\\aeric\\anaconda3\\lib\\site-packages\\sklearn\\svm\\_base.py:1206: ConvergenceWarning: Liblinear failed to converge, increase the number of iterations.\n",
      "  warnings.warn(\n",
      "C:\\Users\\aeric\\anaconda3\\lib\\site-packages\\sklearn\\svm\\_base.py:1206: ConvergenceWarning: Liblinear failed to converge, increase the number of iterations.\n",
      "  warnings.warn(\n",
      "C:\\Users\\aeric\\anaconda3\\lib\\site-packages\\sklearn\\svm\\_base.py:1206: ConvergenceWarning: Liblinear failed to converge, increase the number of iterations.\n",
      "  warnings.warn(\n",
      "C:\\Users\\aeric\\anaconda3\\lib\\site-packages\\sklearn\\svm\\_base.py:1206: ConvergenceWarning: Liblinear failed to converge, increase the number of iterations.\n",
      "  warnings.warn(\n",
      "C:\\Users\\aeric\\anaconda3\\lib\\site-packages\\sklearn\\svm\\_base.py:1206: ConvergenceWarning: Liblinear failed to converge, increase the number of iterations.\n",
      "  warnings.warn(\n",
      "C:\\Users\\aeric\\anaconda3\\lib\\site-packages\\sklearn\\svm\\_base.py:1206: ConvergenceWarning: Liblinear failed to converge, increase the number of iterations.\n",
      "  warnings.warn(\n",
      "C:\\Users\\aeric\\anaconda3\\lib\\site-packages\\sklearn\\svm\\_base.py:1206: ConvergenceWarning: Liblinear failed to converge, increase the number of iterations.\n",
      "  warnings.warn(\n",
      "C:\\Users\\aeric\\anaconda3\\lib\\site-packages\\sklearn\\svm\\_base.py:1206: ConvergenceWarning: Liblinear failed to converge, increase the number of iterations.\n",
      "  warnings.warn(\n",
      "C:\\Users\\aeric\\anaconda3\\lib\\site-packages\\sklearn\\svm\\_base.py:1206: ConvergenceWarning: Liblinear failed to converge, increase the number of iterations.\n",
      "  warnings.warn(\n",
      "C:\\Users\\aeric\\anaconda3\\lib\\site-packages\\sklearn\\svm\\_base.py:1206: ConvergenceWarning: Liblinear failed to converge, increase the number of iterations.\n",
      "  warnings.warn(\n",
      "C:\\Users\\aeric\\anaconda3\\lib\\site-packages\\sklearn\\svm\\_base.py:1206: ConvergenceWarning: Liblinear failed to converge, increase the number of iterations.\n",
      "  warnings.warn(\n",
      "C:\\Users\\aeric\\anaconda3\\lib\\site-packages\\sklearn\\svm\\_base.py:1206: ConvergenceWarning: Liblinear failed to converge, increase the number of iterations.\n",
      "  warnings.warn(\n",
      "C:\\Users\\aeric\\anaconda3\\lib\\site-packages\\sklearn\\svm\\_base.py:1206: ConvergenceWarning: Liblinear failed to converge, increase the number of iterations.\n",
      "  warnings.warn(\n",
      "C:\\Users\\aeric\\anaconda3\\lib\\site-packages\\sklearn\\svm\\_base.py:1206: ConvergenceWarning: Liblinear failed to converge, increase the number of iterations.\n",
      "  warnings.warn(\n",
      "C:\\Users\\aeric\\anaconda3\\lib\\site-packages\\sklearn\\svm\\_base.py:1206: ConvergenceWarning: Liblinear failed to converge, increase the number of iterations.\n",
      "  warnings.warn(\n",
      "C:\\Users\\aeric\\anaconda3\\lib\\site-packages\\sklearn\\svm\\_base.py:1206: ConvergenceWarning: Liblinear failed to converge, increase the number of iterations.\n",
      "  warnings.warn(\n",
      "C:\\Users\\aeric\\anaconda3\\lib\\site-packages\\sklearn\\svm\\_base.py:1206: ConvergenceWarning: Liblinear failed to converge, increase the number of iterations.\n",
      "  warnings.warn(\n",
      "C:\\Users\\aeric\\anaconda3\\lib\\site-packages\\sklearn\\svm\\_base.py:1206: ConvergenceWarning: Liblinear failed to converge, increase the number of iterations.\n",
      "  warnings.warn(\n",
      "C:\\Users\\aeric\\anaconda3\\lib\\site-packages\\sklearn\\svm\\_base.py:1206: ConvergenceWarning: Liblinear failed to converge, increase the number of iterations.\n",
      "  warnings.warn(\n",
      "C:\\Users\\aeric\\anaconda3\\lib\\site-packages\\sklearn\\svm\\_base.py:1206: ConvergenceWarning: Liblinear failed to converge, increase the number of iterations.\n",
      "  warnings.warn(\n",
      "C:\\Users\\aeric\\anaconda3\\lib\\site-packages\\sklearn\\svm\\_base.py:1206: ConvergenceWarning: Liblinear failed to converge, increase the number of iterations.\n",
      "  warnings.warn(\n",
      "C:\\Users\\aeric\\anaconda3\\lib\\site-packages\\sklearn\\svm\\_base.py:1206: ConvergenceWarning: Liblinear failed to converge, increase the number of iterations.\n",
      "  warnings.warn(\n",
      "C:\\Users\\aeric\\anaconda3\\lib\\site-packages\\sklearn\\svm\\_base.py:1206: ConvergenceWarning: Liblinear failed to converge, increase the number of iterations.\n",
      "  warnings.warn(\n",
      "C:\\Users\\aeric\\anaconda3\\lib\\site-packages\\sklearn\\svm\\_base.py:1206: ConvergenceWarning: Liblinear failed to converge, increase the number of iterations.\n",
      "  warnings.warn(\n",
      "C:\\Users\\aeric\\anaconda3\\lib\\site-packages\\sklearn\\svm\\_base.py:1206: ConvergenceWarning: Liblinear failed to converge, increase the number of iterations.\n",
      "  warnings.warn(\n",
      "C:\\Users\\aeric\\anaconda3\\lib\\site-packages\\sklearn\\svm\\_base.py:1206: ConvergenceWarning: Liblinear failed to converge, increase the number of iterations.\n",
      "  warnings.warn(\n",
      "C:\\Users\\aeric\\anaconda3\\lib\\site-packages\\sklearn\\svm\\_base.py:1206: ConvergenceWarning: Liblinear failed to converge, increase the number of iterations.\n",
      "  warnings.warn(\n",
      "C:\\Users\\aeric\\anaconda3\\lib\\site-packages\\sklearn\\svm\\_base.py:1206: ConvergenceWarning: Liblinear failed to converge, increase the number of iterations.\n",
      "  warnings.warn(\n"
     ]
    },
    {
     "name": "stderr",
     "output_type": "stream",
     "text": [
      "C:\\Users\\aeric\\anaconda3\\lib\\site-packages\\sklearn\\svm\\_base.py:1206: ConvergenceWarning: Liblinear failed to converge, increase the number of iterations.\n",
      "  warnings.warn(\n",
      "C:\\Users\\aeric\\anaconda3\\lib\\site-packages\\sklearn\\svm\\_base.py:1206: ConvergenceWarning: Liblinear failed to converge, increase the number of iterations.\n",
      "  warnings.warn(\n",
      "C:\\Users\\aeric\\anaconda3\\lib\\site-packages\\sklearn\\svm\\_base.py:1206: ConvergenceWarning: Liblinear failed to converge, increase the number of iterations.\n",
      "  warnings.warn(\n",
      "C:\\Users\\aeric\\anaconda3\\lib\\site-packages\\sklearn\\svm\\_base.py:1206: ConvergenceWarning: Liblinear failed to converge, increase the number of iterations.\n",
      "  warnings.warn(\n",
      "C:\\Users\\aeric\\anaconda3\\lib\\site-packages\\sklearn\\svm\\_base.py:1206: ConvergenceWarning: Liblinear failed to converge, increase the number of iterations.\n",
      "  warnings.warn(\n",
      "C:\\Users\\aeric\\anaconda3\\lib\\site-packages\\sklearn\\svm\\_base.py:1206: ConvergenceWarning: Liblinear failed to converge, increase the number of iterations.\n",
      "  warnings.warn(\n",
      "C:\\Users\\aeric\\anaconda3\\lib\\site-packages\\sklearn\\svm\\_base.py:1206: ConvergenceWarning: Liblinear failed to converge, increase the number of iterations.\n",
      "  warnings.warn(\n",
      "C:\\Users\\aeric\\anaconda3\\lib\\site-packages\\sklearn\\svm\\_base.py:1206: ConvergenceWarning: Liblinear failed to converge, increase the number of iterations.\n",
      "  warnings.warn(\n",
      "C:\\Users\\aeric\\anaconda3\\lib\\site-packages\\sklearn\\svm\\_base.py:1206: ConvergenceWarning: Liblinear failed to converge, increase the number of iterations.\n",
      "  warnings.warn(\n",
      "C:\\Users\\aeric\\anaconda3\\lib\\site-packages\\sklearn\\svm\\_base.py:1206: ConvergenceWarning: Liblinear failed to converge, increase the number of iterations.\n",
      "  warnings.warn(\n",
      "C:\\Users\\aeric\\anaconda3\\lib\\site-packages\\sklearn\\svm\\_base.py:1206: ConvergenceWarning: Liblinear failed to converge, increase the number of iterations.\n",
      "  warnings.warn(\n",
      "C:\\Users\\aeric\\anaconda3\\lib\\site-packages\\sklearn\\svm\\_base.py:1206: ConvergenceWarning: Liblinear failed to converge, increase the number of iterations.\n",
      "  warnings.warn(\n",
      "C:\\Users\\aeric\\anaconda3\\lib\\site-packages\\sklearn\\svm\\_base.py:1206: ConvergenceWarning: Liblinear failed to converge, increase the number of iterations.\n",
      "  warnings.warn(\n",
      "C:\\Users\\aeric\\anaconda3\\lib\\site-packages\\sklearn\\svm\\_base.py:1206: ConvergenceWarning: Liblinear failed to converge, increase the number of iterations.\n",
      "  warnings.warn(\n",
      "C:\\Users\\aeric\\anaconda3\\lib\\site-packages\\sklearn\\svm\\_base.py:1206: ConvergenceWarning: Liblinear failed to converge, increase the number of iterations.\n",
      "  warnings.warn(\n",
      "C:\\Users\\aeric\\anaconda3\\lib\\site-packages\\sklearn\\svm\\_base.py:1206: ConvergenceWarning: Liblinear failed to converge, increase the number of iterations.\n",
      "  warnings.warn(\n",
      "C:\\Users\\aeric\\anaconda3\\lib\\site-packages\\sklearn\\svm\\_base.py:1206: ConvergenceWarning: Liblinear failed to converge, increase the number of iterations.\n",
      "  warnings.warn(\n",
      "C:\\Users\\aeric\\anaconda3\\lib\\site-packages\\sklearn\\svm\\_base.py:1206: ConvergenceWarning: Liblinear failed to converge, increase the number of iterations.\n",
      "  warnings.warn(\n",
      "C:\\Users\\aeric\\anaconda3\\lib\\site-packages\\sklearn\\svm\\_base.py:1206: ConvergenceWarning: Liblinear failed to converge, increase the number of iterations.\n",
      "  warnings.warn(\n",
      "C:\\Users\\aeric\\anaconda3\\lib\\site-packages\\sklearn\\svm\\_base.py:1206: ConvergenceWarning: Liblinear failed to converge, increase the number of iterations.\n",
      "  warnings.warn(\n",
      "C:\\Users\\aeric\\anaconda3\\lib\\site-packages\\sklearn\\svm\\_base.py:1206: ConvergenceWarning: Liblinear failed to converge, increase the number of iterations.\n",
      "  warnings.warn(\n",
      "C:\\Users\\aeric\\anaconda3\\lib\\site-packages\\sklearn\\svm\\_base.py:1206: ConvergenceWarning: Liblinear failed to converge, increase the number of iterations.\n",
      "  warnings.warn(\n",
      "C:\\Users\\aeric\\anaconda3\\lib\\site-packages\\sklearn\\svm\\_base.py:1206: ConvergenceWarning: Liblinear failed to converge, increase the number of iterations.\n",
      "  warnings.warn(\n",
      "C:\\Users\\aeric\\anaconda3\\lib\\site-packages\\sklearn\\svm\\_base.py:1206: ConvergenceWarning: Liblinear failed to converge, increase the number of iterations.\n",
      "  warnings.warn(\n",
      "C:\\Users\\aeric\\anaconda3\\lib\\site-packages\\sklearn\\svm\\_base.py:1206: ConvergenceWarning: Liblinear failed to converge, increase the number of iterations.\n",
      "  warnings.warn(\n",
      "C:\\Users\\aeric\\anaconda3\\lib\\site-packages\\sklearn\\svm\\_base.py:1206: ConvergenceWarning: Liblinear failed to converge, increase the number of iterations.\n",
      "  warnings.warn(\n",
      "C:\\Users\\aeric\\anaconda3\\lib\\site-packages\\sklearn\\svm\\_base.py:1206: ConvergenceWarning: Liblinear failed to converge, increase the number of iterations.\n",
      "  warnings.warn(\n",
      "C:\\Users\\aeric\\anaconda3\\lib\\site-packages\\sklearn\\svm\\_base.py:1206: ConvergenceWarning: Liblinear failed to converge, increase the number of iterations.\n",
      "  warnings.warn(\n",
      "C:\\Users\\aeric\\anaconda3\\lib\\site-packages\\sklearn\\svm\\_base.py:1206: ConvergenceWarning: Liblinear failed to converge, increase the number of iterations.\n",
      "  warnings.warn(\n",
      "C:\\Users\\aeric\\anaconda3\\lib\\site-packages\\sklearn\\svm\\_base.py:1206: ConvergenceWarning: Liblinear failed to converge, increase the number of iterations.\n",
      "  warnings.warn(\n",
      "C:\\Users\\aeric\\anaconda3\\lib\\site-packages\\sklearn\\svm\\_base.py:1206: ConvergenceWarning: Liblinear failed to converge, increase the number of iterations.\n",
      "  warnings.warn(\n",
      "C:\\Users\\aeric\\anaconda3\\lib\\site-packages\\sklearn\\svm\\_base.py:1206: ConvergenceWarning: Liblinear failed to converge, increase the number of iterations.\n",
      "  warnings.warn(\n",
      "C:\\Users\\aeric\\anaconda3\\lib\\site-packages\\sklearn\\svm\\_base.py:1206: ConvergenceWarning: Liblinear failed to converge, increase the number of iterations.\n",
      "  warnings.warn(\n",
      "C:\\Users\\aeric\\anaconda3\\lib\\site-packages\\sklearn\\svm\\_base.py:1206: ConvergenceWarning: Liblinear failed to converge, increase the number of iterations.\n",
      "  warnings.warn(\n",
      "C:\\Users\\aeric\\anaconda3\\lib\\site-packages\\sklearn\\svm\\_base.py:1206: ConvergenceWarning: Liblinear failed to converge, increase the number of iterations.\n",
      "  warnings.warn(\n",
      "C:\\Users\\aeric\\anaconda3\\lib\\site-packages\\sklearn\\svm\\_base.py:1206: ConvergenceWarning: Liblinear failed to converge, increase the number of iterations.\n",
      "  warnings.warn(\n",
      "C:\\Users\\aeric\\anaconda3\\lib\\site-packages\\sklearn\\svm\\_base.py:1206: ConvergenceWarning: Liblinear failed to converge, increase the number of iterations.\n",
      "  warnings.warn(\n",
      "C:\\Users\\aeric\\anaconda3\\lib\\site-packages\\sklearn\\svm\\_base.py:1206: ConvergenceWarning: Liblinear failed to converge, increase the number of iterations.\n",
      "  warnings.warn(\n",
      "C:\\Users\\aeric\\anaconda3\\lib\\site-packages\\sklearn\\svm\\_base.py:1206: ConvergenceWarning: Liblinear failed to converge, increase the number of iterations.\n",
      "  warnings.warn(\n",
      "C:\\Users\\aeric\\anaconda3\\lib\\site-packages\\sklearn\\svm\\_base.py:1206: ConvergenceWarning: Liblinear failed to converge, increase the number of iterations.\n",
      "  warnings.warn(\n",
      "C:\\Users\\aeric\\anaconda3\\lib\\site-packages\\sklearn\\svm\\_base.py:1206: ConvergenceWarning: Liblinear failed to converge, increase the number of iterations.\n",
      "  warnings.warn(\n",
      "C:\\Users\\aeric\\anaconda3\\lib\\site-packages\\sklearn\\svm\\_base.py:1206: ConvergenceWarning: Liblinear failed to converge, increase the number of iterations.\n",
      "  warnings.warn(\n",
      "C:\\Users\\aeric\\anaconda3\\lib\\site-packages\\sklearn\\svm\\_base.py:1206: ConvergenceWarning: Liblinear failed to converge, increase the number of iterations.\n",
      "  warnings.warn(\n",
      "C:\\Users\\aeric\\anaconda3\\lib\\site-packages\\sklearn\\svm\\_base.py:1206: ConvergenceWarning: Liblinear failed to converge, increase the number of iterations.\n",
      "  warnings.warn(\n",
      "C:\\Users\\aeric\\anaconda3\\lib\\site-packages\\sklearn\\svm\\_base.py:1206: ConvergenceWarning: Liblinear failed to converge, increase the number of iterations.\n",
      "  warnings.warn(\n",
      "C:\\Users\\aeric\\anaconda3\\lib\\site-packages\\sklearn\\svm\\_base.py:1206: ConvergenceWarning: Liblinear failed to converge, increase the number of iterations.\n",
      "  warnings.warn(\n",
      "C:\\Users\\aeric\\anaconda3\\lib\\site-packages\\sklearn\\svm\\_base.py:1206: ConvergenceWarning: Liblinear failed to converge, increase the number of iterations.\n",
      "  warnings.warn(\n",
      "C:\\Users\\aeric\\anaconda3\\lib\\site-packages\\sklearn\\svm\\_base.py:1206: ConvergenceWarning: Liblinear failed to converge, increase the number of iterations.\n",
      "  warnings.warn(\n"
     ]
    },
    {
     "name": "stderr",
     "output_type": "stream",
     "text": [
      "C:\\Users\\aeric\\anaconda3\\lib\\site-packages\\sklearn\\svm\\_base.py:1206: ConvergenceWarning: Liblinear failed to converge, increase the number of iterations.\n",
      "  warnings.warn(\n",
      "C:\\Users\\aeric\\anaconda3\\lib\\site-packages\\sklearn\\svm\\_base.py:1206: ConvergenceWarning: Liblinear failed to converge, increase the number of iterations.\n",
      "  warnings.warn(\n",
      "C:\\Users\\aeric\\anaconda3\\lib\\site-packages\\sklearn\\svm\\_base.py:1206: ConvergenceWarning: Liblinear failed to converge, increase the number of iterations.\n",
      "  warnings.warn(\n",
      "C:\\Users\\aeric\\anaconda3\\lib\\site-packages\\sklearn\\svm\\_base.py:1206: ConvergenceWarning: Liblinear failed to converge, increase the number of iterations.\n",
      "  warnings.warn(\n",
      "C:\\Users\\aeric\\anaconda3\\lib\\site-packages\\sklearn\\svm\\_base.py:1206: ConvergenceWarning: Liblinear failed to converge, increase the number of iterations.\n",
      "  warnings.warn(\n",
      "C:\\Users\\aeric\\anaconda3\\lib\\site-packages\\sklearn\\svm\\_base.py:1206: ConvergenceWarning: Liblinear failed to converge, increase the number of iterations.\n",
      "  warnings.warn(\n",
      "C:\\Users\\aeric\\anaconda3\\lib\\site-packages\\sklearn\\svm\\_base.py:1206: ConvergenceWarning: Liblinear failed to converge, increase the number of iterations.\n",
      "  warnings.warn(\n",
      "C:\\Users\\aeric\\anaconda3\\lib\\site-packages\\sklearn\\svm\\_base.py:1206: ConvergenceWarning: Liblinear failed to converge, increase the number of iterations.\n",
      "  warnings.warn(\n",
      "C:\\Users\\aeric\\anaconda3\\lib\\site-packages\\sklearn\\svm\\_base.py:1206: ConvergenceWarning: Liblinear failed to converge, increase the number of iterations.\n",
      "  warnings.warn(\n",
      "C:\\Users\\aeric\\anaconda3\\lib\\site-packages\\sklearn\\svm\\_base.py:1206: ConvergenceWarning: Liblinear failed to converge, increase the number of iterations.\n",
      "  warnings.warn(\n",
      "C:\\Users\\aeric\\anaconda3\\lib\\site-packages\\sklearn\\svm\\_base.py:1206: ConvergenceWarning: Liblinear failed to converge, increase the number of iterations.\n",
      "  warnings.warn(\n",
      "C:\\Users\\aeric\\anaconda3\\lib\\site-packages\\sklearn\\svm\\_base.py:1206: ConvergenceWarning: Liblinear failed to converge, increase the number of iterations.\n",
      "  warnings.warn(\n",
      "C:\\Users\\aeric\\anaconda3\\lib\\site-packages\\sklearn\\svm\\_base.py:1206: ConvergenceWarning: Liblinear failed to converge, increase the number of iterations.\n",
      "  warnings.warn(\n",
      "C:\\Users\\aeric\\anaconda3\\lib\\site-packages\\sklearn\\svm\\_base.py:1206: ConvergenceWarning: Liblinear failed to converge, increase the number of iterations.\n",
      "  warnings.warn(\n",
      "C:\\Users\\aeric\\anaconda3\\lib\\site-packages\\sklearn\\svm\\_base.py:1206: ConvergenceWarning: Liblinear failed to converge, increase the number of iterations.\n",
      "  warnings.warn(\n",
      "C:\\Users\\aeric\\anaconda3\\lib\\site-packages\\sklearn\\svm\\_base.py:1206: ConvergenceWarning: Liblinear failed to converge, increase the number of iterations.\n",
      "  warnings.warn(\n",
      "C:\\Users\\aeric\\anaconda3\\lib\\site-packages\\sklearn\\svm\\_base.py:1206: ConvergenceWarning: Liblinear failed to converge, increase the number of iterations.\n",
      "  warnings.warn(\n",
      "C:\\Users\\aeric\\anaconda3\\lib\\site-packages\\sklearn\\svm\\_base.py:1206: ConvergenceWarning: Liblinear failed to converge, increase the number of iterations.\n",
      "  warnings.warn(\n",
      "C:\\Users\\aeric\\anaconda3\\lib\\site-packages\\sklearn\\svm\\_base.py:1206: ConvergenceWarning: Liblinear failed to converge, increase the number of iterations.\n",
      "  warnings.warn(\n",
      "C:\\Users\\aeric\\anaconda3\\lib\\site-packages\\sklearn\\model_selection\\_validation.py:372: FitFailedWarning: \n",
      "250 fits failed out of a total of 1000.\n",
      "The score on these train-test partitions for these parameters will be set to 0.\n",
      "If these failures are not expected, you can try to debug them by setting error_score='raise'.\n",
      "\n",
      "Below are more details about the failures:\n",
      "--------------------------------------------------------------------------------\n",
      "250 fits failed with the following error:\n",
      "Traceback (most recent call last):\n",
      "  File \"C:\\Users\\aeric\\anaconda3\\lib\\site-packages\\sklearn\\model_selection\\_validation.py\", line 680, in _fit_and_score\n",
      "    estimator.fit(X_train, y_train, **fit_params)\n",
      "  File \"C:\\Users\\aeric\\anaconda3\\lib\\site-packages\\sklearn\\svm\\_classes.py\", line 257, in fit\n",
      "    self.coef_, self.intercept_, self.n_iter_ = _fit_liblinear(\n",
      "  File \"C:\\Users\\aeric\\anaconda3\\lib\\site-packages\\sklearn\\svm\\_base.py\", line 1185, in _fit_liblinear\n",
      "    solver_type = _get_liblinear_solver_type(multi_class, penalty, loss, dual)\n",
      "  File \"C:\\Users\\aeric\\anaconda3\\lib\\site-packages\\sklearn\\svm\\_base.py\", line 1024, in _get_liblinear_solver_type\n",
      "    raise ValueError(\n",
      "ValueError: Unsupported set of arguments: The combination of penalty='l2' and loss='hinge' are not supported when dual=False, Parameters: penalty='l2', loss='hinge', dual=False\n",
      "\n",
      "  warnings.warn(some_fits_failed_message, FitFailedWarning)\n"
     ]
    }
   ],
   "source": [
    "grid_result = grid_search.fit(normalized_x_train, y_train)"
   ]
  },
  {
   "cell_type": "code",
   "execution_count": 66,
   "id": "d173f30a",
   "metadata": {},
   "outputs": [
    {
     "name": "stdout",
     "output_type": "stream",
     "text": [
      "Best: 0.727328 using {'C': 1.0, 'dual': True, 'loss': 'squared_hinge'}\n"
     ]
    }
   ],
   "source": [
    "print(\"Best: %f using %s\" % (grid_result.best_score_, grid_result.best_params_))"
   ]
  },
  {
   "cell_type": "code",
   "execution_count": 67,
   "id": "9d13584e",
   "metadata": {},
   "outputs": [],
   "source": [
    "means = grid_result.cv_results_['mean_test_score']\n",
    "stds = grid_result.cv_results_['std_test_score']\n",
    "params = grid_result.cv_results_['params']"
   ]
  },
  {
   "cell_type": "code",
   "execution_count": 68,
   "id": "41331907",
   "metadata": {},
   "outputs": [
    {
     "name": "stdout",
     "output_type": "stream",
     "text": [
      "0.709224 (0.027132) with: {'C': 100, 'dual': True, 'loss': 'hinge'}\n",
      "0.716076 (0.025034) with: {'C': 100, 'dual': True, 'loss': 'squared_hinge'}\n",
      "0.000000 (0.000000) with: {'C': 100, 'dual': False, 'loss': 'hinge'}\n",
      "0.716693 (0.024505) with: {'C': 100, 'dual': False, 'loss': 'squared_hinge'}\n",
      "0.713695 (0.028181) with: {'C': 10, 'dual': True, 'loss': 'hinge'}\n",
      "0.720778 (0.024737) with: {'C': 10, 'dual': True, 'loss': 'squared_hinge'}\n",
      "0.000000 (0.000000) with: {'C': 10, 'dual': False, 'loss': 'hinge'}\n",
      "0.720702 (0.024592) with: {'C': 10, 'dual': False, 'loss': 'squared_hinge'}\n",
      "0.721557 (0.028891) with: {'C': 1.0, 'dual': True, 'loss': 'hinge'}\n",
      "0.727328 (0.026363) with: {'C': 1.0, 'dual': True, 'loss': 'squared_hinge'}\n",
      "0.000000 (0.000000) with: {'C': 1.0, 'dual': False, 'loss': 'hinge'}\n",
      "0.727328 (0.026363) with: {'C': 1.0, 'dual': False, 'loss': 'squared_hinge'}\n",
      "0.694347 (0.031078) with: {'C': 0.1, 'dual': True, 'loss': 'hinge'}\n",
      "0.722011 (0.025459) with: {'C': 0.1, 'dual': True, 'loss': 'squared_hinge'}\n",
      "0.000000 (0.000000) with: {'C': 0.1, 'dual': False, 'loss': 'hinge'}\n",
      "0.722011 (0.025459) with: {'C': 0.1, 'dual': False, 'loss': 'squared_hinge'}\n",
      "0.682091 (0.028139) with: {'C': 0.01, 'dual': True, 'loss': 'hinge'}\n",
      "0.682944 (0.030533) with: {'C': 0.01, 'dual': True, 'loss': 'squared_hinge'}\n",
      "0.000000 (0.000000) with: {'C': 0.01, 'dual': False, 'loss': 'hinge'}\n",
      "0.682944 (0.030533) with: {'C': 0.01, 'dual': False, 'loss': 'squared_hinge'}\n"
     ]
    }
   ],
   "source": [
    "for mean, stdev, param in zip(means, stds, params):\n",
    "    print('%f (%f) with: %r' % (mean, stdev, param))"
   ]
  },
  {
   "cell_type": "markdown",
   "id": "7b46ddd5",
   "metadata": {},
   "source": [
    "Since our grid search returns the default values, there's no real need for us to continue tuning this model."
   ]
  },
  {
   "cell_type": "code",
   "execution_count": null,
   "id": "0793d22a",
   "metadata": {},
   "outputs": [],
   "source": []
  },
  {
   "cell_type": "markdown",
   "id": "0ce41ba6",
   "metadata": {},
   "source": [
    "#### Choosing a K Value"
   ]
  },
  {
   "cell_type": "markdown",
   "id": "33c77e19",
   "metadata": {},
   "source": [
    "Manually choosing a K Value using the elbow method"
   ]
  },
  {
   "cell_type": "code",
   "execution_count": 72,
   "id": "86aba245",
   "metadata": {},
   "outputs": [],
   "source": [
    "error_rate = []\n",
    "\n",
    "for i in range(1, 60):\n",
    "    \n",
    "    knn = KNeighborsClassifier(n_neighbors=i)\n",
    "    knn.fit(normalized_x_train,y_train)\n",
    "    pred_i = knn.predict(normalized_x_test)\n",
    "    error_rate.append(np.mean(pred_i != y_test))"
   ]
  },
  {
   "cell_type": "code",
   "execution_count": 73,
   "id": "28a361a3",
   "metadata": {},
   "outputs": [
    {
     "data": {
      "text/plain": [
       "Text(0, 0.5, 'Error Rate')"
      ]
     },
     "execution_count": 73,
     "metadata": {},
     "output_type": "execute_result"
    },
    {
     "data": {
      "image/png": "[encoded data removed]",
      "text/plain": [
       "<Figure size 720x432 with 1 Axes>"
      ]
     },
     "metadata": {
      "needs_background": "light"
     },
     "output_type": "display_data"
    }
   ],
   "source": [
    "plt.figure(figsize=(10,6))\n",
    "plt.plot(range(1,60),error_rate,color='blue', linestyle='dashed', marker='o',\n",
    "         markerfacecolor='red', markersize=10)\n",
    "plt.title('Error Rate vs. K Value')\n",
    "plt.xlabel('K')\n",
    "plt.ylabel('Error Rate')"
   ]
  },
  {
   "cell_type": "code",
   "execution_count": 74,
   "id": "faba623b",
   "metadata": {},
   "outputs": [],
   "source": [
    "#K = 23\n",
    "knn = KNeighborsClassifier(n_neighbors=23)\n",
    "\n",
    "knn.fit(normalized_x_train,y_train)\n",
    "k_preds = knn.predict(normalized_x_test)"
   ]
  },
  {
   "cell_type": "code",
   "execution_count": 76,
   "id": "349c55bf",
   "metadata": {},
   "outputs": [
    {
     "name": "stdout",
     "output_type": "stream",
     "text": [
      "              precision    recall  f1-score   support\n",
      "\n",
      "           B       0.58      0.58      0.58       110\n",
      "           C       0.85      0.95      0.90        56\n",
      "           G       0.64      0.69      0.66       129\n",
      "           R       0.65      0.63      0.64       126\n",
      "           U       0.58      0.52      0.55       108\n",
      "           W       0.59      0.58      0.59       120\n",
      "\n",
      "    accuracy                           0.63       649\n",
      "   macro avg       0.65      0.66      0.65       649\n",
      "weighted avg       0.63      0.63      0.63       649\n",
      "\n",
      "\n",
      "\n"
     ]
    },
    {
     "data": {
      "image/png": "[encoded data removed]",
      "text/plain": [
       "<Figure size 432x288 with 2 Axes>"
      ]
     },
     "metadata": {
      "needs_background": "light"
     },
     "output_type": "display_data"
    }
   ],
   "source": [
    "get_test_results(y_test, k_preds, knn)"
   ]
  },
  {
   "cell_type": "code",
   "execution_count": null,
   "id": "c58cc8e4",
   "metadata": {},
   "outputs": [],
   "source": []
  },
  {
   "cell_type": "code",
   "execution_count": 82,
   "id": "b302aabb",
   "metadata": {},
   "outputs": [],
   "source": [
    "# define models and parameters\n",
    "k_model = KNeighborsClassifier()\n",
    "n_neighbors = range(2, 46, 2)\n",
    "weights = ['uniform', 'distance']\n",
    "metric = ['euclidean', 'manhattan', 'minkowski']"
   ]
  },
  {
   "cell_type": "code",
   "execution_count": 88,
   "id": "70d23447",
   "metadata": {},
   "outputs": [
    {
     "name": "stdout",
     "output_type": "stream",
     "text": [
      "2022-07-04 23:43:30.010489\n",
      "2022-07-05 01:36:38.120260\n"
     ]
    }
   ],
   "source": [
    "# define grid search\n",
    "k_grid = dict(n_neighbors=n_neighbors,weights=weights,metric=metric)\n",
    "k_cv = RepeatedStratifiedKFold(n_splits=10, n_repeats=5, random_state=1)\n",
    "k_grid_search = GridSearchCV(estimator=k_model, param_grid=k_grid, n_jobs=1, cv=k_cv, scoring='accuracy',error_score=0)\n",
    "k_grid_result = k_grid_search.fit(normalized_x_train, y_train)"
   ]
  },
  {
   "cell_type": "code",
   "execution_count": 99,
   "id": "296844a8",
   "metadata": {},
   "outputs": [
    {
     "name": "stdout",
     "output_type": "stream",
     "text": [
      "Best: 0.657875 using {'algorithm': 'kd_tree', 'metric': 'euclidean', 'n_neighbors': 10, 'weights': 'uniform'}\n",
      "0.657570 (0.026688) with: {'algorithm': 'ball_tree', 'metric': 'euclidean', 'n_neighbors': 10, 'weights': 'uniform'}\n",
      "0.649241 (0.026764) with: {'algorithm': 'ball_tree', 'metric': 'euclidean', 'n_neighbors': 10, 'weights': 'distance'}\n",
      "0.654648 (0.025945) with: {'algorithm': 'ball_tree', 'metric': 'euclidean', 'n_neighbors': 12, 'weights': 'uniform'}\n",
      "0.648391 (0.027658) with: {'algorithm': 'ball_tree', 'metric': 'euclidean', 'n_neighbors': 12, 'weights': 'distance'}\n",
      "0.647170 (0.025055) with: {'algorithm': 'ball_tree', 'metric': 'euclidean', 'n_neighbors': 14, 'weights': 'uniform'}\n",
      "0.648780 (0.027197) with: {'algorithm': 'ball_tree', 'metric': 'euclidean', 'n_neighbors': 14, 'weights': 'distance'}\n",
      "0.645016 (0.028433) with: {'algorithm': 'ball_tree', 'metric': 'euclidean', 'n_neighbors': 16, 'weights': 'uniform'}\n",
      "0.649092 (0.027631) with: {'algorithm': 'ball_tree', 'metric': 'euclidean', 'n_neighbors': 16, 'weights': 'distance'}\n",
      "0.644556 (0.028160) with: {'algorithm': 'ball_tree', 'metric': 'euclidean', 'n_neighbors': 18, 'weights': 'uniform'}\n",
      "0.647861 (0.025088) with: {'algorithm': 'ball_tree', 'metric': 'euclidean', 'n_neighbors': 18, 'weights': 'distance'}\n",
      "0.642861 (0.031745) with: {'algorithm': 'ball_tree', 'metric': 'euclidean', 'n_neighbors': 20, 'weights': 'uniform'}\n",
      "0.649481 (0.026662) with: {'algorithm': 'ball_tree', 'metric': 'euclidean', 'n_neighbors': 20, 'weights': 'distance'}\n",
      "0.640011 (0.028639) with: {'algorithm': 'ball_tree', 'metric': 'euclidean', 'n_neighbors': 22, 'weights': 'uniform'}\n",
      "0.651251 (0.026012) with: {'algorithm': 'ball_tree', 'metric': 'euclidean', 'n_neighbors': 22, 'weights': 'distance'}\n",
      "0.640089 (0.029270) with: {'algorithm': 'ball_tree', 'metric': 'euclidean', 'n_neighbors': 24, 'weights': 'uniform'}\n",
      "0.652488 (0.025147) with: {'algorithm': 'ball_tree', 'metric': 'euclidean', 'n_neighbors': 24, 'weights': 'distance'}\n",
      "0.640166 (0.026418) with: {'algorithm': 'ball_tree', 'metric': 'euclidean', 'n_neighbors': 26, 'weights': 'uniform'}\n",
      "0.650330 (0.023831) with: {'algorithm': 'ball_tree', 'metric': 'euclidean', 'n_neighbors': 26, 'weights': 'distance'}\n",
      "0.638007 (0.027168) with: {'algorithm': 'ball_tree', 'metric': 'euclidean', 'n_neighbors': 28, 'weights': 'uniform'}\n",
      "0.649094 (0.024233) with: {'algorithm': 'ball_tree', 'metric': 'euclidean', 'n_neighbors': 28, 'weights': 'distance'}\n",
      "0.638473 (0.028678) with: {'algorithm': 'ball_tree', 'metric': 'euclidean', 'n_neighbors': 30, 'weights': 'uniform'}\n",
      "0.649327 (0.022709) with: {'algorithm': 'ball_tree', 'metric': 'euclidean', 'n_neighbors': 30, 'weights': 'distance'}\n",
      "0.640323 (0.027451) with: {'algorithm': 'ball_tree', 'metric': 'euclidean', 'n_neighbors': 32, 'weights': 'uniform'}\n",
      "0.649405 (0.022815) with: {'algorithm': 'ball_tree', 'metric': 'euclidean', 'n_neighbors': 32, 'weights': 'distance'}\n",
      "0.637236 (0.027541) with: {'algorithm': 'ball_tree', 'metric': 'euclidean', 'n_neighbors': 34, 'weights': 'uniform'}\n",
      "0.647938 (0.024830) with: {'algorithm': 'ball_tree', 'metric': 'euclidean', 'n_neighbors': 34, 'weights': 'distance'}\n",
      "0.633770 (0.029236) with: {'algorithm': 'ball_tree', 'metric': 'euclidean', 'n_neighbors': 36, 'weights': 'uniform'}\n",
      "0.647860 (0.024124) with: {'algorithm': 'ball_tree', 'metric': 'euclidean', 'n_neighbors': 36, 'weights': 'distance'}\n",
      "0.631376 (0.026769) with: {'algorithm': 'ball_tree', 'metric': 'euclidean', 'n_neighbors': 38, 'weights': 'uniform'}\n",
      "0.646627 (0.025599) with: {'algorithm': 'ball_tree', 'metric': 'euclidean', 'n_neighbors': 38, 'weights': 'distance'}\n",
      "0.630995 (0.027241) with: {'algorithm': 'ball_tree', 'metric': 'euclidean', 'n_neighbors': 40, 'weights': 'uniform'}\n",
      "0.646009 (0.025312) with: {'algorithm': 'ball_tree', 'metric': 'euclidean', 'n_neighbors': 40, 'weights': 'distance'}\n",
      "0.628992 (0.027867) with: {'algorithm': 'ball_tree', 'metric': 'euclidean', 'n_neighbors': 42, 'weights': 'uniform'}\n",
      "0.644622 (0.023308) with: {'algorithm': 'ball_tree', 'metric': 'euclidean', 'n_neighbors': 42, 'weights': 'distance'}\n",
      "0.628377 (0.028284) with: {'algorithm': 'ball_tree', 'metric': 'euclidean', 'n_neighbors': 44, 'weights': 'uniform'}\n",
      "0.645011 (0.023417) with: {'algorithm': 'ball_tree', 'metric': 'euclidean', 'n_neighbors': 44, 'weights': 'distance'}\n",
      "0.626293 (0.026258) with: {'algorithm': 'ball_tree', 'metric': 'euclidean', 'n_neighbors': 46, 'weights': 'uniform'}\n",
      "0.644238 (0.022390) with: {'algorithm': 'ball_tree', 'metric': 'euclidean', 'n_neighbors': 46, 'weights': 'distance'}\n",
      "0.625523 (0.026612) with: {'algorithm': 'ball_tree', 'metric': 'euclidean', 'n_neighbors': 48, 'weights': 'uniform'}\n",
      "0.644010 (0.025970) with: {'algorithm': 'ball_tree', 'metric': 'euclidean', 'n_neighbors': 48, 'weights': 'distance'}\n",
      "0.657183 (0.024712) with: {'algorithm': 'ball_tree', 'metric': 'manhattan', 'n_neighbors': 10, 'weights': 'uniform'}\n",
      "0.645310 (0.026206) with: {'algorithm': 'ball_tree', 'metric': 'manhattan', 'n_neighbors': 10, 'weights': 'distance'}\n",
      "0.652797 (0.024479) with: {'algorithm': 'ball_tree', 'metric': 'manhattan', 'n_neighbors': 12, 'weights': 'uniform'}\n",
      "0.647390 (0.025567) with: {'algorithm': 'ball_tree', 'metric': 'manhattan', 'n_neighbors': 12, 'weights': 'distance'}\n",
      "0.649019 (0.022419) with: {'algorithm': 'ball_tree', 'metric': 'manhattan', 'n_neighbors': 14, 'weights': 'uniform'}\n",
      "0.649779 (0.023790) with: {'algorithm': 'ball_tree', 'metric': 'manhattan', 'n_neighbors': 14, 'weights': 'distance'}\n",
      "0.646557 (0.026342) with: {'algorithm': 'ball_tree', 'metric': 'manhattan', 'n_neighbors': 16, 'weights': 'uniform'}\n",
      "0.651557 (0.025344) with: {'algorithm': 'ball_tree', 'metric': 'manhattan', 'n_neighbors': 16, 'weights': 'distance'}\n",
      "0.649257 (0.027001) with: {'algorithm': 'ball_tree', 'metric': 'manhattan', 'n_neighbors': 18, 'weights': 'uniform'}\n",
      "0.648246 (0.025072) with: {'algorithm': 'ball_tree', 'metric': 'manhattan', 'n_neighbors': 18, 'weights': 'distance'}\n",
      "0.644554 (0.030465) with: {'algorithm': 'ball_tree', 'metric': 'manhattan', 'n_neighbors': 20, 'weights': 'uniform'}\n",
      "0.650713 (0.025071) with: {'algorithm': 'ball_tree', 'metric': 'manhattan', 'n_neighbors': 20, 'weights': 'distance'}\n",
      "0.644633 (0.030095) with: {'algorithm': 'ball_tree', 'metric': 'manhattan', 'n_neighbors': 22, 'weights': 'uniform'}\n",
      "0.652097 (0.025285) with: {'algorithm': 'ball_tree', 'metric': 'manhattan', 'n_neighbors': 22, 'weights': 'distance'}\n",
      "0.638395 (0.029980) with: {'algorithm': 'ball_tree', 'metric': 'manhattan', 'n_neighbors': 24, 'weights': 'uniform'}\n",
      "0.652717 (0.025667) with: {'algorithm': 'ball_tree', 'metric': 'manhattan', 'n_neighbors': 24, 'weights': 'distance'}\n",
      "0.640090 (0.027903) with: {'algorithm': 'ball_tree', 'metric': 'manhattan', 'n_neighbors': 26, 'weights': 'uniform'}\n",
      "0.653485 (0.024879) with: {'algorithm': 'ball_tree', 'metric': 'manhattan', 'n_neighbors': 26, 'weights': 'distance'}\n",
      "0.637388 (0.026379) with: {'algorithm': 'ball_tree', 'metric': 'manhattan', 'n_neighbors': 28, 'weights': 'uniform'}\n",
      "0.653410 (0.025241) with: {'algorithm': 'ball_tree', 'metric': 'manhattan', 'n_neighbors': 28, 'weights': 'distance'}\n",
      "0.637774 (0.027795) with: {'algorithm': 'ball_tree', 'metric': 'manhattan', 'n_neighbors': 30, 'weights': 'uniform'}\n",
      "0.651639 (0.025792) with: {'algorithm': 'ball_tree', 'metric': 'manhattan', 'n_neighbors': 30, 'weights': 'distance'}\n",
      "0.637007 (0.028283) with: {'algorithm': 'ball_tree', 'metric': 'manhattan', 'n_neighbors': 32, 'weights': 'uniform'}\n",
      "0.650562 (0.023956) with: {'algorithm': 'ball_tree', 'metric': 'manhattan', 'n_neighbors': 32, 'weights': 'distance'}\n",
      "0.634845 (0.026014) with: {'algorithm': 'ball_tree', 'metric': 'manhattan', 'n_neighbors': 34, 'weights': 'uniform'}\n",
      "0.649943 (0.023928) with: {'algorithm': 'ball_tree', 'metric': 'manhattan', 'n_neighbors': 34, 'weights': 'distance'}\n",
      "0.632920 (0.027367) with: {'algorithm': 'ball_tree', 'metric': 'manhattan', 'n_neighbors': 36, 'weights': 'uniform'}\n",
      "0.651099 (0.025011) with: {'algorithm': 'ball_tree', 'metric': 'manhattan', 'n_neighbors': 36, 'weights': 'distance'}\n",
      "0.632379 (0.029476) with: {'algorithm': 'ball_tree', 'metric': 'manhattan', 'n_neighbors': 38, 'weights': 'uniform'}\n",
      "0.649714 (0.026933) with: {'algorithm': 'ball_tree', 'metric': 'manhattan', 'n_neighbors': 38, 'weights': 'distance'}\n",
      "0.630841 (0.026896) with: {'algorithm': 'ball_tree', 'metric': 'manhattan', 'n_neighbors': 40, 'weights': 'uniform'}\n",
      "0.650714 (0.024925) with: {'algorithm': 'ball_tree', 'metric': 'manhattan', 'n_neighbors': 40, 'weights': 'distance'}\n",
      "0.629759 (0.026403) with: {'algorithm': 'ball_tree', 'metric': 'manhattan', 'n_neighbors': 42, 'weights': 'uniform'}\n",
      "0.650402 (0.024499) with: {'algorithm': 'ball_tree', 'metric': 'manhattan', 'n_neighbors': 42, 'weights': 'distance'}\n",
      "0.629068 (0.027805) with: {'algorithm': 'ball_tree', 'metric': 'manhattan', 'n_neighbors': 44, 'weights': 'uniform'}\n",
      "0.649324 (0.025858) with: {'algorithm': 'ball_tree', 'metric': 'manhattan', 'n_neighbors': 44, 'weights': 'distance'}\n",
      "0.625753 (0.026736) with: {'algorithm': 'ball_tree', 'metric': 'manhattan', 'n_neighbors': 46, 'weights': 'uniform'}\n",
      "0.648323 (0.023923) with: {'algorithm': 'ball_tree', 'metric': 'manhattan', 'n_neighbors': 46, 'weights': 'distance'}\n",
      "0.625446 (0.026404) with: {'algorithm': 'ball_tree', 'metric': 'manhattan', 'n_neighbors': 48, 'weights': 'uniform'}\n",
      "0.648862 (0.023489) with: {'algorithm': 'ball_tree', 'metric': 'manhattan', 'n_neighbors': 48, 'weights': 'distance'}\n",
      "0.657570 (0.026688) with: {'algorithm': 'ball_tree', 'metric': 'minkowski', 'n_neighbors': 10, 'weights': 'uniform'}\n",
      "0.649241 (0.026764) with: {'algorithm': 'ball_tree', 'metric': 'minkowski', 'n_neighbors': 10, 'weights': 'distance'}\n",
      "0.654648 (0.025945) with: {'algorithm': 'ball_tree', 'metric': 'minkowski', 'n_neighbors': 12, 'weights': 'uniform'}\n",
      "0.648391 (0.027658) with: {'algorithm': 'ball_tree', 'metric': 'minkowski', 'n_neighbors': 12, 'weights': 'distance'}\n",
      "0.647170 (0.025055) with: {'algorithm': 'ball_tree', 'metric': 'minkowski', 'n_neighbors': 14, 'weights': 'uniform'}\n",
      "0.648780 (0.027197) with: {'algorithm': 'ball_tree', 'metric': 'minkowski', 'n_neighbors': 14, 'weights': 'distance'}\n",
      "0.645016 (0.028433) with: {'algorithm': 'ball_tree', 'metric': 'minkowski', 'n_neighbors': 16, 'weights': 'uniform'}\n",
      "0.649092 (0.027631) with: {'algorithm': 'ball_tree', 'metric': 'minkowski', 'n_neighbors': 16, 'weights': 'distance'}\n",
      "0.644556 (0.028160) with: {'algorithm': 'ball_tree', 'metric': 'minkowski', 'n_neighbors': 18, 'weights': 'uniform'}\n",
      "0.647861 (0.025088) with: {'algorithm': 'ball_tree', 'metric': 'minkowski', 'n_neighbors': 18, 'weights': 'distance'}\n",
      "0.642861 (0.031745) with: {'algorithm': 'ball_tree', 'metric': 'minkowski', 'n_neighbors': 20, 'weights': 'uniform'}\n",
      "0.649481 (0.026662) with: {'algorithm': 'ball_tree', 'metric': 'minkowski', 'n_neighbors': 20, 'weights': 'distance'}\n",
      "0.640011 (0.028639) with: {'algorithm': 'ball_tree', 'metric': 'minkowski', 'n_neighbors': 22, 'weights': 'uniform'}\n",
      "0.651251 (0.026012) with: {'algorithm': 'ball_tree', 'metric': 'minkowski', 'n_neighbors': 22, 'weights': 'distance'}\n",
      "0.640089 (0.029270) with: {'algorithm': 'ball_tree', 'metric': 'minkowski', 'n_neighbors': 24, 'weights': 'uniform'}\n",
      "0.652488 (0.025147) with: {'algorithm': 'ball_tree', 'metric': 'minkowski', 'n_neighbors': 24, 'weights': 'distance'}\n",
      "0.640166 (0.026418) with: {'algorithm': 'ball_tree', 'metric': 'minkowski', 'n_neighbors': 26, 'weights': 'uniform'}\n",
      "0.650330 (0.023831) with: {'algorithm': 'ball_tree', 'metric': 'minkowski', 'n_neighbors': 26, 'weights': 'distance'}\n",
      "0.638007 (0.027168) with: {'algorithm': 'ball_tree', 'metric': 'minkowski', 'n_neighbors': 28, 'weights': 'uniform'}\n",
      "0.649094 (0.024233) with: {'algorithm': 'ball_tree', 'metric': 'minkowski', 'n_neighbors': 28, 'weights': 'distance'}\n",
      "0.638473 (0.028678) with: {'algorithm': 'ball_tree', 'metric': 'minkowski', 'n_neighbors': 30, 'weights': 'uniform'}\n",
      "0.649327 (0.022709) with: {'algorithm': 'ball_tree', 'metric': 'minkowski', 'n_neighbors': 30, 'weights': 'distance'}\n",
      "0.640323 (0.027451) with: {'algorithm': 'ball_tree', 'metric': 'minkowski', 'n_neighbors': 32, 'weights': 'uniform'}\n",
      "0.649405 (0.022815) with: {'algorithm': 'ball_tree', 'metric': 'minkowski', 'n_neighbors': 32, 'weights': 'distance'}\n",
      "0.637236 (0.027541) with: {'algorithm': 'ball_tree', 'metric': 'minkowski', 'n_neighbors': 34, 'weights': 'uniform'}\n",
      "0.647938 (0.024830) with: {'algorithm': 'ball_tree', 'metric': 'minkowski', 'n_neighbors': 34, 'weights': 'distance'}\n",
      "0.633770 (0.029236) with: {'algorithm': 'ball_tree', 'metric': 'minkowski', 'n_neighbors': 36, 'weights': 'uniform'}\n",
      "0.647860 (0.024124) with: {'algorithm': 'ball_tree', 'metric': 'minkowski', 'n_neighbors': 36, 'weights': 'distance'}\n",
      "0.631376 (0.026769) with: {'algorithm': 'ball_tree', 'metric': 'minkowski', 'n_neighbors': 38, 'weights': 'uniform'}\n",
      "0.646627 (0.025599) with: {'algorithm': 'ball_tree', 'metric': 'minkowski', 'n_neighbors': 38, 'weights': 'distance'}\n",
      "0.630995 (0.027241) with: {'algorithm': 'ball_tree', 'metric': 'minkowski', 'n_neighbors': 40, 'weights': 'uniform'}\n",
      "0.646009 (0.025312) with: {'algorithm': 'ball_tree', 'metric': 'minkowski', 'n_neighbors': 40, 'weights': 'distance'}\n",
      "0.628992 (0.027867) with: {'algorithm': 'ball_tree', 'metric': 'minkowski', 'n_neighbors': 42, 'weights': 'uniform'}\n",
      "0.644622 (0.023308) with: {'algorithm': 'ball_tree', 'metric': 'minkowski', 'n_neighbors': 42, 'weights': 'distance'}\n",
      "0.628377 (0.028284) with: {'algorithm': 'ball_tree', 'metric': 'minkowski', 'n_neighbors': 44, 'weights': 'uniform'}\n",
      "0.645011 (0.023417) with: {'algorithm': 'ball_tree', 'metric': 'minkowski', 'n_neighbors': 44, 'weights': 'distance'}\n",
      "0.626293 (0.026258) with: {'algorithm': 'ball_tree', 'metric': 'minkowski', 'n_neighbors': 46, 'weights': 'uniform'}\n",
      "0.644238 (0.022390) with: {'algorithm': 'ball_tree', 'metric': 'minkowski', 'n_neighbors': 46, 'weights': 'distance'}\n",
      "0.625523 (0.026612) with: {'algorithm': 'ball_tree', 'metric': 'minkowski', 'n_neighbors': 48, 'weights': 'uniform'}\n",
      "0.644010 (0.025970) with: {'algorithm': 'ball_tree', 'metric': 'minkowski', 'n_neighbors': 48, 'weights': 'distance'}\n",
      "0.384896 (0.025770) with: {'algorithm': 'ball_tree', 'metric': 'chebyshev', 'n_neighbors': 10, 'weights': 'uniform'}\n",
      "0.438533 (0.032560) with: {'algorithm': 'ball_tree', 'metric': 'chebyshev', 'n_neighbors': 10, 'weights': 'distance'}\n",
      "0.386595 (0.033208) with: {'algorithm': 'ball_tree', 'metric': 'chebyshev', 'n_neighbors': 12, 'weights': 'uniform'}\n",
      "0.443078 (0.031359) with: {'algorithm': 'ball_tree', 'metric': 'chebyshev', 'n_neighbors': 12, 'weights': 'distance'}\n",
      "0.375340 (0.031448) with: {'algorithm': 'ball_tree', 'metric': 'chebyshev', 'n_neighbors': 14, 'weights': 'uniform'}\n",
      "0.440152 (0.027958) with: {'algorithm': 'ball_tree', 'metric': 'chebyshev', 'n_neighbors': 14, 'weights': 'distance'}\n",
      "0.373486 (0.030682) with: {'algorithm': 'ball_tree', 'metric': 'chebyshev', 'n_neighbors': 16, 'weights': 'uniform'}\n",
      "0.441071 (0.029078) with: {'algorithm': 'ball_tree', 'metric': 'chebyshev', 'n_neighbors': 16, 'weights': 'distance'}\n",
      "0.371023 (0.029284) with: {'algorithm': 'ball_tree', 'metric': 'chebyshev', 'n_neighbors': 18, 'weights': 'uniform'}\n",
      "0.443464 (0.025285) with: {'algorithm': 'ball_tree', 'metric': 'chebyshev', 'n_neighbors': 18, 'weights': 'distance'}\n",
      "0.366549 (0.028751) with: {'algorithm': 'ball_tree', 'metric': 'chebyshev', 'n_neighbors': 20, 'weights': 'uniform'}\n",
      "0.441765 (0.027576) with: {'algorithm': 'ball_tree', 'metric': 'chebyshev', 'n_neighbors': 20, 'weights': 'distance'}\n",
      "0.363853 (0.030166) with: {'algorithm': 'ball_tree', 'metric': 'chebyshev', 'n_neighbors': 22, 'weights': 'uniform'}\n",
      "0.441683 (0.029266) with: {'algorithm': 'ball_tree', 'metric': 'chebyshev', 'n_neighbors': 22, 'weights': 'distance'}\n",
      "0.359922 (0.030441) with: {'algorithm': 'ball_tree', 'metric': 'chebyshev', 'n_neighbors': 24, 'weights': 'uniform'}\n",
      "0.440604 (0.028853) with: {'algorithm': 'ball_tree', 'metric': 'chebyshev', 'n_neighbors': 24, 'weights': 'distance'}\n",
      "0.354757 (0.027491) with: {'algorithm': 'ball_tree', 'metric': 'chebyshev', 'n_neighbors': 26, 'weights': 'uniform'}\n",
      "0.437982 (0.028464) with: {'algorithm': 'ball_tree', 'metric': 'chebyshev', 'n_neighbors': 26, 'weights': 'distance'}\n",
      "0.359302 (0.027093) with: {'algorithm': 'ball_tree', 'metric': 'chebyshev', 'n_neighbors': 28, 'weights': 'uniform'}\n",
      "0.440064 (0.028393) with: {'algorithm': 'ball_tree', 'metric': 'chebyshev', 'n_neighbors': 28, 'weights': 'distance'}\n",
      "0.360528 (0.029230) with: {'algorithm': 'ball_tree', 'metric': 'chebyshev', 'n_neighbors': 30, 'weights': 'uniform'}\n",
      "0.439675 (0.027281) with: {'algorithm': 'ball_tree', 'metric': 'chebyshev', 'n_neighbors': 30, 'weights': 'distance'}\n",
      "0.364849 (0.029060) with: {'algorithm': 'ball_tree', 'metric': 'chebyshev', 'n_neighbors': 32, 'weights': 'uniform'}\n",
      "0.442528 (0.026744) with: {'algorithm': 'ball_tree', 'metric': 'chebyshev', 'n_neighbors': 32, 'weights': 'distance'}\n",
      "0.360917 (0.027618) with: {'algorithm': 'ball_tree', 'metric': 'chebyshev', 'n_neighbors': 34, 'weights': 'uniform'}\n",
      "0.439062 (0.027650) with: {'algorithm': 'ball_tree', 'metric': 'chebyshev', 'n_neighbors': 34, 'weights': 'distance'}\n",
      "0.360448 (0.027869) with: {'algorithm': 'ball_tree', 'metric': 'chebyshev', 'n_neighbors': 36, 'weights': 'uniform'}\n",
      "0.439140 (0.029325) with: {'algorithm': 'ball_tree', 'metric': 'chebyshev', 'n_neighbors': 36, 'weights': 'distance'}\n",
      "0.358979 (0.030427) with: {'algorithm': 'ball_tree', 'metric': 'chebyshev', 'n_neighbors': 38, 'weights': 'uniform'}\n",
      "0.436362 (0.027568) with: {'algorithm': 'ball_tree', 'metric': 'chebyshev', 'n_neighbors': 38, 'weights': 'distance'}\n",
      "0.356757 (0.028532) with: {'algorithm': 'ball_tree', 'metric': 'chebyshev', 'n_neighbors': 40, 'weights': 'uniform'}\n",
      "0.436443 (0.027431) with: {'algorithm': 'ball_tree', 'metric': 'chebyshev', 'n_neighbors': 40, 'weights': 'distance'}\n",
      "0.354525 (0.028688) with: {'algorithm': 'ball_tree', 'metric': 'chebyshev', 'n_neighbors': 42, 'weights': 'uniform'}\n",
      "0.434593 (0.027754) with: {'algorithm': 'ball_tree', 'metric': 'chebyshev', 'n_neighbors': 42, 'weights': 'distance'}\n",
      "0.350287 (0.030269) with: {'algorithm': 'ball_tree', 'metric': 'chebyshev', 'n_neighbors': 44, 'weights': 'uniform'}\n",
      "0.431974 (0.029792) with: {'algorithm': 'ball_tree', 'metric': 'chebyshev', 'n_neighbors': 44, 'weights': 'distance'}\n",
      "0.348748 (0.028588) with: {'algorithm': 'ball_tree', 'metric': 'chebyshev', 'n_neighbors': 46, 'weights': 'uniform'}\n",
      "0.431739 (0.029596) with: {'algorithm': 'ball_tree', 'metric': 'chebyshev', 'n_neighbors': 46, 'weights': 'distance'}\n",
      "0.345744 (0.025725) with: {'algorithm': 'ball_tree', 'metric': 'chebyshev', 'n_neighbors': 48, 'weights': 'uniform'}\n",
      "0.430359 (0.025954) with: {'algorithm': 'ball_tree', 'metric': 'chebyshev', 'n_neighbors': 48, 'weights': 'distance'}\n",
      "0.657875 (0.026244) with: {'algorithm': 'kd_tree', 'metric': 'euclidean', 'n_neighbors': 10, 'weights': 'uniform'}\n",
      "0.648470 (0.026514) with: {'algorithm': 'kd_tree', 'metric': 'euclidean', 'n_neighbors': 10, 'weights': 'distance'}\n",
      "0.653492 (0.026321) with: {'algorithm': 'kd_tree', 'metric': 'euclidean', 'n_neighbors': 12, 'weights': 'uniform'}\n",
      "0.647929 (0.027156) with: {'algorithm': 'kd_tree', 'metric': 'euclidean', 'n_neighbors': 12, 'weights': 'distance'}\n",
      "0.648711 (0.026177) with: {'algorithm': 'kd_tree', 'metric': 'euclidean', 'n_neighbors': 14, 'weights': 'uniform'}\n",
      "0.648393 (0.027118) with: {'algorithm': 'kd_tree', 'metric': 'euclidean', 'n_neighbors': 14, 'weights': 'distance'}\n",
      "0.647710 (0.026311) with: {'algorithm': 'kd_tree', 'metric': 'euclidean', 'n_neighbors': 16, 'weights': 'uniform'}\n",
      "0.650018 (0.026635) with: {'algorithm': 'kd_tree', 'metric': 'euclidean', 'n_neighbors': 16, 'weights': 'distance'}\n",
      "0.645712 (0.028944) with: {'algorithm': 'kd_tree', 'metric': 'euclidean', 'n_neighbors': 18, 'weights': 'uniform'}\n",
      "0.647631 (0.026260) with: {'algorithm': 'kd_tree', 'metric': 'euclidean', 'n_neighbors': 18, 'weights': 'distance'}\n",
      "0.641856 (0.030851) with: {'algorithm': 'kd_tree', 'metric': 'euclidean', 'n_neighbors': 20, 'weights': 'uniform'}\n",
      "0.648552 (0.025685) with: {'algorithm': 'kd_tree', 'metric': 'euclidean', 'n_neighbors': 20, 'weights': 'distance'}\n",
      "0.639394 (0.030808) with: {'algorithm': 'kd_tree', 'metric': 'euclidean', 'n_neighbors': 22, 'weights': 'uniform'}\n",
      "0.649787 (0.024608) with: {'algorithm': 'kd_tree', 'metric': 'euclidean', 'n_neighbors': 22, 'weights': 'distance'}\n",
      "0.641783 (0.028572) with: {'algorithm': 'kd_tree', 'metric': 'euclidean', 'n_neighbors': 24, 'weights': 'uniform'}\n",
      "0.651562 (0.024734) with: {'algorithm': 'kd_tree', 'metric': 'euclidean', 'n_neighbors': 24, 'weights': 'distance'}\n",
      "0.639241 (0.027940) with: {'algorithm': 'kd_tree', 'metric': 'euclidean', 'n_neighbors': 26, 'weights': 'uniform'}\n",
      "0.651175 (0.022713) with: {'algorithm': 'kd_tree', 'metric': 'euclidean', 'n_neighbors': 26, 'weights': 'distance'}\n",
      "0.638546 (0.027552) with: {'algorithm': 'kd_tree', 'metric': 'euclidean', 'n_neighbors': 28, 'weights': 'uniform'}\n",
      "0.649018 (0.023719) with: {'algorithm': 'kd_tree', 'metric': 'euclidean', 'n_neighbors': 28, 'weights': 'distance'}\n",
      "0.638857 (0.029332) with: {'algorithm': 'kd_tree', 'metric': 'euclidean', 'n_neighbors': 30, 'weights': 'uniform'}\n",
      "0.649557 (0.023154) with: {'algorithm': 'kd_tree', 'metric': 'euclidean', 'n_neighbors': 30, 'weights': 'distance'}\n",
      "0.638624 (0.025721) with: {'algorithm': 'kd_tree', 'metric': 'euclidean', 'n_neighbors': 32, 'weights': 'uniform'}\n",
      "0.647323 (0.022555) with: {'algorithm': 'kd_tree', 'metric': 'euclidean', 'n_neighbors': 32, 'weights': 'distance'}\n",
      "0.638241 (0.026165) with: {'algorithm': 'kd_tree', 'metric': 'euclidean', 'n_neighbors': 34, 'weights': 'uniform'}\n",
      "0.648633 (0.023704) with: {'algorithm': 'kd_tree', 'metric': 'euclidean', 'n_neighbors': 34, 'weights': 'distance'}\n",
      "0.635312 (0.029692) with: {'algorithm': 'kd_tree', 'metric': 'euclidean', 'n_neighbors': 36, 'weights': 'uniform'}\n",
      "0.649404 (0.024090) with: {'algorithm': 'kd_tree', 'metric': 'euclidean', 'n_neighbors': 36, 'weights': 'distance'}\n",
      "0.634462 (0.027515) with: {'algorithm': 'kd_tree', 'metric': 'euclidean', 'n_neighbors': 38, 'weights': 'uniform'}\n",
      "0.647706 (0.025106) with: {'algorithm': 'kd_tree', 'metric': 'euclidean', 'n_neighbors': 38, 'weights': 'distance'}\n",
      "0.632307 (0.028112) with: {'algorithm': 'kd_tree', 'metric': 'euclidean', 'n_neighbors': 40, 'weights': 'uniform'}\n",
      "0.646321 (0.025198) with: {'algorithm': 'kd_tree', 'metric': 'euclidean', 'n_neighbors': 40, 'weights': 'distance'}\n",
      "0.629299 (0.027801) with: {'algorithm': 'kd_tree', 'metric': 'euclidean', 'n_neighbors': 42, 'weights': 'uniform'}\n",
      "0.645164 (0.023125) with: {'algorithm': 'kd_tree', 'metric': 'euclidean', 'n_neighbors': 42, 'weights': 'distance'}\n",
      "0.628686 (0.027809) with: {'algorithm': 'kd_tree', 'metric': 'euclidean', 'n_neighbors': 44, 'weights': 'uniform'}\n",
      "0.643855 (0.024547) with: {'algorithm': 'kd_tree', 'metric': 'euclidean', 'n_neighbors': 44, 'weights': 'distance'}\n",
      "0.627218 (0.026800) with: {'algorithm': 'kd_tree', 'metric': 'euclidean', 'n_neighbors': 46, 'weights': 'uniform'}\n",
      "0.643314 (0.022130) with: {'algorithm': 'kd_tree', 'metric': 'euclidean', 'n_neighbors': 46, 'weights': 'distance'}\n",
      "0.625062 (0.024973) with: {'algorithm': 'kd_tree', 'metric': 'euclidean', 'n_neighbors': 48, 'weights': 'uniform'}\n",
      "0.643316 (0.024238) with: {'algorithm': 'kd_tree', 'metric': 'euclidean', 'n_neighbors': 48, 'weights': 'distance'}\n",
      "0.656411 (0.025379) with: {'algorithm': 'kd_tree', 'metric': 'manhattan', 'n_neighbors': 10, 'weights': 'uniform'}\n",
      "0.645080 (0.027068) with: {'algorithm': 'kd_tree', 'metric': 'manhattan', 'n_neighbors': 10, 'weights': 'distance'}\n",
      "0.652718 (0.025733) with: {'algorithm': 'kd_tree', 'metric': 'manhattan', 'n_neighbors': 12, 'weights': 'uniform'}\n",
      "0.647237 (0.026066) with: {'algorithm': 'kd_tree', 'metric': 'manhattan', 'n_neighbors': 12, 'weights': 'distance'}\n",
      "0.648789 (0.024870) with: {'algorithm': 'kd_tree', 'metric': 'manhattan', 'n_neighbors': 14, 'weights': 'uniform'}\n",
      "0.649858 (0.024298) with: {'algorithm': 'kd_tree', 'metric': 'manhattan', 'n_neighbors': 14, 'weights': 'distance'}\n",
      "0.650179 (0.027528) with: {'algorithm': 'kd_tree', 'metric': 'manhattan', 'n_neighbors': 16, 'weights': 'uniform'}\n",
      "0.651401 (0.026113) with: {'algorithm': 'kd_tree', 'metric': 'manhattan', 'n_neighbors': 16, 'weights': 'distance'}\n",
      "0.649025 (0.026505) with: {'algorithm': 'kd_tree', 'metric': 'manhattan', 'n_neighbors': 18, 'weights': 'uniform'}\n",
      "0.649011 (0.025832) with: {'algorithm': 'kd_tree', 'metric': 'manhattan', 'n_neighbors': 18, 'weights': 'distance'}\n",
      "0.644169 (0.030808) with: {'algorithm': 'kd_tree', 'metric': 'manhattan', 'n_neighbors': 20, 'weights': 'uniform'}\n",
      "0.650557 (0.025434) with: {'algorithm': 'kd_tree', 'metric': 'manhattan', 'n_neighbors': 20, 'weights': 'distance'}\n",
      "0.643709 (0.031826) with: {'algorithm': 'kd_tree', 'metric': 'manhattan', 'n_neighbors': 22, 'weights': 'uniform'}\n",
      "0.651326 (0.025357) with: {'algorithm': 'kd_tree', 'metric': 'manhattan', 'n_neighbors': 22, 'weights': 'distance'}\n",
      "0.641088 (0.028383) with: {'algorithm': 'kd_tree', 'metric': 'manhattan', 'n_neighbors': 24, 'weights': 'uniform'}\n",
      "0.653331 (0.024452) with: {'algorithm': 'kd_tree', 'metric': 'manhattan', 'n_neighbors': 24, 'weights': 'distance'}\n",
      "0.640244 (0.027467) with: {'algorithm': 'kd_tree', 'metric': 'manhattan', 'n_neighbors': 26, 'weights': 'uniform'}\n",
      "0.654101 (0.024421) with: {'algorithm': 'kd_tree', 'metric': 'manhattan', 'n_neighbors': 26, 'weights': 'distance'}\n",
      "0.639082 (0.027813) with: {'algorithm': 'kd_tree', 'metric': 'manhattan', 'n_neighbors': 28, 'weights': 'uniform'}\n",
      "0.653565 (0.024778) with: {'algorithm': 'kd_tree', 'metric': 'manhattan', 'n_neighbors': 28, 'weights': 'distance'}\n",
      "0.636233 (0.027239) with: {'algorithm': 'kd_tree', 'metric': 'manhattan', 'n_neighbors': 30, 'weights': 'uniform'}\n",
      "0.651716 (0.024825) with: {'algorithm': 'kd_tree', 'metric': 'manhattan', 'n_neighbors': 30, 'weights': 'distance'}\n",
      "0.639007 (0.028072) with: {'algorithm': 'kd_tree', 'metric': 'manhattan', 'n_neighbors': 32, 'weights': 'uniform'}\n",
      "0.651718 (0.023505) with: {'algorithm': 'kd_tree', 'metric': 'manhattan', 'n_neighbors': 32, 'weights': 'distance'}\n",
      "0.634079 (0.027526) with: {'algorithm': 'kd_tree', 'metric': 'manhattan', 'n_neighbors': 34, 'weights': 'uniform'}\n",
      "0.650022 (0.024840) with: {'algorithm': 'kd_tree', 'metric': 'manhattan', 'n_neighbors': 34, 'weights': 'distance'}\n",
      "0.634001 (0.028717) with: {'algorithm': 'kd_tree', 'metric': 'manhattan', 'n_neighbors': 36, 'weights': 'uniform'}\n",
      "0.651484 (0.023957) with: {'algorithm': 'kd_tree', 'metric': 'manhattan', 'n_neighbors': 36, 'weights': 'distance'}\n",
      "0.633305 (0.029703) with: {'algorithm': 'kd_tree', 'metric': 'manhattan', 'n_neighbors': 38, 'weights': 'uniform'}\n",
      "0.651716 (0.025019) with: {'algorithm': 'kd_tree', 'metric': 'manhattan', 'n_neighbors': 38, 'weights': 'distance'}\n",
      "0.631994 (0.027703) with: {'algorithm': 'kd_tree', 'metric': 'manhattan', 'n_neighbors': 40, 'weights': 'uniform'}\n",
      "0.651560 (0.024558) with: {'algorithm': 'kd_tree', 'metric': 'manhattan', 'n_neighbors': 40, 'weights': 'distance'}\n",
      "0.629453 (0.026605) with: {'algorithm': 'kd_tree', 'metric': 'manhattan', 'n_neighbors': 42, 'weights': 'uniform'}\n",
      "0.650326 (0.023867) with: {'algorithm': 'kd_tree', 'metric': 'manhattan', 'n_neighbors': 42, 'weights': 'distance'}\n",
      "0.629529 (0.027044) with: {'algorithm': 'kd_tree', 'metric': 'manhattan', 'n_neighbors': 44, 'weights': 'uniform'}\n",
      "0.649941 (0.025009) with: {'algorithm': 'kd_tree', 'metric': 'manhattan', 'n_neighbors': 44, 'weights': 'distance'}\n",
      "0.627523 (0.027607) with: {'algorithm': 'kd_tree', 'metric': 'manhattan', 'n_neighbors': 46, 'weights': 'uniform'}\n",
      "0.649170 (0.024894) with: {'algorithm': 'kd_tree', 'metric': 'manhattan', 'n_neighbors': 46, 'weights': 'distance'}\n",
      "0.625445 (0.029062) with: {'algorithm': 'kd_tree', 'metric': 'manhattan', 'n_neighbors': 48, 'weights': 'uniform'}\n",
      "0.649478 (0.024243) with: {'algorithm': 'kd_tree', 'metric': 'manhattan', 'n_neighbors': 48, 'weights': 'distance'}\n",
      "0.657875 (0.026244) with: {'algorithm': 'kd_tree', 'metric': 'minkowski', 'n_neighbors': 10, 'weights': 'uniform'}\n",
      "0.648470 (0.026514) with: {'algorithm': 'kd_tree', 'metric': 'minkowski', 'n_neighbors': 10, 'weights': 'distance'}\n",
      "0.653492 (0.026321) with: {'algorithm': 'kd_tree', 'metric': 'minkowski', 'n_neighbors': 12, 'weights': 'uniform'}\n",
      "0.647929 (0.027156) with: {'algorithm': 'kd_tree', 'metric': 'minkowski', 'n_neighbors': 12, 'weights': 'distance'}\n",
      "0.648711 (0.026177) with: {'algorithm': 'kd_tree', 'metric': 'minkowski', 'n_neighbors': 14, 'weights': 'uniform'}\n",
      "0.648393 (0.027118) with: {'algorithm': 'kd_tree', 'metric': 'minkowski', 'n_neighbors': 14, 'weights': 'distance'}\n",
      "0.647710 (0.026311) with: {'algorithm': 'kd_tree', 'metric': 'minkowski', 'n_neighbors': 16, 'weights': 'uniform'}\n",
      "0.650018 (0.026635) with: {'algorithm': 'kd_tree', 'metric': 'minkowski', 'n_neighbors': 16, 'weights': 'distance'}\n",
      "0.645712 (0.028944) with: {'algorithm': 'kd_tree', 'metric': 'minkowski', 'n_neighbors': 18, 'weights': 'uniform'}\n",
      "0.647631 (0.026260) with: {'algorithm': 'kd_tree', 'metric': 'minkowski', 'n_neighbors': 18, 'weights': 'distance'}\n",
      "0.641856 (0.030851) with: {'algorithm': 'kd_tree', 'metric': 'minkowski', 'n_neighbors': 20, 'weights': 'uniform'}\n",
      "0.648552 (0.025685) with: {'algorithm': 'kd_tree', 'metric': 'minkowski', 'n_neighbors': 20, 'weights': 'distance'}\n",
      "0.639394 (0.030808) with: {'algorithm': 'kd_tree', 'metric': 'minkowski', 'n_neighbors': 22, 'weights': 'uniform'}\n",
      "0.649787 (0.024608) with: {'algorithm': 'kd_tree', 'metric': 'minkowski', 'n_neighbors': 22, 'weights': 'distance'}\n",
      "0.641783 (0.028572) with: {'algorithm': 'kd_tree', 'metric': 'minkowski', 'n_neighbors': 24, 'weights': 'uniform'}\n",
      "0.651562 (0.024734) with: {'algorithm': 'kd_tree', 'metric': 'minkowski', 'n_neighbors': 24, 'weights': 'distance'}\n",
      "0.639241 (0.027940) with: {'algorithm': 'kd_tree', 'metric': 'minkowski', 'n_neighbors': 26, 'weights': 'uniform'}\n",
      "0.651175 (0.022713) with: {'algorithm': 'kd_tree', 'metric': 'minkowski', 'n_neighbors': 26, 'weights': 'distance'}\n",
      "0.638546 (0.027552) with: {'algorithm': 'kd_tree', 'metric': 'minkowski', 'n_neighbors': 28, 'weights': 'uniform'}\n",
      "0.649018 (0.023719) with: {'algorithm': 'kd_tree', 'metric': 'minkowski', 'n_neighbors': 28, 'weights': 'distance'}\n",
      "0.638857 (0.029332) with: {'algorithm': 'kd_tree', 'metric': 'minkowski', 'n_neighbors': 30, 'weights': 'uniform'}\n",
      "0.649557 (0.023154) with: {'algorithm': 'kd_tree', 'metric': 'minkowski', 'n_neighbors': 30, 'weights': 'distance'}\n",
      "0.638624 (0.025721) with: {'algorithm': 'kd_tree', 'metric': 'minkowski', 'n_neighbors': 32, 'weights': 'uniform'}\n",
      "0.647323 (0.022555) with: {'algorithm': 'kd_tree', 'metric': 'minkowski', 'n_neighbors': 32, 'weights': 'distance'}\n",
      "0.638241 (0.026165) with: {'algorithm': 'kd_tree', 'metric': 'minkowski', 'n_neighbors': 34, 'weights': 'uniform'}\n",
      "0.648633 (0.023704) with: {'algorithm': 'kd_tree', 'metric': 'minkowski', 'n_neighbors': 34, 'weights': 'distance'}\n",
      "0.635312 (0.029692) with: {'algorithm': 'kd_tree', 'metric': 'minkowski', 'n_neighbors': 36, 'weights': 'uniform'}\n",
      "0.649404 (0.024090) with: {'algorithm': 'kd_tree', 'metric': 'minkowski', 'n_neighbors': 36, 'weights': 'distance'}\n",
      "0.634462 (0.027515) with: {'algorithm': 'kd_tree', 'metric': 'minkowski', 'n_neighbors': 38, 'weights': 'uniform'}\n",
      "0.647706 (0.025106) with: {'algorithm': 'kd_tree', 'metric': 'minkowski', 'n_neighbors': 38, 'weights': 'distance'}\n",
      "0.632307 (0.028112) with: {'algorithm': 'kd_tree', 'metric': 'minkowski', 'n_neighbors': 40, 'weights': 'uniform'}\n",
      "0.646321 (0.025198) with: {'algorithm': 'kd_tree', 'metric': 'minkowski', 'n_neighbors': 40, 'weights': 'distance'}\n",
      "0.629299 (0.027801) with: {'algorithm': 'kd_tree', 'metric': 'minkowski', 'n_neighbors': 42, 'weights': 'uniform'}\n",
      "0.645164 (0.023125) with: {'algorithm': 'kd_tree', 'metric': 'minkowski', 'n_neighbors': 42, 'weights': 'distance'}\n",
      "0.628686 (0.027809) with: {'algorithm': 'kd_tree', 'metric': 'minkowski', 'n_neighbors': 44, 'weights': 'uniform'}\n",
      "0.643855 (0.024547) with: {'algorithm': 'kd_tree', 'metric': 'minkowski', 'n_neighbors': 44, 'weights': 'distance'}\n",
      "0.627218 (0.026800) with: {'algorithm': 'kd_tree', 'metric': 'minkowski', 'n_neighbors': 46, 'weights': 'uniform'}\n",
      "0.643314 (0.022130) with: {'algorithm': 'kd_tree', 'metric': 'minkowski', 'n_neighbors': 46, 'weights': 'distance'}\n",
      "0.625062 (0.024973) with: {'algorithm': 'kd_tree', 'metric': 'minkowski', 'n_neighbors': 48, 'weights': 'uniform'}\n",
      "0.643316 (0.024238) with: {'algorithm': 'kd_tree', 'metric': 'minkowski', 'n_neighbors': 48, 'weights': 'distance'}\n",
      "0.388210 (0.029317) with: {'algorithm': 'kd_tree', 'metric': 'chebyshev', 'n_neighbors': 10, 'weights': 'uniform'}\n",
      "0.440921 (0.029961) with: {'algorithm': 'kd_tree', 'metric': 'chebyshev', 'n_neighbors': 10, 'weights': 'distance'}\n",
      "0.386983 (0.035787) with: {'algorithm': 'kd_tree', 'metric': 'chebyshev', 'n_neighbors': 12, 'weights': 'uniform'}\n",
      "0.443004 (0.030654) with: {'algorithm': 'kd_tree', 'metric': 'chebyshev', 'n_neighbors': 12, 'weights': 'distance'}\n",
      "0.375726 (0.033255) with: {'algorithm': 'kd_tree', 'metric': 'chebyshev', 'n_neighbors': 14, 'weights': 'uniform'}\n",
      "0.438763 (0.030025) with: {'algorithm': 'kd_tree', 'metric': 'chebyshev', 'n_neighbors': 14, 'weights': 'distance'}\n",
      "0.373481 (0.035392) with: {'algorithm': 'kd_tree', 'metric': 'chebyshev', 'n_neighbors': 16, 'weights': 'uniform'}\n",
      "0.439910 (0.029414) with: {'algorithm': 'kd_tree', 'metric': 'chebyshev', 'n_neighbors': 16, 'weights': 'distance'}\n",
      "0.367170 (0.033370) with: {'algorithm': 'kd_tree', 'metric': 'chebyshev', 'n_neighbors': 18, 'weights': 'uniform'}\n",
      "0.439455 (0.027613) with: {'algorithm': 'kd_tree', 'metric': 'chebyshev', 'n_neighbors': 18, 'weights': 'distance'}\n",
      "0.364784 (0.034238) with: {'algorithm': 'kd_tree', 'metric': 'chebyshev', 'n_neighbors': 20, 'weights': 'uniform'}\n",
      "0.439458 (0.028794) with: {'algorithm': 'kd_tree', 'metric': 'chebyshev', 'n_neighbors': 20, 'weights': 'distance'}\n",
      "0.364790 (0.030659) with: {'algorithm': 'kd_tree', 'metric': 'chebyshev', 'n_neighbors': 22, 'weights': 'uniform'}\n",
      "0.441457 (0.028131) with: {'algorithm': 'kd_tree', 'metric': 'chebyshev', 'n_neighbors': 22, 'weights': 'distance'}\n",
      "0.366792 (0.028821) with: {'algorithm': 'kd_tree', 'metric': 'chebyshev', 'n_neighbors': 24, 'weights': 'uniform'}\n",
      "0.441999 (0.026248) with: {'algorithm': 'kd_tree', 'metric': 'chebyshev', 'n_neighbors': 24, 'weights': 'distance'}\n",
      "0.365636 (0.028842) with: {'algorithm': 'kd_tree', 'metric': 'chebyshev', 'n_neighbors': 26, 'weights': 'uniform'}\n",
      "0.440692 (0.027934) with: {'algorithm': 'kd_tree', 'metric': 'chebyshev', 'n_neighbors': 26, 'weights': 'distance'}\n",
      "0.368176 (0.026608) with: {'algorithm': 'kd_tree', 'metric': 'chebyshev', 'n_neighbors': 28, 'weights': 'uniform'}\n",
      "0.444160 (0.025686) with: {'algorithm': 'kd_tree', 'metric': 'chebyshev', 'n_neighbors': 28, 'weights': 'distance'}\n",
      "0.365400 (0.030699) with: {'algorithm': 'kd_tree', 'metric': 'chebyshev', 'n_neighbors': 30, 'weights': 'uniform'}\n",
      "0.442461 (0.024999) with: {'algorithm': 'kd_tree', 'metric': 'chebyshev', 'n_neighbors': 30, 'weights': 'distance'}\n",
      "0.364938 (0.033114) with: {'algorithm': 'kd_tree', 'metric': 'chebyshev', 'n_neighbors': 32, 'weights': 'uniform'}\n",
      "0.443541 (0.026078) with: {'algorithm': 'kd_tree', 'metric': 'chebyshev', 'n_neighbors': 32, 'weights': 'distance'}\n",
      "0.360154 (0.030238) with: {'algorithm': 'kd_tree', 'metric': 'chebyshev', 'n_neighbors': 34, 'weights': 'uniform'}\n",
      "0.439152 (0.025929) with: {'algorithm': 'kd_tree', 'metric': 'chebyshev', 'n_neighbors': 34, 'weights': 'distance'}\n",
      "0.355070 (0.030365) with: {'algorithm': 'kd_tree', 'metric': 'chebyshev', 'n_neighbors': 36, 'weights': 'uniform'}\n",
      "0.437304 (0.026732) with: {'algorithm': 'kd_tree', 'metric': 'chebyshev', 'n_neighbors': 36, 'weights': 'distance'}\n",
      "0.353221 (0.028508) with: {'algorithm': 'kd_tree', 'metric': 'chebyshev', 'n_neighbors': 38, 'weights': 'uniform'}\n",
      "0.434299 (0.024923) with: {'algorithm': 'kd_tree', 'metric': 'chebyshev', 'n_neighbors': 38, 'weights': 'distance'}\n",
      "0.352228 (0.028633) with: {'algorithm': 'kd_tree', 'metric': 'chebyshev', 'n_neighbors': 40, 'weights': 'uniform'}\n",
      "0.434067 (0.025155) with: {'algorithm': 'kd_tree', 'metric': 'chebyshev', 'n_neighbors': 40, 'weights': 'distance'}\n",
      "0.351145 (0.025657) with: {'algorithm': 'kd_tree', 'metric': 'chebyshev', 'n_neighbors': 42, 'weights': 'uniform'}\n",
      "0.432216 (0.023401) with: {'algorithm': 'kd_tree', 'metric': 'chebyshev', 'n_neighbors': 42, 'weights': 'distance'}\n",
      "0.348292 (0.027052) with: {'algorithm': 'kd_tree', 'metric': 'chebyshev', 'n_neighbors': 44, 'weights': 'uniform'}\n",
      "0.429210 (0.023382) with: {'algorithm': 'kd_tree', 'metric': 'chebyshev', 'n_neighbors': 44, 'weights': 'distance'}\n",
      "0.344359 (0.027889) with: {'algorithm': 'kd_tree', 'metric': 'chebyshev', 'n_neighbors': 46, 'weights': 'uniform'}\n",
      "0.426045 (0.028802) with: {'algorithm': 'kd_tree', 'metric': 'chebyshev', 'n_neighbors': 46, 'weights': 'distance'}\n",
      "0.343281 (0.028078) with: {'algorithm': 'kd_tree', 'metric': 'chebyshev', 'n_neighbors': 48, 'weights': 'uniform'}\n",
      "0.426434 (0.026860) with: {'algorithm': 'kd_tree', 'metric': 'chebyshev', 'n_neighbors': 48, 'weights': 'distance'}\n"
     ]
    }
   ],
   "source": [
    "# summarize results\n",
    "print(\"Best: %f using %s\" % (k_grid_result.best_score_, k_grid_result.best_params_))\n",
    "means = k_grid_result.cv_results_['mean_test_score']\n",
    "stds = k_grid_result.cv_results_['std_test_score']\n",
    "params = k_grid_result.cv_results_['params']\n",
    "for mean, stdev, param in zip(means, stds, params):\n",
    "    print(\"%f (%f) with: %r\" % (mean, stdev, param))"
   ]
  },
  {
   "cell_type": "code",
   "execution_count": 90,
   "id": "41338b89",
   "metadata": {},
   "outputs": [
    {
     "data": {
      "text/plain": [
       "<AxesSubplot:>"
      ]
     },
     "execution_count": 90,
     "metadata": {},
     "output_type": "execute_result"
    },
    {
     "data": {
      "image/png": "[encoded data removed]",
      "text/plain": [
       "<Figure size 432x288 with 1 Axes>"
      ]
     },
     "metadata": {
      "needs_background": "light"
     },
     "output_type": "display_data"
    }
   ],
   "source": [
    "sns.lineplot(x=k_grid_result.cv_results_['param_n_neighbors'], y=k_grid_result.cv_results_['mean_test_score'])"
   ]
  },
  {
   "cell_type": "code",
   "execution_count": 92,
   "id": "fe51d6a4",
   "metadata": {},
   "outputs": [],
   "source": [
    "knn_tuned = KNeighborsClassifier(metric='euclidean', n_neighbors=10, weights='uniform', algorithm= 'kd_tree')"
   ]
  },
  {
   "cell_type": "code",
   "execution_count": 93,
   "id": "636ff5eb",
   "metadata": {},
   "outputs": [
    {
     "name": "stdout",
     "output_type": "stream",
     "text": [
      "              precision    recall  f1-score   support\n",
      "\n",
      "           B       0.54      0.59      0.57       110\n",
      "           C       0.91      0.91      0.91        56\n",
      "           G       0.59      0.63      0.61       129\n",
      "           R       0.61      0.63      0.62       126\n",
      "           U       0.63      0.57      0.60       108\n",
      "           W       0.63      0.56      0.59       120\n",
      "\n",
      "    accuracy                           0.63       649\n",
      "   macro avg       0.65      0.65      0.65       649\n",
      "weighted avg       0.63      0.63      0.63       649\n",
      "\n",
      "\n",
      "\n"
     ]
    },
    {
     "data": {
      "image/png": "[encoded data removed]",
      "text/plain": [
       "<Figure size 432x288 with 2 Axes>"
      ]
     },
     "metadata": {
      "needs_background": "light"
     },
     "output_type": "display_data"
    }
   ],
   "source": [
    "knn_tuned.fit(normalized_x_train,y_train)\n",
    "k_tuned_preds = knn_tuned.predict(normalized_x_test)\n",
    "\n",
    "get_test_results(y_test, k_tuned_preds, knn_tuned)"
   ]
  },
  {
   "cell_type": "code",
   "execution_count": null,
   "id": "e011700a",
   "metadata": {},
   "outputs": [],
   "source": []
  },
  {
   "cell_type": "code",
   "execution_count": null,
   "id": "4eafedf3",
   "metadata": {},
   "outputs": [],
   "source": []
  },
  {
   "cell_type": "markdown",
   "id": "6ae7ef4d",
   "metadata": {},
   "source": [
    "#### Decision Trees"
   ]
  },
  {
   "cell_type": "code",
   "execution_count": null,
   "id": "b532b0c6",
   "metadata": {},
   "outputs": [],
   "source": []
  },
  {
   "cell_type": "code",
   "execution_count": 94,
   "id": "1058744c",
   "metadata": {},
   "outputs": [],
   "source": [
    "dtree = DecisionTreeClassifier()"
   ]
  },
  {
   "cell_type": "code",
   "execution_count": 95,
   "id": "fca51c4c",
   "metadata": {},
   "outputs": [
    {
     "data": {
      "text/plain": [
       "DecisionTreeClassifier()"
      ]
     },
     "execution_count": 95,
     "metadata": {},
     "output_type": "execute_result"
    }
   ],
   "source": [
    "dtree.fit(normalized_x_train,y_train)"
   ]
  },
  {
   "cell_type": "code",
   "execution_count": 96,
   "id": "19a54104",
   "metadata": {},
   "outputs": [],
   "source": [
    "tree_preds = dtree.predict(X_test)"
   ]
  },
  {
   "cell_type": "code",
   "execution_count": 97,
   "id": "0735b626",
   "metadata": {},
   "outputs": [
    {
     "name": "stdout",
     "output_type": "stream",
     "text": [
      "              precision    recall  f1-score   support\n",
      "\n",
      "           B       0.52      0.51      0.52       110\n",
      "           C       0.93      0.91      0.92        56\n",
      "           G       0.63      0.52      0.57       129\n",
      "           R       0.62      0.36      0.45       126\n",
      "           U       0.32      0.69      0.44       108\n",
      "           W       0.71      0.44      0.54       120\n",
      "\n",
      "    accuracy                           0.53       649\n",
      "   macro avg       0.62      0.57      0.57       649\n",
      "weighted avg       0.60      0.53      0.54       649\n",
      "\n",
      "\n",
      "\n"
     ]
    },
    {
     "data": {
      "image/png": "[encoded data removed]",
      "text/plain": [
       "<Figure size 432x288 with 2 Axes>"
      ]
     },
     "metadata": {
      "needs_background": "light"
     },
     "output_type": "display_data"
    }
   ],
   "source": [
    "get_test_results(y_test, tree_preds, dtree)"
   ]
  },
  {
   "cell_type": "code",
   "execution_count": 103,
   "id": "37eeca4b",
   "metadata": {},
   "outputs": [],
   "source": [
    "# define models and parameters\n",
    "tree_model = DecisionTreeClassifier()\n",
    "criterion = ['gini', 'entropy']\n",
    "splitters = ['best', 'random']\n",
    "max_features = ['sqrt', 'log2']"
   ]
  },
  {
   "cell_type": "code",
   "execution_count": 104,
   "id": "6147aba4",
   "metadata": {},
   "outputs": [],
   "source": [
    "# define grid search\n",
    "tree_grid = dict(criterion=criterion, splitter=splitters, max_features=max_features)\n",
    "tree_cv = RepeatedStratifiedKFold(n_splits=10, n_repeats=5, random_state=1)\n",
    "tree_grid_search = GridSearchCV(estimator=tree_model, param_grid=tree_grid, n_jobs=1, cv=tree_cv, scoring='accuracy',error_score=0)\n",
    "tree_grid_result = tree_grid_search.fit(normalized_x_train, y_train)"
   ]
  },
  {
   "cell_type": "code",
   "execution_count": 105,
   "id": "0f8a7b0d",
   "metadata": {},
   "outputs": [
    {
     "name": "stdout",
     "output_type": "stream",
     "text": [
      "Best: 0.585349 using {'criterion': 'gini', 'max_features': 'sqrt', 'splitter': 'random'}\n",
      "0.579271 (0.031130) with: {'criterion': 'gini', 'max_features': 'sqrt', 'splitter': 'best'}\n",
      "0.585349 (0.029109) with: {'criterion': 'gini', 'max_features': 'sqrt', 'splitter': 'random'}\n",
      "0.559927 (0.027188) with: {'criterion': 'gini', 'max_features': 'log2', 'splitter': 'best'}\n",
      "0.575650 (0.030309) with: {'criterion': 'gini', 'max_features': 'log2', 'splitter': 'random'}\n",
      "0.563856 (0.032638) with: {'criterion': 'entropy', 'max_features': 'sqrt', 'splitter': 'best'}\n",
      "0.584820 (0.029410) with: {'criterion': 'entropy', 'max_features': 'sqrt', 'splitter': 'random'}\n",
      "0.550676 (0.029718) with: {'criterion': 'entropy', 'max_features': 'log2', 'splitter': 'best'}\n",
      "0.574022 (0.030675) with: {'criterion': 'entropy', 'max_features': 'log2', 'splitter': 'random'}\n"
     ]
    }
   ],
   "source": [
    "# summarize results\n",
    "print(\"Best: %f using %s\" % (tree_grid_result.best_score_, tree_grid_result.best_params_))\n",
    "means = tree_grid_result.cv_results_['mean_test_score']\n",
    "stds = tree_grid_result.cv_results_['std_test_score']\n",
    "params = tree_grid_result.cv_results_['params']\n",
    "for mean, stdev, param in zip(means, stds, params):\n",
    "    print(\"%f (%f) with: %r\" % (mean, stdev, param))"
   ]
  },
  {
   "cell_type": "code",
   "execution_count": 106,
   "id": "3ee29c52",
   "metadata": {},
   "outputs": [],
   "source": [
    "tree_tuned = DecisionTreeClassifier(criterion='gini', max_features='sqrt', splitter='random')"
   ]
  },
  {
   "cell_type": "code",
   "execution_count": 107,
   "id": "8a60c17b",
   "metadata": {},
   "outputs": [
    {
     "name": "stdout",
     "output_type": "stream",
     "text": [
      "              precision    recall  f1-score   support\n",
      "\n",
      "           B       0.53      0.50      0.52       110\n",
      "           C       0.94      0.91      0.93        56\n",
      "           G       0.55      0.57      0.56       129\n",
      "           R       0.52      0.60      0.56       126\n",
      "           U       0.60      0.56      0.58       108\n",
      "           W       0.56      0.53      0.54       120\n",
      "\n",
      "    accuracy                           0.58       649\n",
      "   macro avg       0.62      0.61      0.61       649\n",
      "weighted avg       0.59      0.58      0.58       649\n",
      "\n",
      "\n",
      "\n"
     ]
    },
    {
     "data": {
      "image/png": "[encoded data removed]",
      "text/plain": [
       "<Figure size 432x288 with 2 Axes>"
      ]
     },
     "metadata": {
      "needs_background": "light"
     },
     "output_type": "display_data"
    }
   ],
   "source": [
    "tree_tuned.fit(normalized_x_train,y_train)\n",
    "tree_tuned_preds = tree_tuned.predict(normalized_x_test)\n",
    "\n",
    "get_test_results(y_test, tree_tuned_preds, tree_tuned)"
   ]
  },
  {
   "cell_type": "code",
   "execution_count": null,
   "id": "6e9250a4",
   "metadata": {},
   "outputs": [],
   "source": []
  },
  {
   "cell_type": "code",
   "execution_count": 117,
   "id": "428d253a",
   "metadata": {},
   "outputs": [
    {
     "data": {
      "text/plain": [
       "RandomForestClassifier()"
      ]
     },
     "execution_count": 117,
     "metadata": {},
     "output_type": "execute_result"
    }
   ],
   "source": [
    "rfc = RandomForestClassifier()\n",
    "rfc.fit(normalized_x_train, y_train)"
   ]
  },
  {
   "cell_type": "code",
   "execution_count": 118,
   "id": "460889cd",
   "metadata": {},
   "outputs": [],
   "source": [
    "rfc_pred = rfc.predict(normalized_x_test)"
   ]
  },
  {
   "cell_type": "code",
   "execution_count": 119,
   "id": "d6bc6b60",
   "metadata": {},
   "outputs": [
    {
     "name": "stdout",
     "output_type": "stream",
     "text": [
      "              precision    recall  f1-score   support\n",
      "\n",
      "           B       0.61      0.54      0.57       110\n",
      "           C       0.92      0.98      0.95        56\n",
      "           G       0.60      0.69      0.64       129\n",
      "           R       0.66      0.71      0.68       126\n",
      "           U       0.67      0.59      0.63       108\n",
      "           W       0.63      0.60      0.62       120\n",
      "\n",
      "    accuracy                           0.66       649\n",
      "   macro avg       0.68      0.68      0.68       649\n",
      "weighted avg       0.66      0.66      0.66       649\n",
      "\n",
      "\n",
      "\n"
     ]
    },
    {
     "data": {
      "image/png": "[encoded data removed]",
      "text/plain": [
       "<Figure size 432x288 with 2 Axes>"
      ]
     },
     "metadata": {
      "needs_background": "light"
     },
     "output_type": "display_data"
    }
   ],
   "source": [
    "get_test_results(y_test, rfc_pred, rfc)"
   ]
  },
  {
   "cell_type": "code",
   "execution_count": 114,
   "id": "fe991866",
   "metadata": {},
   "outputs": [],
   "source": [
    "# define models and parameters\n",
    "forest_model = RandomForestClassifier()\n",
    "n_estimators = [10, 100, 1000]\n",
    "max_features = ['sqrt', 'log2']"
   ]
  },
  {
   "cell_type": "code",
   "execution_count": 115,
   "id": "2e6c1006",
   "metadata": {},
   "outputs": [],
   "source": [
    "# define grid search\n",
    "forest_grid = dict(criterion=criterion, n_estimators=n_estimators, max_features=max_features)\n",
    "forest_cv = RepeatedStratifiedKFold(n_splits=10, n_repeats=5, random_state=1)\n",
    "forest_grid_search = GridSearchCV(estimator=forest_model, param_grid=forest_grid, n_jobs=1, \n",
    "                                  cv=tree_cv, scoring='accuracy',error_score=0)\n",
    "forest_grid_result = forest_grid_search.fit(normalized_x_train, y_train)"
   ]
  },
  {
   "cell_type": "code",
   "execution_count": 116,
   "id": "30a02b53",
   "metadata": {},
   "outputs": [
    {
     "name": "stdout",
     "output_type": "stream",
     "text": [
      "Best: 0.676842 using {'criterion': 'gini', 'max_features': 'log2', 'n_estimators': 1000}\n",
      "0.639532 (0.029781) with: {'criterion': 'gini', 'max_features': 'sqrt', 'n_estimators': 10}\n",
      "0.665971 (0.026656) with: {'criterion': 'gini', 'max_features': 'sqrt', 'n_estimators': 100}\n",
      "0.669672 (0.025906) with: {'criterion': 'gini', 'max_features': 'sqrt', 'n_estimators': 1000}\n",
      "0.643556 (0.029995) with: {'criterion': 'gini', 'max_features': 'log2', 'n_estimators': 10}\n",
      "0.671525 (0.026876) with: {'criterion': 'gini', 'max_features': 'log2', 'n_estimators': 100}\n",
      "0.676842 (0.027046) with: {'criterion': 'gini', 'max_features': 'log2', 'n_estimators': 1000}\n",
      "0.640535 (0.029068) with: {'criterion': 'entropy', 'max_features': 'sqrt', 'n_estimators': 10}\n",
      "0.657726 (0.028351) with: {'criterion': 'entropy', 'max_features': 'sqrt', 'n_estimators': 100}\n",
      "0.664355 (0.025263) with: {'criterion': 'entropy', 'max_features': 'sqrt', 'n_estimators': 1000}\n",
      "0.641993 (0.029096) with: {'criterion': 'entropy', 'max_features': 'log2', 'n_estimators': 10}\n",
      "0.668368 (0.025320) with: {'criterion': 'entropy', 'max_features': 'log2', 'n_estimators': 100}\n",
      "0.673912 (0.025412) with: {'criterion': 'entropy', 'max_features': 'log2', 'n_estimators': 1000}\n"
     ]
    }
   ],
   "source": [
    "# summarize results\n",
    "print(\"Best: %f using %s\" % (forest_grid_result.best_score_, forest_grid_result.best_params_))\n",
    "means = forest_grid_result.cv_results_['mean_test_score']\n",
    "stds = forest_grid_result.cv_results_['std_test_score']\n",
    "params = forest_grid_result.cv_results_['params']\n",
    "for mean, stdev, param in zip(means, stds, params):\n",
    "    print(\"%f (%f) with: %r\" % (mean, stdev, param))"
   ]
  },
  {
   "cell_type": "code",
   "execution_count": 120,
   "id": "d93d8c4a",
   "metadata": {},
   "outputs": [],
   "source": [
    "forest_tuned = RandomForestClassifier(criterion='gini', max_features='log2', n_estimators=1000)"
   ]
  },
  {
   "cell_type": "code",
   "execution_count": 121,
   "id": "860318d1",
   "metadata": {},
   "outputs": [
    {
     "name": "stdout",
     "output_type": "stream",
     "text": [
      "              precision    recall  f1-score   support\n",
      "\n",
      "           B       0.65      0.56      0.60       110\n",
      "           C       0.92      0.96      0.94        56\n",
      "           G       0.63      0.70      0.66       129\n",
      "           R       0.66      0.73      0.69       126\n",
      "           U       0.65      0.61      0.63       108\n",
      "           W       0.64      0.60      0.62       120\n",
      "\n",
      "    accuracy                           0.67       649\n",
      "   macro avg       0.69      0.69      0.69       649\n",
      "weighted avg       0.67      0.67      0.67       649\n",
      "\n",
      "\n",
      "\n"
     ]
    },
    {
     "data": {
      "image/png": "[encoded data removed]",
      "text/plain": [
       "<Figure size 432x288 with 2 Axes>"
      ]
     },
     "metadata": {
      "needs_background": "light"
     },
     "output_type": "display_data"
    }
   ],
   "source": [
    "forest_tuned.fit(normalized_x_train,y_train)\n",
    "forest_tuned_preds = forest_tuned.predict(normalized_x_test)\n",
    "\n",
    "get_test_results(y_test, forest_tuned_preds, forest_tuned)"
   ]
  },
  {
   "cell_type": "code",
   "execution_count": null,
   "id": "b5acba31",
   "metadata": {},
   "outputs": [],
   "source": []
  },
  {
   "cell_type": "code",
   "execution_count": null,
   "id": "e3db96b0",
   "metadata": {},
   "outputs": [],
   "source": []
  },
  {
   "cell_type": "code",
   "execution_count": 144,
   "id": "70546ead",
   "metadata": {},
   "outputs": [
    {
     "data": {
      "image/png": "[encoded data removed]",
      "text/plain": [
       "<Figure size 1152x720 with 10 Axes>"
      ]
     },
     "metadata": {
      "needs_background": "light"
     },
     "output_type": "display_data"
    }
   ],
   "source": [
    "fig, axs = plt.subplots(2, 3, figsize=(16, 10))\n",
    "\n",
    "cm = confusion_matrix(y_test, grid_predictions, labels=grid_logmodel.classes_)\n",
    "disp = ConfusionMatrixDisplay(confusion_matrix=cm, display_labels=grid_logmodel.classes_)\n",
    "axs[0,0].set_title('Logistic Regression')\n",
    "disp.plot(ax = axs[0,0])\n",
    "\n",
    "cm = confusion_matrix(y_test, svc_preds, labels=svc_clf.classes_)\n",
    "disp = ConfusionMatrixDisplay(confusion_matrix=cm, display_labels=svc_clf.classes_)\n",
    "axs[0,1].set_title('Linear SVC')\n",
    "disp.plot(ax = axs[0,1])\n",
    "\n",
    "cm = confusion_matrix(y_test, k_tuned_preds, labels=knn_tuned.classes_)\n",
    "disp = ConfusionMatrixDisplay(confusion_matrix=cm, display_labels=knn_tuned.classes_)\n",
    "axs[0,2].set_title('K Nearest Neighbors')\n",
    "disp.plot(ax = axs[0,2])\n",
    "\n",
    "cm = confusion_matrix(y_test, tree_tuned_preds, labels=tree_tuned.classes_)\n",
    "disp = ConfusionMatrixDisplay(confusion_matrix=cm, display_labels=tree_tuned.classes_)\n",
    "axs[1,0].set_title('Decision Tree')\n",
    "disp.plot(ax = axs[1,0])\n",
    "\n",
    "cm = confusion_matrix(y_test, forest_tuned_preds, labels=forest_tuned.classes_)\n",
    "disp = ConfusionMatrixDisplay(confusion_matrix=cm, display_labels=forest_tuned.classes_)\n",
    "axs[1,1].set_title('Random Forest')\n",
    "disp.plot(ax = axs[1,1])\n",
    "\n",
    "plt.delaxes(axs[1, 2])\n",
    "\n",
    "plt.show()"
   ]
  },
  {
   "cell_type": "code",
   "execution_count": null,
   "id": "92359fd6",
   "metadata": {},
   "outputs": [],
   "source": []
  },
  {
   "cell_type": "markdown",
   "id": "d716472e",
   "metadata": {},
   "source": [
    "#### Majority Class Labels"
   ]
  },
  {
   "cell_type": "code",
   "execution_count": 145,
   "id": "d15c1b62",
   "metadata": {},
   "outputs": [],
   "source": [
    "clf1 = grid_logmodel"
   ]
  },
  {
   "cell_type": "code",
   "execution_count": 146,
   "id": "06ab075d",
   "metadata": {},
   "outputs": [],
   "source": [
    "clf2 = svc_clf"
   ]
  },
  {
   "cell_type": "code",
   "execution_count": 147,
   "id": "7185817a",
   "metadata": {},
   "outputs": [],
   "source": [
    "clf3 = forest_tuned"
   ]
  },
  {
   "cell_type": "code",
   "execution_count": 149,
   "id": "dc3484cd",
   "metadata": {},
   "outputs": [],
   "source": [
    "eclf = VotingClassifier(\n",
    "    estimators=[('lr', clf1), ('lsvc', clf2), ('rf', clf3)],\n",
    "    voting='hard'\n",
    ")"
   ]
  },
  {
   "cell_type": "code",
   "execution_count": 150,
   "id": "e96f0248",
   "metadata": {},
   "outputs": [
    {
     "name": "stdout",
     "output_type": "stream",
     "text": [
      "Accuracy: 0.72 (+/- 0.01) [Logistic Regression]\n",
      "Accuracy: 0.72 (+/- 0.01) [LinearSVC]\n",
      "Accuracy: 0.68 (+/- 0.02) [Random Forest]\n",
      "Accuracy: 0.72 (+/- 0.01) [Ensemble]\n"
     ]
    }
   ],
   "source": [
    "for clf, label in zip([clf1, clf2, clf3, eclf], ['Logistic Regression', 'LinearSVC', 'Random Forest', 'Ensemble']):\n",
    "    scores = cross_val_score(clf, normalized_x_train, y_train, scoring='accuracy', cv=5)\n",
    "    print('Accuracy: %0.2f (+/- %0.2f) [%s]' % (scores.mean(), scores.std(), label))"
   ]
  },
  {
   "cell_type": "code",
   "execution_count": 153,
   "id": "b8ec185a",
   "metadata": {},
   "outputs": [
    {
     "data": {
      "text/plain": [
       "VotingClassifier(estimators=[('lr',\n",
       "                              LogisticRegression(C=10, max_iter=5000,\n",
       "                                                 solver='liblinear')),\n",
       "                             ('lsvc', LinearSVC()),\n",
       "                             ('rf',\n",
       "                              RandomForestClassifier(max_features='log2',\n",
       "                                                     n_estimators=1000))])"
      ]
     },
     "execution_count": 153,
     "metadata": {},
     "output_type": "execute_result"
    }
   ],
   "source": [
    "eclf.fit(normalized_x_train, y_train)"
   ]
  },
  {
   "cell_type": "code",
   "execution_count": 154,
   "id": "175cdf04",
   "metadata": {},
   "outputs": [],
   "source": [
    "eclf_preds = eclf.predict(normalized_x_test)"
   ]
  },
  {
   "cell_type": "code",
   "execution_count": 155,
   "id": "ac964370",
   "metadata": {},
   "outputs": [
    {
     "name": "stdout",
     "output_type": "stream",
     "text": [
      "              precision    recall  f1-score   support\n",
      "\n",
      "           B       0.72      0.71      0.72       110\n",
      "           C       0.95      0.98      0.96        56\n",
      "           G       0.70      0.71      0.71       129\n",
      "           R       0.72      0.79      0.75       126\n",
      "           U       0.74      0.69      0.71       108\n",
      "           W       0.69      0.64      0.67       120\n",
      "\n",
      "    accuracy                           0.73       649\n",
      "   macro avg       0.75      0.76      0.75       649\n",
      "weighted avg       0.73      0.73      0.73       649\n",
      "\n",
      "\n",
      "\n"
     ]
    },
    {
     "data": {
      "image/png": "[encoded data removed]",
      "text/plain": [
       "<Figure size 432x288 with 2 Axes>"
      ]
     },
     "metadata": {
      "needs_background": "light"
     },
     "output_type": "display_data"
    }
   ],
   "source": [
    "get_test_results(y_test, eclf_preds, eclf)"
   ]
  },
  {
   "cell_type": "code",
   "execution_count": null,
   "id": "ddc90afc",
   "metadata": {},
   "outputs": [],
   "source": []
  },
  {
   "cell_type": "code",
   "execution_count": null,
   "id": "9d45ef5e",
   "metadata": {},
   "outputs": [],
   "source": []
  },
  {
   "cell_type": "code",
   "execution_count": null,
   "id": "8379e13d",
   "metadata": {},
   "outputs": [],
   "source": []
  },
  {
   "cell_type": "code",
   "execution_count": null,
   "id": "27456b86",
   "metadata": {},
   "outputs": [],
   "source": []
  }
 ],
 "metadata": {
  "kernelspec": {
   "display_name": "Python 3 (ipykernel)",
   "language": "python",
   "name": "python3"
  },
  "language_info": {
   "codemirror_mode": {
    "name": "ipython",
    "version": 3
   },
   "file_extension": ".py",
   "mimetype": "text/x-python",
   "name": "python",
   "nbconvert_exporter": "python",
   "pygments_lexer": "ipython3",
   "version": "3.9.7"
  }
 },
 "nbformat": 4,
 "nbformat_minor": 5
}
